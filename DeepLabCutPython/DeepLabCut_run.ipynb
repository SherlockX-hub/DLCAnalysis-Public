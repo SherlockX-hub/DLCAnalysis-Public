{
 "cells": [
  {
   "cell_type": "markdown",
   "metadata": {},
   "source": [
    "# DeepLabCut_run\n",
    "This pipeline is used to analyze the videos with multi-animals.\n",
    "\n",
    "Created by Xiang Zhang, 2021."
   ]
  },
  {
   "cell_type": "markdown",
   "metadata": {},
   "source": [
    "## Open iPython and import DeepLabCut"
   ]
  },
  {
   "cell_type": "code",
   "execution_count": null,
   "metadata": {
    "scrolled": false
   },
   "outputs": [],
   "source": [
    "conda activate dlc-windowsGPU"
   ]
  },
  {
   "cell_type": "code",
   "execution_count": null,
   "metadata": {},
   "outputs": [],
   "source": [
    "ipython"
   ]
  },
  {
   "cell_type": "markdown",
   "metadata": {},
   "source": [
    "## Import files and configuration files;"
   ]
  },
  {
   "cell_type": "code",
   "execution_count": 1,
   "metadata": {
    "scrolled": true
   },
   "outputs": [],
   "source": [
    "import os\n",
    "import tensorflow as tf\n",
    "import deeplabcut\n",
    "import datetime\n",
    "config = tf.ConfigProto()\n",
    "config.gpu_options.allow_growth = True\n",
    "session = tf.Session(config=config)\n",
    "#deeplabcut.launch_dlc()"
   ]
  },
  {
   "cell_type": "code",
   "execution_count": null,
   "metadata": {},
   "outputs": [],
   "source": [
    "import os\n",
    "import datetime\n",
    "import deeplabcut"
   ]
  },
  {
   "cell_type": "code",
   "execution_count": null,
   "metadata": {
    "scrolled": true
   },
   "outputs": [
    {
     "name": "stdout",
     "output_type": "stream",
     "text": [
      "You can now check the labels, using 'check_labels' before proceeding. Then, you can use the function 'create_training_dataset' to create the training dataset.\n"
     ]
    }
   ],
   "source": [
    "deeplabcut.launch_dlc()"
   ]
  },
  {
   "cell_type": "markdown",
   "metadata": {},
   "source": [
    "## Create a new project;"
   ]
  },
  {
   "cell_type": "code",
   "execution_count": null,
   "metadata": {},
   "outputs": [],
   "source": [
    "# deeplabcut.create_new_project('Name of the project','Name of the experimenter',['Full path of video 1','Full path of video2',...],\n",
    "# ... working_directory='Full path of the working directory',copy_videos=True/False)\n",
    "deeplabcut.create_new_project(project, 'ZX', videos, working_directory=r'D:\\Calcuim_Imaing_Code\\Deeplabcut', copy_videos=False,videotype='.avi')\n",
    "deeplabcut.create_new_project('project_name','experimenter', ['path of video 1','path of video2',...])"
   ]
  },
  {
   "cell_type": "code",
   "execution_count": 8,
   "metadata": {
    "scrolled": true
   },
   "outputs": [
    {
     "name": "stdout",
     "output_type": "stream",
     "text": [
      "Created \"D:\\DeepLabCut\\11122_2022112702-ZX-2022-12-10\\videos\"\n",
      "Created \"D:\\DeepLabCut\\11122_2022112702-ZX-2022-12-10\\labeled-data\"\n",
      "Created \"D:\\DeepLabCut\\11122_2022112702-ZX-2022-12-10\\training-datasets\"\n",
      "Created \"D:\\DeepLabCut\\11122_2022112702-ZX-2022-12-10\\dlc-models\"\n",
      "Attempting to create a symbolic link of the video ...\n",
      "Created the symlink of D:\\Chase\\11122\\20221127\\2022112702\\My_WebCam\\0.avi to D:\\DeepLabCut\\11122_2022112702-ZX-2022-12-10\\videos\\0.avi\n",
      "Created the symlink of D:\\Chase\\11122\\20221127\\2022112702\\My_WebCam\\1.avi to D:\\DeepLabCut\\11122_2022112702-ZX-2022-12-10\\videos\\1.avi\n",
      "Created the symlink of D:\\Chase\\11122\\20221127\\2022112702\\My_WebCam\\2.avi to D:\\DeepLabCut\\11122_2022112702-ZX-2022-12-10\\videos\\2.avi\n",
      "Created the symlink of D:\\Chase\\11122\\20221127\\2022112702\\My_WebCam\\3.avi to D:\\DeepLabCut\\11122_2022112702-ZX-2022-12-10\\videos\\3.avi\n",
      "Created the symlink of D:\\Chase\\11122\\20221127\\2022112702\\My_WebCam\\4.avi to D:\\DeepLabCut\\11122_2022112702-ZX-2022-12-10\\videos\\4.avi\n",
      "Created the symlink of D:\\Chase\\11122\\20221127\\2022112702\\My_WebCam\\5.avi to D:\\DeepLabCut\\11122_2022112702-ZX-2022-12-10\\videos\\5.avi\n",
      "Created the symlink of D:\\Chase\\11122\\20221127\\2022112702\\My_WebCam\\6.avi to D:\\DeepLabCut\\11122_2022112702-ZX-2022-12-10\\videos\\6.avi\n",
      "Created the symlink of D:\\Chase\\11122\\20221127\\2022112702\\My_WebCam\\7.avi to D:\\DeepLabCut\\11122_2022112702-ZX-2022-12-10\\videos\\7.avi\n",
      "Created the symlink of D:\\Chase\\11122\\20221127\\2022112702\\My_WebCam\\8.avi to D:\\DeepLabCut\\11122_2022112702-ZX-2022-12-10\\videos\\8.avi\n",
      "Created the symlink of D:\\Chase\\11122\\20221127\\2022112702\\My_WebCam\\9.avi to D:\\DeepLabCut\\11122_2022112702-ZX-2022-12-10\\videos\\9.avi\n",
      "D:\\DeepLabCut\\11122_2022112702-ZX-2022-12-10\\videos\\0.avi\n",
      "D:\\DeepLabCut\\11122_2022112702-ZX-2022-12-10\\videos\\1.avi\n",
      "D:\\DeepLabCut\\11122_2022112702-ZX-2022-12-10\\videos\\2.avi\n",
      "D:\\DeepLabCut\\11122_2022112702-ZX-2022-12-10\\videos\\3.avi\n",
      "D:\\DeepLabCut\\11122_2022112702-ZX-2022-12-10\\videos\\4.avi\n",
      "D:\\DeepLabCut\\11122_2022112702-ZX-2022-12-10\\videos\\5.avi\n",
      "D:\\DeepLabCut\\11122_2022112702-ZX-2022-12-10\\videos\\6.avi\n",
      "D:\\DeepLabCut\\11122_2022112702-ZX-2022-12-10\\videos\\7.avi\n",
      "D:\\DeepLabCut\\11122_2022112702-ZX-2022-12-10\\videos\\8.avi\n",
      "D:\\DeepLabCut\\11122_2022112702-ZX-2022-12-10\\videos\\9.avi\n",
      "Generated \"D:\\DeepLabCut\\11122_2022112702-ZX-2022-12-10\\config.yaml\"\n",
      "\n",
      "A new project with name 11122_2022112702-ZX-2022-12-10 is created at D:\\DeepLabCut and a configurable file (config.yaml) is stored there. Change the parameters in this file to adapt to your project's needs.\n",
      " Once you have changed the configuration file, use the function 'extract_frames' to select frames for labeling.\n",
      ". [OPTIONAL] Use the function 'add_new_videos' to add new videos to your project (at any stage).\n"
     ]
    },
    {
     "data": {
      "text/plain": [
       "'D:\\\\DeepLabCut\\\\11122_2022112702-ZX-2022-12-10\\\\config.yaml'"
      ]
     },
     "execution_count": 8,
     "metadata": {},
     "output_type": "execute_result"
    }
   ],
   "source": [
    "project = '11122_2022112702';\n",
    "videoPath = r'D:\\Chase\\11122\\20221127\\2022112702\\My_WebCam'\n",
    "videoID = []\n",
    "for video_i in range(5, 15):\n",
    "    videoID.append(videoPath + '\\\\' + str(video_i) + '.avi')\n",
    "\n",
    "config_path = deeplabcut.create_new_project(project, 'ZX', videoID, working_directory = r'D:\\DeepLabCut', copy_videos = False, videotype = '.avi')"
   ]
  },
  {
   "cell_type": "code",
   "execution_count": null,
   "metadata": {},
   "outputs": [],
   "source": [
    "project = '39-20221204-2_ma';\n",
    "videoPath = r'D:\\XQR\\Social\\39#\\39-20221204-2\\MiceVideo2\\MiceVideo'\n",
    "videoID = []\n",
    "fileNames = os.listdir(videoPath)\n",
    "for filename in fileNames:\n",
    "    if os.path.splitext(filename)[1] == '.avi':\n",
    "        videoID.append(videoPath + '\\\\' + filename)\n",
    "\n",
    "config_path = deeplabcut.create_new_project(project, 'ZX', videoID, working_directory = r'D:\\DeepLabCut', copy_videos = False, videotype = '.avi')\n",
    "print(config_path)"
   ]
  },
  {
   "cell_type": "code",
   "execution_count": null,
   "metadata": {},
   "outputs": [],
   "source": [
    "deeplabcut.add_new_videos('Full path of the project configuration file',['full path of video 4','full path of video 5'],copy_videos=True/False)"
   ]
  },
  {
   "cell_type": "markdown",
   "metadata": {},
   "source": [
    "## Set a config_path variable for ease of use;"
   ]
  },
  {
   "cell_type": "code",
   "execution_count": 2,
   "metadata": {},
   "outputs": [],
   "source": [
    "config_path = r'D:\\DeepLabCut\\11122_2022112702-ZX-2022-12-10\\config.yaml'"
   ]
  },
  {
   "cell_type": "code",
   "execution_count": 4,
   "metadata": {},
   "outputs": [
    {
     "data": {
      "text/plain": [
       "'D:\\\\DeepLabCut\\\\10118_2021111701-ZX-2021-12-31\\\\config.yaml'"
      ]
     },
     "execution_count": 4,
     "metadata": {},
     "output_type": "execute_result"
    }
   ],
   "source": [
    "config_path"
   ]
  },
  {
   "cell_type": "code",
   "execution_count": 4,
   "metadata": {},
   "outputs": [
    {
     "data": {
      "text/plain": [
       "0"
      ]
     },
     "execution_count": 4,
     "metadata": {},
     "output_type": "execute_result"
    }
   ],
   "source": [
    "os.system(config_path)"
   ]
  },
  {
   "cell_type": "code",
   "execution_count": 10,
   "metadata": {},
   "outputs": [],
   "source": [
    "edits = {\n",
    "    'bodyparts': ['R', 'B', 'other'], #'G', \n",
    "    'numframes2pick': 10,\n",
    "    # 'individuals': ['mickey', 'minnie', 'bianca'],\n",
    "    'skeleton': [['R', 'B']],\n",
    "    'skeleton_color': 'white',\n",
    "    'dotsize': 2,\n",
    "    # 'colormap': 'jet_r'\n",
    "}"
   ]
  },
  {
   "cell_type": "code",
   "execution_count": 11,
   "metadata": {
    "scrolled": false
   },
   "outputs": [
    {
     "data": {
      "text/plain": [
       "ordereddict([('Task', '11122_2022112702'), ('scorer', 'ZX'), ('date', 'Dec10'), ('multianimalproject', False), ('project_path', 'D:\\\\DeepLabCut\\\\11122_2022112702-ZX-2022-12-10'), ('video_sets', ordereddict([('D:\\\\Chase\\\\11122\\\\20221127\\\\2022112702\\\\My_WebCam\\\\0.avi', ordereddict([('crop', '0, 484, 0, 474')])), ('D:\\\\Chase\\\\11122\\\\20221127\\\\2022112702\\\\My_WebCam\\\\1.avi', ordereddict([('crop', '0, 484, 0, 474')])), ('D:\\\\Chase\\\\11122\\\\20221127\\\\2022112702\\\\My_WebCam\\\\2.avi', ordereddict([('crop', '0, 484, 0, 474')])), ('D:\\\\Chase\\\\11122\\\\20221127\\\\2022112702\\\\My_WebCam\\\\3.avi', ordereddict([('crop', '0, 484, 0, 474')])), ('D:\\\\Chase\\\\11122\\\\20221127\\\\2022112702\\\\My_WebCam\\\\4.avi', ordereddict([('crop', '0, 484, 0, 474')])), ('D:\\\\Chase\\\\11122\\\\20221127\\\\2022112702\\\\My_WebCam\\\\5.avi', ordereddict([('crop', '0, 484, 0, 474')])), ('D:\\\\Chase\\\\11122\\\\20221127\\\\2022112702\\\\My_WebCam\\\\6.avi', ordereddict([('crop', '0, 484, 0, 474')])), ('D:\\\\Chase\\\\11122\\\\20221127\\\\2022112702\\\\My_WebCam\\\\7.avi', ordereddict([('crop', '0, 484, 0, 474')])), ('D:\\\\Chase\\\\11122\\\\20221127\\\\2022112702\\\\My_WebCam\\\\8.avi', ordereddict([('crop', '0, 484, 0, 474')])), ('D:\\\\Chase\\\\11122\\\\20221127\\\\2022112702\\\\My_WebCam\\\\9.avi', ordereddict([('crop', '0, 484, 0, 474')]))])), ('bodyparts', ['R', 'B', 'other']), ('start', 0), ('stop', 1), ('numframes2pick', 10), ('skeleton', [['R', 'B']]), ('skeleton_color', 'white'), ('pcutoff', 0.6), ('dotsize', 2), ('alphavalue', 0.7), ('colormap', 'plasma'), ('TrainingFraction', [0.95]), ('iteration', 0), ('default_net_type', 'resnet_50'), ('default_augmenter', 'default'), ('snapshotindex', -1), ('batch_size', 8), ('cropping', False), ('croppedtraining', False), ('x1', 0), ('x2', 640), ('y1', 277), ('y2', 624), ('corner2move2', [50, 50]), ('move2corner', True)])"
      ]
     },
     "execution_count": 11,
     "metadata": {},
     "output_type": "execute_result"
    }
   ],
   "source": [
    "deeplabcut.auxiliaryfunctions.edit_config(config_path, edits)"
   ]
  },
  {
   "cell_type": "markdown",
   "metadata": {},
   "source": [
    "## Extract frames;"
   ]
  },
  {
   "cell_type": "code",
   "execution_count": 12,
   "metadata": {
    "scrolled": true
   },
   "outputs": [
    {
     "name": "stderr",
     "output_type": "stream",
     "text": [
      "7it [00:00, 66.21it/s]"
     ]
    },
    {
     "name": "stdout",
     "output_type": "stream",
     "text": [
      "Config file read successfully.\n",
      "Extracting frames based on kmeans ...\n",
      "Kmeans-quantization based extracting of frames from 0.0  seconds to 16.67  seconds.\n",
      "Extracting and downsampling... 1000  frames from the video.\n"
     ]
    },
    {
     "name": "stderr",
     "output_type": "stream",
     "text": [
      "1000it [00:07, 132.08it/s]\n"
     ]
    },
    {
     "name": "stdout",
     "output_type": "stream",
     "text": [
      "Kmeans clustering ... (this might take a while)\n"
     ]
    },
    {
     "name": "stderr",
     "output_type": "stream",
     "text": [
      "C:\\Users\\MiaoLab-Blackrock\\anaconda3\\envs\\DLC-GPU\\lib\\site-packages\\deeplabcut\\generate_training_dataset\\frame_extraction.py:354: UserWarning: D:\\DeepLabCut\\11122_2022112702-ZX-2022-12-10\\labeled-data\\0/img869.png is a low contrast image\n",
      "  io.imsave(img_name, image)\n",
      "C:\\Users\\MiaoLab-Blackrock\\anaconda3\\envs\\DLC-GPU\\lib\\site-packages\\deeplabcut\\generate_training_dataset\\frame_extraction.py:354: UserWarning: D:\\DeepLabCut\\11122_2022112702-ZX-2022-12-10\\labeled-data\\0/img896.png is a low contrast image\n",
      "  io.imsave(img_name, image)\n",
      "C:\\Users\\MiaoLab-Blackrock\\anaconda3\\envs\\DLC-GPU\\lib\\site-packages\\deeplabcut\\generate_training_dataset\\frame_extraction.py:354: UserWarning: D:\\DeepLabCut\\11122_2022112702-ZX-2022-12-10\\labeled-data\\0/img622.png is a low contrast image\n",
      "  io.imsave(img_name, image)\n",
      "C:\\Users\\MiaoLab-Blackrock\\anaconda3\\envs\\DLC-GPU\\lib\\site-packages\\deeplabcut\\generate_training_dataset\\frame_extraction.py:354: UserWarning: D:\\DeepLabCut\\11122_2022112702-ZX-2022-12-10\\labeled-data\\0/img707.png is a low contrast image\n",
      "  io.imsave(img_name, image)\n",
      "C:\\Users\\MiaoLab-Blackrock\\anaconda3\\envs\\DLC-GPU\\lib\\site-packages\\deeplabcut\\generate_training_dataset\\frame_extraction.py:354: UserWarning: D:\\DeepLabCut\\11122_2022112702-ZX-2022-12-10\\labeled-data\\0/img224.png is a low contrast image\n",
      "  io.imsave(img_name, image)\n",
      "C:\\Users\\MiaoLab-Blackrock\\anaconda3\\envs\\DLC-GPU\\lib\\site-packages\\deeplabcut\\generate_training_dataset\\frame_extraction.py:354: UserWarning: D:\\DeepLabCut\\11122_2022112702-ZX-2022-12-10\\labeled-data\\0/img192.png is a low contrast image\n",
      "  io.imsave(img_name, image)\n",
      "C:\\Users\\MiaoLab-Blackrock\\anaconda3\\envs\\DLC-GPU\\lib\\site-packages\\deeplabcut\\generate_training_dataset\\frame_extraction.py:354: UserWarning: D:\\DeepLabCut\\11122_2022112702-ZX-2022-12-10\\labeled-data\\0/img600.png is a low contrast image\n",
      "  io.imsave(img_name, image)\n",
      "C:\\Users\\MiaoLab-Blackrock\\anaconda3\\envs\\DLC-GPU\\lib\\site-packages\\deeplabcut\\generate_training_dataset\\frame_extraction.py:354: UserWarning: D:\\DeepLabCut\\11122_2022112702-ZX-2022-12-10\\labeled-data\\0/img873.png is a low contrast image\n",
      "  io.imsave(img_name, image)\n",
      "C:\\Users\\MiaoLab-Blackrock\\anaconda3\\envs\\DLC-GPU\\lib\\site-packages\\deeplabcut\\generate_training_dataset\\frame_extraction.py:354: UserWarning: D:\\DeepLabCut\\11122_2022112702-ZX-2022-12-10\\labeled-data\\0/img086.png is a low contrast image\n",
      "  io.imsave(img_name, image)\n",
      "C:\\Users\\MiaoLab-Blackrock\\anaconda3\\envs\\DLC-GPU\\lib\\site-packages\\deeplabcut\\generate_training_dataset\\frame_extraction.py:354: UserWarning: D:\\DeepLabCut\\11122_2022112702-ZX-2022-12-10\\labeled-data\\0/img255.png is a low contrast image\n",
      "  io.imsave(img_name, image)\n",
      "7it [00:00, 62.41it/s]"
     ]
    },
    {
     "name": "stdout",
     "output_type": "stream",
     "text": [
      "Extracting frames based on kmeans ...\n",
      "Kmeans-quantization based extracting of frames from 0.0  seconds to 16.67  seconds.\n",
      "Extracting and downsampling... 1000  frames from the video.\n"
     ]
    },
    {
     "name": "stderr",
     "output_type": "stream",
     "text": [
      "1000it [00:07, 133.06it/s]\n"
     ]
    },
    {
     "name": "stdout",
     "output_type": "stream",
     "text": [
      "Kmeans clustering ... (this might take a while)\n"
     ]
    },
    {
     "name": "stderr",
     "output_type": "stream",
     "text": [
      "C:\\Users\\MiaoLab-Blackrock\\anaconda3\\envs\\DLC-GPU\\lib\\site-packages\\deeplabcut\\generate_training_dataset\\frame_extraction.py:354: UserWarning: D:\\DeepLabCut\\11122_2022112702-ZX-2022-12-10\\labeled-data\\1/img247.png is a low contrast image\n",
      "  io.imsave(img_name, image)\n",
      "C:\\Users\\MiaoLab-Blackrock\\anaconda3\\envs\\DLC-GPU\\lib\\site-packages\\deeplabcut\\generate_training_dataset\\frame_extraction.py:354: UserWarning: D:\\DeepLabCut\\11122_2022112702-ZX-2022-12-10\\labeled-data\\1/img800.png is a low contrast image\n",
      "  io.imsave(img_name, image)\n",
      "C:\\Users\\MiaoLab-Blackrock\\anaconda3\\envs\\DLC-GPU\\lib\\site-packages\\deeplabcut\\generate_training_dataset\\frame_extraction.py:354: UserWarning: D:\\DeepLabCut\\11122_2022112702-ZX-2022-12-10\\labeled-data\\1/img141.png is a low contrast image\n",
      "  io.imsave(img_name, image)\n",
      "C:\\Users\\MiaoLab-Blackrock\\anaconda3\\envs\\DLC-GPU\\lib\\site-packages\\deeplabcut\\generate_training_dataset\\frame_extraction.py:354: UserWarning: D:\\DeepLabCut\\11122_2022112702-ZX-2022-12-10\\labeled-data\\1/img601.png is a low contrast image\n",
      "  io.imsave(img_name, image)\n",
      "C:\\Users\\MiaoLab-Blackrock\\anaconda3\\envs\\DLC-GPU\\lib\\site-packages\\deeplabcut\\generate_training_dataset\\frame_extraction.py:354: UserWarning: D:\\DeepLabCut\\11122_2022112702-ZX-2022-12-10\\labeled-data\\1/img080.png is a low contrast image\n",
      "  io.imsave(img_name, image)\n",
      "C:\\Users\\MiaoLab-Blackrock\\anaconda3\\envs\\DLC-GPU\\lib\\site-packages\\deeplabcut\\generate_training_dataset\\frame_extraction.py:354: UserWarning: D:\\DeepLabCut\\11122_2022112702-ZX-2022-12-10\\labeled-data\\1/img684.png is a low contrast image\n",
      "  io.imsave(img_name, image)\n",
      "C:\\Users\\MiaoLab-Blackrock\\anaconda3\\envs\\DLC-GPU\\lib\\site-packages\\deeplabcut\\generate_training_dataset\\frame_extraction.py:354: UserWarning: D:\\DeepLabCut\\11122_2022112702-ZX-2022-12-10\\labeled-data\\1/img507.png is a low contrast image\n",
      "  io.imsave(img_name, image)\n",
      "C:\\Users\\MiaoLab-Blackrock\\anaconda3\\envs\\DLC-GPU\\lib\\site-packages\\deeplabcut\\generate_training_dataset\\frame_extraction.py:354: UserWarning: D:\\DeepLabCut\\11122_2022112702-ZX-2022-12-10\\labeled-data\\1/img468.png is a low contrast image\n",
      "  io.imsave(img_name, image)\n",
      "C:\\Users\\MiaoLab-Blackrock\\anaconda3\\envs\\DLC-GPU\\lib\\site-packages\\deeplabcut\\generate_training_dataset\\frame_extraction.py:354: UserWarning: D:\\DeepLabCut\\11122_2022112702-ZX-2022-12-10\\labeled-data\\1/img632.png is a low contrast image\n",
      "  io.imsave(img_name, image)\n",
      "C:\\Users\\MiaoLab-Blackrock\\anaconda3\\envs\\DLC-GPU\\lib\\site-packages\\deeplabcut\\generate_training_dataset\\frame_extraction.py:354: UserWarning: D:\\DeepLabCut\\11122_2022112702-ZX-2022-12-10\\labeled-data\\1/img735.png is a low contrast image\n",
      "  io.imsave(img_name, image)\n",
      "7it [00:00, 68.14it/s]"
     ]
    },
    {
     "name": "stdout",
     "output_type": "stream",
     "text": [
      "Extracting frames based on kmeans ...\n",
      "Kmeans-quantization based extracting of frames from 0.0  seconds to 16.67  seconds.\n",
      "Extracting and downsampling... 1000  frames from the video.\n"
     ]
    },
    {
     "name": "stderr",
     "output_type": "stream",
     "text": [
      "1000it [00:07, 133.91it/s]\n"
     ]
    },
    {
     "name": "stdout",
     "output_type": "stream",
     "text": [
      "Kmeans clustering ... (this might take a while)\n"
     ]
    },
    {
     "name": "stderr",
     "output_type": "stream",
     "text": [
      "C:\\Users\\MiaoLab-Blackrock\\anaconda3\\envs\\DLC-GPU\\lib\\site-packages\\deeplabcut\\generate_training_dataset\\frame_extraction.py:354: UserWarning: D:\\DeepLabCut\\11122_2022112702-ZX-2022-12-10\\labeled-data\\2/img461.png is a low contrast image\n",
      "  io.imsave(img_name, image)\n",
      "C:\\Users\\MiaoLab-Blackrock\\anaconda3\\envs\\DLC-GPU\\lib\\site-packages\\deeplabcut\\generate_training_dataset\\frame_extraction.py:354: UserWarning: D:\\DeepLabCut\\11122_2022112702-ZX-2022-12-10\\labeled-data\\2/img628.png is a low contrast image\n",
      "  io.imsave(img_name, image)\n",
      "C:\\Users\\MiaoLab-Blackrock\\anaconda3\\envs\\DLC-GPU\\lib\\site-packages\\deeplabcut\\generate_training_dataset\\frame_extraction.py:354: UserWarning: D:\\DeepLabCut\\11122_2022112702-ZX-2022-12-10\\labeled-data\\2/img713.png is a low contrast image\n",
      "  io.imsave(img_name, image)\n",
      "C:\\Users\\MiaoLab-Blackrock\\anaconda3\\envs\\DLC-GPU\\lib\\site-packages\\deeplabcut\\generate_training_dataset\\frame_extraction.py:354: UserWarning: D:\\DeepLabCut\\11122_2022112702-ZX-2022-12-10\\labeled-data\\2/img167.png is a low contrast image\n",
      "  io.imsave(img_name, image)\n",
      "C:\\Users\\MiaoLab-Blackrock\\anaconda3\\envs\\DLC-GPU\\lib\\site-packages\\deeplabcut\\generate_training_dataset\\frame_extraction.py:354: UserWarning: D:\\DeepLabCut\\11122_2022112702-ZX-2022-12-10\\labeled-data\\2/img976.png is a low contrast image\n",
      "  io.imsave(img_name, image)\n",
      "C:\\Users\\MiaoLab-Blackrock\\anaconda3\\envs\\DLC-GPU\\lib\\site-packages\\deeplabcut\\generate_training_dataset\\frame_extraction.py:354: UserWarning: D:\\DeepLabCut\\11122_2022112702-ZX-2022-12-10\\labeled-data\\2/img295.png is a low contrast image\n",
      "  io.imsave(img_name, image)\n",
      "C:\\Users\\MiaoLab-Blackrock\\anaconda3\\envs\\DLC-GPU\\lib\\site-packages\\deeplabcut\\generate_training_dataset\\frame_extraction.py:354: UserWarning: D:\\DeepLabCut\\11122_2022112702-ZX-2022-12-10\\labeled-data\\2/img130.png is a low contrast image\n",
      "  io.imsave(img_name, image)\n",
      "C:\\Users\\MiaoLab-Blackrock\\anaconda3\\envs\\DLC-GPU\\lib\\site-packages\\deeplabcut\\generate_training_dataset\\frame_extraction.py:354: UserWarning: D:\\DeepLabCut\\11122_2022112702-ZX-2022-12-10\\labeled-data\\2/img222.png is a low contrast image\n",
      "  io.imsave(img_name, image)\n",
      "C:\\Users\\MiaoLab-Blackrock\\anaconda3\\envs\\DLC-GPU\\lib\\site-packages\\deeplabcut\\generate_training_dataset\\frame_extraction.py:354: UserWarning: D:\\DeepLabCut\\11122_2022112702-ZX-2022-12-10\\labeled-data\\2/img601.png is a low contrast image\n",
      "  io.imsave(img_name, image)\n",
      "C:\\Users\\MiaoLab-Blackrock\\anaconda3\\envs\\DLC-GPU\\lib\\site-packages\\deeplabcut\\generate_training_dataset\\frame_extraction.py:354: UserWarning: D:\\DeepLabCut\\11122_2022112702-ZX-2022-12-10\\labeled-data\\2/img491.png is a low contrast image\n",
      "  io.imsave(img_name, image)\n",
      "7it [00:00, 63.39it/s]"
     ]
    },
    {
     "name": "stdout",
     "output_type": "stream",
     "text": [
      "Extracting frames based on kmeans ...\n",
      "Kmeans-quantization based extracting of frames from 0.0  seconds to 16.67  seconds.\n",
      "Extracting and downsampling... 1000  frames from the video.\n"
     ]
    },
    {
     "name": "stderr",
     "output_type": "stream",
     "text": [
      "1000it [00:07, 134.60it/s]\n"
     ]
    },
    {
     "name": "stdout",
     "output_type": "stream",
     "text": [
      "Kmeans clustering ... (this might take a while)\n"
     ]
    },
    {
     "name": "stderr",
     "output_type": "stream",
     "text": [
      "C:\\Users\\MiaoLab-Blackrock\\anaconda3\\envs\\DLC-GPU\\lib\\site-packages\\deeplabcut\\generate_training_dataset\\frame_extraction.py:354: UserWarning: D:\\DeepLabCut\\11122_2022112702-ZX-2022-12-10\\labeled-data\\3/img734.png is a low contrast image\n",
      "  io.imsave(img_name, image)\n",
      "C:\\Users\\MiaoLab-Blackrock\\anaconda3\\envs\\DLC-GPU\\lib\\site-packages\\deeplabcut\\generate_training_dataset\\frame_extraction.py:354: UserWarning: D:\\DeepLabCut\\11122_2022112702-ZX-2022-12-10\\labeled-data\\3/img597.png is a low contrast image\n",
      "  io.imsave(img_name, image)\n",
      "C:\\Users\\MiaoLab-Blackrock\\anaconda3\\envs\\DLC-GPU\\lib\\site-packages\\deeplabcut\\generate_training_dataset\\frame_extraction.py:354: UserWarning: D:\\DeepLabCut\\11122_2022112702-ZX-2022-12-10\\labeled-data\\3/img945.png is a low contrast image\n",
      "  io.imsave(img_name, image)\n",
      "C:\\Users\\MiaoLab-Blackrock\\anaconda3\\envs\\DLC-GPU\\lib\\site-packages\\deeplabcut\\generate_training_dataset\\frame_extraction.py:354: UserWarning: D:\\DeepLabCut\\11122_2022112702-ZX-2022-12-10\\labeled-data\\3/img349.png is a low contrast image\n",
      "  io.imsave(img_name, image)\n",
      "C:\\Users\\MiaoLab-Blackrock\\anaconda3\\envs\\DLC-GPU\\lib\\site-packages\\deeplabcut\\generate_training_dataset\\frame_extraction.py:354: UserWarning: D:\\DeepLabCut\\11122_2022112702-ZX-2022-12-10\\labeled-data\\3/img975.png is a low contrast image\n",
      "  io.imsave(img_name, image)\n",
      "C:\\Users\\MiaoLab-Blackrock\\anaconda3\\envs\\DLC-GPU\\lib\\site-packages\\deeplabcut\\generate_training_dataset\\frame_extraction.py:354: UserWarning: D:\\DeepLabCut\\11122_2022112702-ZX-2022-12-10\\labeled-data\\3/img231.png is a low contrast image\n",
      "  io.imsave(img_name, image)\n",
      "C:\\Users\\MiaoLab-Blackrock\\anaconda3\\envs\\DLC-GPU\\lib\\site-packages\\deeplabcut\\generate_training_dataset\\frame_extraction.py:354: UserWarning: D:\\DeepLabCut\\11122_2022112702-ZX-2022-12-10\\labeled-data\\3/img919.png is a low contrast image\n",
      "  io.imsave(img_name, image)\n",
      "C:\\Users\\MiaoLab-Blackrock\\anaconda3\\envs\\DLC-GPU\\lib\\site-packages\\deeplabcut\\generate_training_dataset\\frame_extraction.py:354: UserWarning: D:\\DeepLabCut\\11122_2022112702-ZX-2022-12-10\\labeled-data\\3/img276.png is a low contrast image\n",
      "  io.imsave(img_name, image)\n",
      "C:\\Users\\MiaoLab-Blackrock\\anaconda3\\envs\\DLC-GPU\\lib\\site-packages\\deeplabcut\\generate_training_dataset\\frame_extraction.py:354: UserWarning: D:\\DeepLabCut\\11122_2022112702-ZX-2022-12-10\\labeled-data\\3/img875.png is a low contrast image\n",
      "  io.imsave(img_name, image)\n",
      "C:\\Users\\MiaoLab-Blackrock\\anaconda3\\envs\\DLC-GPU\\lib\\site-packages\\deeplabcut\\generate_training_dataset\\frame_extraction.py:354: UserWarning: D:\\DeepLabCut\\11122_2022112702-ZX-2022-12-10\\labeled-data\\3/img899.png is a low contrast image\n",
      "  io.imsave(img_name, image)\n",
      "7it [00:00, 61.87it/s]"
     ]
    },
    {
     "name": "stdout",
     "output_type": "stream",
     "text": [
      "Extracting frames based on kmeans ...\n",
      "Kmeans-quantization based extracting of frames from 0.0  seconds to 16.67  seconds.\n",
      "Extracting and downsampling... 1000  frames from the video.\n"
     ]
    },
    {
     "name": "stderr",
     "output_type": "stream",
     "text": [
      "1000it [00:07, 134.05it/s]\n"
     ]
    },
    {
     "name": "stdout",
     "output_type": "stream",
     "text": [
      "Kmeans clustering ... (this might take a while)\n"
     ]
    },
    {
     "name": "stderr",
     "output_type": "stream",
     "text": [
      "C:\\Users\\MiaoLab-Blackrock\\anaconda3\\envs\\DLC-GPU\\lib\\site-packages\\deeplabcut\\generate_training_dataset\\frame_extraction.py:354: UserWarning: D:\\DeepLabCut\\11122_2022112702-ZX-2022-12-10\\labeled-data\\4/img148.png is a low contrast image\n",
      "  io.imsave(img_name, image)\n",
      "C:\\Users\\MiaoLab-Blackrock\\anaconda3\\envs\\DLC-GPU\\lib\\site-packages\\deeplabcut\\generate_training_dataset\\frame_extraction.py:354: UserWarning: D:\\DeepLabCut\\11122_2022112702-ZX-2022-12-10\\labeled-data\\4/img069.png is a low contrast image\n",
      "  io.imsave(img_name, image)\n",
      "C:\\Users\\MiaoLab-Blackrock\\anaconda3\\envs\\DLC-GPU\\lib\\site-packages\\deeplabcut\\generate_training_dataset\\frame_extraction.py:354: UserWarning: D:\\DeepLabCut\\11122_2022112702-ZX-2022-12-10\\labeled-data\\4/img086.png is a low contrast image\n",
      "  io.imsave(img_name, image)\n",
      "C:\\Users\\MiaoLab-Blackrock\\anaconda3\\envs\\DLC-GPU\\lib\\site-packages\\deeplabcut\\generate_training_dataset\\frame_extraction.py:354: UserWarning: D:\\DeepLabCut\\11122_2022112702-ZX-2022-12-10\\labeled-data\\4/img043.png is a low contrast image\n",
      "  io.imsave(img_name, image)\n",
      "C:\\Users\\MiaoLab-Blackrock\\anaconda3\\envs\\DLC-GPU\\lib\\site-packages\\deeplabcut\\generate_training_dataset\\frame_extraction.py:354: UserWarning: D:\\DeepLabCut\\11122_2022112702-ZX-2022-12-10\\labeled-data\\4/img501.png is a low contrast image\n",
      "  io.imsave(img_name, image)\n",
      "C:\\Users\\MiaoLab-Blackrock\\anaconda3\\envs\\DLC-GPU\\lib\\site-packages\\deeplabcut\\generate_training_dataset\\frame_extraction.py:354: UserWarning: D:\\DeepLabCut\\11122_2022112702-ZX-2022-12-10\\labeled-data\\4/img802.png is a low contrast image\n",
      "  io.imsave(img_name, image)\n",
      "C:\\Users\\MiaoLab-Blackrock\\anaconda3\\envs\\DLC-GPU\\lib\\site-packages\\deeplabcut\\generate_training_dataset\\frame_extraction.py:354: UserWarning: D:\\DeepLabCut\\11122_2022112702-ZX-2022-12-10\\labeled-data\\4/img724.png is a low contrast image\n",
      "  io.imsave(img_name, image)\n",
      "C:\\Users\\MiaoLab-Blackrock\\anaconda3\\envs\\DLC-GPU\\lib\\site-packages\\deeplabcut\\generate_training_dataset\\frame_extraction.py:354: UserWarning: D:\\DeepLabCut\\11122_2022112702-ZX-2022-12-10\\labeled-data\\4/img866.png is a low contrast image\n",
      "  io.imsave(img_name, image)\n",
      "C:\\Users\\MiaoLab-Blackrock\\anaconda3\\envs\\DLC-GPU\\lib\\site-packages\\deeplabcut\\generate_training_dataset\\frame_extraction.py:354: UserWarning: D:\\DeepLabCut\\11122_2022112702-ZX-2022-12-10\\labeled-data\\4/img855.png is a low contrast image\n",
      "  io.imsave(img_name, image)\n",
      "C:\\Users\\MiaoLab-Blackrock\\anaconda3\\envs\\DLC-GPU\\lib\\site-packages\\deeplabcut\\generate_training_dataset\\frame_extraction.py:354: UserWarning: D:\\DeepLabCut\\11122_2022112702-ZX-2022-12-10\\labeled-data\\4/img958.png is a low contrast image\n",
      "  io.imsave(img_name, image)\n",
      "7it [00:00, 67.92it/s]"
     ]
    },
    {
     "name": "stdout",
     "output_type": "stream",
     "text": [
      "Extracting frames based on kmeans ...\n",
      "Kmeans-quantization based extracting of frames from 0.0  seconds to 16.67  seconds.\n",
      "Extracting and downsampling... 1000  frames from the video.\n"
     ]
    },
    {
     "name": "stderr",
     "output_type": "stream",
     "text": [
      "1000it [00:07, 133.21it/s]\n"
     ]
    },
    {
     "name": "stdout",
     "output_type": "stream",
     "text": [
      "Kmeans clustering ... (this might take a while)\n"
     ]
    },
    {
     "name": "stderr",
     "output_type": "stream",
     "text": [
      "C:\\Users\\MiaoLab-Blackrock\\anaconda3\\envs\\DLC-GPU\\lib\\site-packages\\deeplabcut\\generate_training_dataset\\frame_extraction.py:354: UserWarning: D:\\DeepLabCut\\11122_2022112702-ZX-2022-12-10\\labeled-data\\5/img302.png is a low contrast image\n",
      "  io.imsave(img_name, image)\n",
      "C:\\Users\\MiaoLab-Blackrock\\anaconda3\\envs\\DLC-GPU\\lib\\site-packages\\deeplabcut\\generate_training_dataset\\frame_extraction.py:354: UserWarning: D:\\DeepLabCut\\11122_2022112702-ZX-2022-12-10\\labeled-data\\5/img067.png is a low contrast image\n",
      "  io.imsave(img_name, image)\n",
      "C:\\Users\\MiaoLab-Blackrock\\anaconda3\\envs\\DLC-GPU\\lib\\site-packages\\deeplabcut\\generate_training_dataset\\frame_extraction.py:354: UserWarning: D:\\DeepLabCut\\11122_2022112702-ZX-2022-12-10\\labeled-data\\5/img116.png is a low contrast image\n",
      "  io.imsave(img_name, image)\n",
      "C:\\Users\\MiaoLab-Blackrock\\anaconda3\\envs\\DLC-GPU\\lib\\site-packages\\deeplabcut\\generate_training_dataset\\frame_extraction.py:354: UserWarning: D:\\DeepLabCut\\11122_2022112702-ZX-2022-12-10\\labeled-data\\5/img530.png is a low contrast image\n",
      "  io.imsave(img_name, image)\n",
      "C:\\Users\\MiaoLab-Blackrock\\anaconda3\\envs\\DLC-GPU\\lib\\site-packages\\deeplabcut\\generate_training_dataset\\frame_extraction.py:354: UserWarning: D:\\DeepLabCut\\11122_2022112702-ZX-2022-12-10\\labeled-data\\5/img859.png is a low contrast image\n",
      "  io.imsave(img_name, image)\n",
      "C:\\Users\\MiaoLab-Blackrock\\anaconda3\\envs\\DLC-GPU\\lib\\site-packages\\deeplabcut\\generate_training_dataset\\frame_extraction.py:354: UserWarning: D:\\DeepLabCut\\11122_2022112702-ZX-2022-12-10\\labeled-data\\5/img641.png is a low contrast image\n",
      "  io.imsave(img_name, image)\n",
      "C:\\Users\\MiaoLab-Blackrock\\anaconda3\\envs\\DLC-GPU\\lib\\site-packages\\deeplabcut\\generate_training_dataset\\frame_extraction.py:354: UserWarning: D:\\DeepLabCut\\11122_2022112702-ZX-2022-12-10\\labeled-data\\5/img693.png is a low contrast image\n",
      "  io.imsave(img_name, image)\n",
      "C:\\Users\\MiaoLab-Blackrock\\anaconda3\\envs\\DLC-GPU\\lib\\site-packages\\deeplabcut\\generate_training_dataset\\frame_extraction.py:354: UserWarning: D:\\DeepLabCut\\11122_2022112702-ZX-2022-12-10\\labeled-data\\5/img546.png is a low contrast image\n",
      "  io.imsave(img_name, image)\n",
      "C:\\Users\\MiaoLab-Blackrock\\anaconda3\\envs\\DLC-GPU\\lib\\site-packages\\deeplabcut\\generate_training_dataset\\frame_extraction.py:354: UserWarning: D:\\DeepLabCut\\11122_2022112702-ZX-2022-12-10\\labeled-data\\5/img471.png is a low contrast image\n",
      "  io.imsave(img_name, image)\n",
      "C:\\Users\\MiaoLab-Blackrock\\anaconda3\\envs\\DLC-GPU\\lib\\site-packages\\deeplabcut\\generate_training_dataset\\frame_extraction.py:354: UserWarning: D:\\DeepLabCut\\11122_2022112702-ZX-2022-12-10\\labeled-data\\5/img231.png is a low contrast image\n",
      "  io.imsave(img_name, image)\n",
      "7it [00:00, 63.08it/s]"
     ]
    },
    {
     "name": "stdout",
     "output_type": "stream",
     "text": [
      "Extracting frames based on kmeans ...\n",
      "Kmeans-quantization based extracting of frames from 0.0  seconds to 16.67  seconds.\n",
      "Extracting and downsampling... 1000  frames from the video.\n"
     ]
    },
    {
     "name": "stderr",
     "output_type": "stream",
     "text": [
      "1000it [00:07, 133.73it/s]\n"
     ]
    },
    {
     "name": "stdout",
     "output_type": "stream",
     "text": [
      "Kmeans clustering ... (this might take a while)\n"
     ]
    },
    {
     "name": "stderr",
     "output_type": "stream",
     "text": [
      "C:\\Users\\MiaoLab-Blackrock\\anaconda3\\envs\\DLC-GPU\\lib\\site-packages\\deeplabcut\\generate_training_dataset\\frame_extraction.py:354: UserWarning: D:\\DeepLabCut\\11122_2022112702-ZX-2022-12-10\\labeled-data\\6/img599.png is a low contrast image\n",
      "  io.imsave(img_name, image)\n",
      "C:\\Users\\MiaoLab-Blackrock\\anaconda3\\envs\\DLC-GPU\\lib\\site-packages\\deeplabcut\\generate_training_dataset\\frame_extraction.py:354: UserWarning: D:\\DeepLabCut\\11122_2022112702-ZX-2022-12-10\\labeled-data\\6/img184.png is a low contrast image\n",
      "  io.imsave(img_name, image)\n",
      "C:\\Users\\MiaoLab-Blackrock\\anaconda3\\envs\\DLC-GPU\\lib\\site-packages\\deeplabcut\\generate_training_dataset\\frame_extraction.py:354: UserWarning: D:\\DeepLabCut\\11122_2022112702-ZX-2022-12-10\\labeled-data\\6/img893.png is a low contrast image\n",
      "  io.imsave(img_name, image)\n",
      "C:\\Users\\MiaoLab-Blackrock\\anaconda3\\envs\\DLC-GPU\\lib\\site-packages\\deeplabcut\\generate_training_dataset\\frame_extraction.py:354: UserWarning: D:\\DeepLabCut\\11122_2022112702-ZX-2022-12-10\\labeled-data\\6/img180.png is a low contrast image\n",
      "  io.imsave(img_name, image)\n",
      "C:\\Users\\MiaoLab-Blackrock\\anaconda3\\envs\\DLC-GPU\\lib\\site-packages\\deeplabcut\\generate_training_dataset\\frame_extraction.py:354: UserWarning: D:\\DeepLabCut\\11122_2022112702-ZX-2022-12-10\\labeled-data\\6/img949.png is a low contrast image\n",
      "  io.imsave(img_name, image)\n",
      "C:\\Users\\MiaoLab-Blackrock\\anaconda3\\envs\\DLC-GPU\\lib\\site-packages\\deeplabcut\\generate_training_dataset\\frame_extraction.py:354: UserWarning: D:\\DeepLabCut\\11122_2022112702-ZX-2022-12-10\\labeled-data\\6/img636.png is a low contrast image\n",
      "  io.imsave(img_name, image)\n",
      "C:\\Users\\MiaoLab-Blackrock\\anaconda3\\envs\\DLC-GPU\\lib\\site-packages\\deeplabcut\\generate_training_dataset\\frame_extraction.py:354: UserWarning: D:\\DeepLabCut\\11122_2022112702-ZX-2022-12-10\\labeled-data\\6/img487.png is a low contrast image\n",
      "  io.imsave(img_name, image)\n",
      "C:\\Users\\MiaoLab-Blackrock\\anaconda3\\envs\\DLC-GPU\\lib\\site-packages\\deeplabcut\\generate_training_dataset\\frame_extraction.py:354: UserWarning: D:\\DeepLabCut\\11122_2022112702-ZX-2022-12-10\\labeled-data\\6/img951.png is a low contrast image\n",
      "  io.imsave(img_name, image)\n",
      "C:\\Users\\MiaoLab-Blackrock\\anaconda3\\envs\\DLC-GPU\\lib\\site-packages\\deeplabcut\\generate_training_dataset\\frame_extraction.py:354: UserWarning: D:\\DeepLabCut\\11122_2022112702-ZX-2022-12-10\\labeled-data\\6/img934.png is a low contrast image\n",
      "  io.imsave(img_name, image)\n",
      "C:\\Users\\MiaoLab-Blackrock\\anaconda3\\envs\\DLC-GPU\\lib\\site-packages\\deeplabcut\\generate_training_dataset\\frame_extraction.py:354: UserWarning: D:\\DeepLabCut\\11122_2022112702-ZX-2022-12-10\\labeled-data\\6/img343.png is a low contrast image\n",
      "  io.imsave(img_name, image)\n",
      "7it [00:00, 66.83it/s]"
     ]
    },
    {
     "name": "stdout",
     "output_type": "stream",
     "text": [
      "Extracting frames based on kmeans ...\n",
      "Kmeans-quantization based extracting of frames from 0.0  seconds to 16.67  seconds.\n",
      "Extracting and downsampling... 1000  frames from the video.\n"
     ]
    },
    {
     "name": "stderr",
     "output_type": "stream",
     "text": [
      "1000it [00:07, 133.47it/s]\n"
     ]
    },
    {
     "name": "stdout",
     "output_type": "stream",
     "text": [
      "Kmeans clustering ... (this might take a while)\n"
     ]
    },
    {
     "name": "stderr",
     "output_type": "stream",
     "text": [
      "C:\\Users\\MiaoLab-Blackrock\\anaconda3\\envs\\DLC-GPU\\lib\\site-packages\\deeplabcut\\generate_training_dataset\\frame_extraction.py:354: UserWarning: D:\\DeepLabCut\\11122_2022112702-ZX-2022-12-10\\labeled-data\\7/img528.png is a low contrast image\n",
      "  io.imsave(img_name, image)\n",
      "C:\\Users\\MiaoLab-Blackrock\\anaconda3\\envs\\DLC-GPU\\lib\\site-packages\\deeplabcut\\generate_training_dataset\\frame_extraction.py:354: UserWarning: D:\\DeepLabCut\\11122_2022112702-ZX-2022-12-10\\labeled-data\\7/img600.png is a low contrast image\n",
      "  io.imsave(img_name, image)\n",
      "C:\\Users\\MiaoLab-Blackrock\\anaconda3\\envs\\DLC-GPU\\lib\\site-packages\\deeplabcut\\generate_training_dataset\\frame_extraction.py:354: UserWarning: D:\\DeepLabCut\\11122_2022112702-ZX-2022-12-10\\labeled-data\\7/img788.png is a low contrast image\n",
      "  io.imsave(img_name, image)\n",
      "C:\\Users\\MiaoLab-Blackrock\\anaconda3\\envs\\DLC-GPU\\lib\\site-packages\\deeplabcut\\generate_training_dataset\\frame_extraction.py:354: UserWarning: D:\\DeepLabCut\\11122_2022112702-ZX-2022-12-10\\labeled-data\\7/img354.png is a low contrast image\n",
      "  io.imsave(img_name, image)\n",
      "C:\\Users\\MiaoLab-Blackrock\\anaconda3\\envs\\DLC-GPU\\lib\\site-packages\\deeplabcut\\generate_training_dataset\\frame_extraction.py:354: UserWarning: D:\\DeepLabCut\\11122_2022112702-ZX-2022-12-10\\labeled-data\\7/img222.png is a low contrast image\n",
      "  io.imsave(img_name, image)\n",
      "C:\\Users\\MiaoLab-Blackrock\\anaconda3\\envs\\DLC-GPU\\lib\\site-packages\\deeplabcut\\generate_training_dataset\\frame_extraction.py:354: UserWarning: D:\\DeepLabCut\\11122_2022112702-ZX-2022-12-10\\labeled-data\\7/img754.png is a low contrast image\n",
      "  io.imsave(img_name, image)\n",
      "C:\\Users\\MiaoLab-Blackrock\\anaconda3\\envs\\DLC-GPU\\lib\\site-packages\\deeplabcut\\generate_training_dataset\\frame_extraction.py:354: UserWarning: D:\\DeepLabCut\\11122_2022112702-ZX-2022-12-10\\labeled-data\\7/img534.png is a low contrast image\n",
      "  io.imsave(img_name, image)\n",
      "C:\\Users\\MiaoLab-Blackrock\\anaconda3\\envs\\DLC-GPU\\lib\\site-packages\\deeplabcut\\generate_training_dataset\\frame_extraction.py:354: UserWarning: D:\\DeepLabCut\\11122_2022112702-ZX-2022-12-10\\labeled-data\\7/img294.png is a low contrast image\n",
      "  io.imsave(img_name, image)\n",
      "C:\\Users\\MiaoLab-Blackrock\\anaconda3\\envs\\DLC-GPU\\lib\\site-packages\\deeplabcut\\generate_training_dataset\\frame_extraction.py:354: UserWarning: D:\\DeepLabCut\\11122_2022112702-ZX-2022-12-10\\labeled-data\\7/img430.png is a low contrast image\n",
      "  io.imsave(img_name, image)\n",
      "C:\\Users\\MiaoLab-Blackrock\\anaconda3\\envs\\DLC-GPU\\lib\\site-packages\\deeplabcut\\generate_training_dataset\\frame_extraction.py:354: UserWarning: D:\\DeepLabCut\\11122_2022112702-ZX-2022-12-10\\labeled-data\\7/img104.png is a low contrast image\n",
      "  io.imsave(img_name, image)\n",
      "7it [00:00, 61.98it/s]"
     ]
    },
    {
     "name": "stdout",
     "output_type": "stream",
     "text": [
      "Extracting frames based on kmeans ...\n",
      "Kmeans-quantization based extracting of frames from 0.0  seconds to 16.67  seconds.\n",
      "Extracting and downsampling... 1000  frames from the video.\n"
     ]
    },
    {
     "name": "stderr",
     "output_type": "stream",
     "text": [
      "1000it [00:07, 133.61it/s]\n"
     ]
    },
    {
     "name": "stdout",
     "output_type": "stream",
     "text": [
      "Kmeans clustering ... (this might take a while)\n"
     ]
    },
    {
     "name": "stderr",
     "output_type": "stream",
     "text": [
      "C:\\Users\\MiaoLab-Blackrock\\anaconda3\\envs\\DLC-GPU\\lib\\site-packages\\deeplabcut\\generate_training_dataset\\frame_extraction.py:354: UserWarning: D:\\DeepLabCut\\11122_2022112702-ZX-2022-12-10\\labeled-data\\8/img833.png is a low contrast image\n",
      "  io.imsave(img_name, image)\n",
      "C:\\Users\\MiaoLab-Blackrock\\anaconda3\\envs\\DLC-GPU\\lib\\site-packages\\deeplabcut\\generate_training_dataset\\frame_extraction.py:354: UserWarning: D:\\DeepLabCut\\11122_2022112702-ZX-2022-12-10\\labeled-data\\8/img956.png is a low contrast image\n",
      "  io.imsave(img_name, image)\n",
      "C:\\Users\\MiaoLab-Blackrock\\anaconda3\\envs\\DLC-GPU\\lib\\site-packages\\deeplabcut\\generate_training_dataset\\frame_extraction.py:354: UserWarning: D:\\DeepLabCut\\11122_2022112702-ZX-2022-12-10\\labeled-data\\8/img542.png is a low contrast image\n",
      "  io.imsave(img_name, image)\n",
      "C:\\Users\\MiaoLab-Blackrock\\anaconda3\\envs\\DLC-GPU\\lib\\site-packages\\deeplabcut\\generate_training_dataset\\frame_extraction.py:354: UserWarning: D:\\DeepLabCut\\11122_2022112702-ZX-2022-12-10\\labeled-data\\8/img178.png is a low contrast image\n",
      "  io.imsave(img_name, image)\n",
      "C:\\Users\\MiaoLab-Blackrock\\anaconda3\\envs\\DLC-GPU\\lib\\site-packages\\deeplabcut\\generate_training_dataset\\frame_extraction.py:354: UserWarning: D:\\DeepLabCut\\11122_2022112702-ZX-2022-12-10\\labeled-data\\8/img681.png is a low contrast image\n",
      "  io.imsave(img_name, image)\n",
      "C:\\Users\\MiaoLab-Blackrock\\anaconda3\\envs\\DLC-GPU\\lib\\site-packages\\deeplabcut\\generate_training_dataset\\frame_extraction.py:354: UserWarning: D:\\DeepLabCut\\11122_2022112702-ZX-2022-12-10\\labeled-data\\8/img411.png is a low contrast image\n",
      "  io.imsave(img_name, image)\n",
      "C:\\Users\\MiaoLab-Blackrock\\anaconda3\\envs\\DLC-GPU\\lib\\site-packages\\deeplabcut\\generate_training_dataset\\frame_extraction.py:354: UserWarning: D:\\DeepLabCut\\11122_2022112702-ZX-2022-12-10\\labeled-data\\8/img427.png is a low contrast image\n",
      "  io.imsave(img_name, image)\n",
      "C:\\Users\\MiaoLab-Blackrock\\anaconda3\\envs\\DLC-GPU\\lib\\site-packages\\deeplabcut\\generate_training_dataset\\frame_extraction.py:354: UserWarning: D:\\DeepLabCut\\11122_2022112702-ZX-2022-12-10\\labeled-data\\8/img805.png is a low contrast image\n",
      "  io.imsave(img_name, image)\n",
      "C:\\Users\\MiaoLab-Blackrock\\anaconda3\\envs\\DLC-GPU\\lib\\site-packages\\deeplabcut\\generate_training_dataset\\frame_extraction.py:354: UserWarning: D:\\DeepLabCut\\11122_2022112702-ZX-2022-12-10\\labeled-data\\8/img478.png is a low contrast image\n",
      "  io.imsave(img_name, image)\n",
      "C:\\Users\\MiaoLab-Blackrock\\anaconda3\\envs\\DLC-GPU\\lib\\site-packages\\deeplabcut\\generate_training_dataset\\frame_extraction.py:354: UserWarning: D:\\DeepLabCut\\11122_2022112702-ZX-2022-12-10\\labeled-data\\8/img647.png is a low contrast image\n",
      "  io.imsave(img_name, image)\n",
      "8it [00:00, 72.07it/s]"
     ]
    },
    {
     "name": "stdout",
     "output_type": "stream",
     "text": [
      "Extracting frames based on kmeans ...\n",
      "Kmeans-quantization based extracting of frames from 0.0  seconds to 16.67  seconds.\n",
      "Extracting and downsampling... 1000  frames from the video.\n"
     ]
    },
    {
     "name": "stderr",
     "output_type": "stream",
     "text": [
      "1000it [00:07, 134.05it/s]\n"
     ]
    },
    {
     "name": "stdout",
     "output_type": "stream",
     "text": [
      "Kmeans clustering ... (this might take a while)\n"
     ]
    },
    {
     "name": "stderr",
     "output_type": "stream",
     "text": [
      "C:\\Users\\MiaoLab-Blackrock\\anaconda3\\envs\\DLC-GPU\\lib\\site-packages\\deeplabcut\\generate_training_dataset\\frame_extraction.py:354: UserWarning: D:\\DeepLabCut\\11122_2022112702-ZX-2022-12-10\\labeled-data\\9/img990.png is a low contrast image\n",
      "  io.imsave(img_name, image)\n",
      "C:\\Users\\MiaoLab-Blackrock\\anaconda3\\envs\\DLC-GPU\\lib\\site-packages\\deeplabcut\\generate_training_dataset\\frame_extraction.py:354: UserWarning: D:\\DeepLabCut\\11122_2022112702-ZX-2022-12-10\\labeled-data\\9/img530.png is a low contrast image\n",
      "  io.imsave(img_name, image)\n",
      "C:\\Users\\MiaoLab-Blackrock\\anaconda3\\envs\\DLC-GPU\\lib\\site-packages\\deeplabcut\\generate_training_dataset\\frame_extraction.py:354: UserWarning: D:\\DeepLabCut\\11122_2022112702-ZX-2022-12-10\\labeled-data\\9/img384.png is a low contrast image\n",
      "  io.imsave(img_name, image)\n",
      "C:\\Users\\MiaoLab-Blackrock\\anaconda3\\envs\\DLC-GPU\\lib\\site-packages\\deeplabcut\\generate_training_dataset\\frame_extraction.py:354: UserWarning: D:\\DeepLabCut\\11122_2022112702-ZX-2022-12-10\\labeled-data\\9/img166.png is a low contrast image\n",
      "  io.imsave(img_name, image)\n",
      "C:\\Users\\MiaoLab-Blackrock\\anaconda3\\envs\\DLC-GPU\\lib\\site-packages\\deeplabcut\\generate_training_dataset\\frame_extraction.py:354: UserWarning: D:\\DeepLabCut\\11122_2022112702-ZX-2022-12-10\\labeled-data\\9/img608.png is a low contrast image\n",
      "  io.imsave(img_name, image)\n",
      "C:\\Users\\MiaoLab-Blackrock\\anaconda3\\envs\\DLC-GPU\\lib\\site-packages\\deeplabcut\\generate_training_dataset\\frame_extraction.py:354: UserWarning: D:\\DeepLabCut\\11122_2022112702-ZX-2022-12-10\\labeled-data\\9/img520.png is a low contrast image\n",
      "  io.imsave(img_name, image)\n",
      "C:\\Users\\MiaoLab-Blackrock\\anaconda3\\envs\\DLC-GPU\\lib\\site-packages\\deeplabcut\\generate_training_dataset\\frame_extraction.py:354: UserWarning: D:\\DeepLabCut\\11122_2022112702-ZX-2022-12-10\\labeled-data\\9/img002.png is a low contrast image\n",
      "  io.imsave(img_name, image)\n",
      "C:\\Users\\MiaoLab-Blackrock\\anaconda3\\envs\\DLC-GPU\\lib\\site-packages\\deeplabcut\\generate_training_dataset\\frame_extraction.py:354: UserWarning: D:\\DeepLabCut\\11122_2022112702-ZX-2022-12-10\\labeled-data\\9/img031.png is a low contrast image\n",
      "  io.imsave(img_name, image)\n",
      "C:\\Users\\MiaoLab-Blackrock\\anaconda3\\envs\\DLC-GPU\\lib\\site-packages\\deeplabcut\\generate_training_dataset\\frame_extraction.py:354: UserWarning: D:\\DeepLabCut\\11122_2022112702-ZX-2022-12-10\\labeled-data\\9/img547.png is a low contrast image\n",
      "  io.imsave(img_name, image)\n",
      "C:\\Users\\MiaoLab-Blackrock\\anaconda3\\envs\\DLC-GPU\\lib\\site-packages\\deeplabcut\\generate_training_dataset\\frame_extraction.py:354: UserWarning: D:\\DeepLabCut\\11122_2022112702-ZX-2022-12-10\\labeled-data\\9/img689.png is a low contrast image\n",
      "  io.imsave(img_name, image)\n"
     ]
    },
    {
     "name": "stdout",
     "output_type": "stream",
     "text": [
      "Frames were successfully extracted, for the videos of interest.\n",
      "\n",
      "You can now label the frames using the function 'label_frames' (if you extracted enough frames for all videos).\n"
     ]
    }
   ],
   "source": [
    "# deeplabcut.extract_frames(config_path,'automatic/manual','uniform/kmeans',crop=True/False, userfeedback=True/False)\n",
    "deeplabcut.extract_frames(config_path, userfeedback=False)"
   ]
  },
  {
   "cell_type": "markdown",
   "metadata": {},
   "source": [
    "## Label frames;"
   ]
  },
  {
   "cell_type": "code",
   "execution_count": null,
   "metadata": {
    "scrolled": false
   },
   "outputs": [
    {
     "name": "stdout",
     "output_type": "stream",
     "text": [
      "You can now check the labels, using 'check_labels' before proceeding. Then, you can use the function 'create_training_dataset' to create the training dataset.\n"
     ]
    }
   ],
   "source": [
    "# %gui wx\n",
    "deeplabcut.label_frames(config_path)"
   ]
  },
  {
   "cell_type": "markdown",
   "metadata": {},
   "source": [
    "## Check labels;"
   ]
  },
  {
   "cell_type": "code",
   "execution_count": 3,
   "metadata": {
    "scrolled": true
   },
   "outputs": [
    {
     "name": "stderr",
     "output_type": "stream",
     "text": [
      "\r",
      "  0%|                                                                                           | 0/10 [00:00<?, ?it/s]"
     ]
    },
    {
     "name": "stdout",
     "output_type": "stream",
     "text": [
      "Creating images with labels by ZX.\n"
     ]
    },
    {
     "name": "stderr",
     "output_type": "stream",
     "text": [
      "100%|██████████████████████████████████████████████████████████████████████████████████| 10/10 [00:01<00:00,  9.03it/s]\n",
      "100%|██████████████████████████████████████████████████████████████████████████████████| 10/10 [00:01<00:00,  9.19it/s]\n",
      "100%|██████████████████████████████████████████████████████████████████████████████████| 10/10 [00:01<00:00,  9.25it/s]\n",
      "100%|██████████████████████████████████████████████████████████████████████████████████| 10/10 [00:01<00:00,  9.04it/s]\n",
      "100%|██████████████████████████████████████████████████████████████████████████████████| 10/10 [00:01<00:00,  9.13it/s]\n",
      "100%|██████████████████████████████████████████████████████████████████████████████████| 10/10 [00:01<00:00,  9.07it/s]\n",
      "100%|██████████████████████████████████████████████████████████████████████████████████| 10/10 [00:01<00:00,  9.10it/s]\n",
      "100%|██████████████████████████████████████████████████████████████████████████████████| 10/10 [00:01<00:00,  9.08it/s]\n",
      "100%|██████████████████████████████████████████████████████████████████████████████████| 10/10 [00:01<00:00,  9.03it/s]\n",
      "100%|██████████████████████████████████████████████████████████████████████████████████| 10/10 [00:01<00:00,  9.14it/s]"
     ]
    },
    {
     "name": "stdout",
     "output_type": "stream",
     "text": [
      "If all the labels are ok, then use the function 'create_training_dataset' to create the training dataset!\n"
     ]
    },
    {
     "name": "stderr",
     "output_type": "stream",
     "text": [
      "\n"
     ]
    }
   ],
   "source": [
    "deeplabcut.check_labels(config_path)"
   ]
  },
  {
   "cell_type": "markdown",
   "metadata": {},
   "source": [
    "## Create training dataset;"
   ]
  },
  {
   "cell_type": "code",
   "execution_count": 3,
   "metadata": {
    "scrolled": true
   },
   "outputs": [
    {
     "name": "stdout",
     "output_type": "stream",
     "text": [
      "D:\\XQR\\DLC_model\\39-20221204-2_ma-XQR-2023-01-13\\labeled-data\\CHB 2022-12-04 11-19-33-0000\\CollectedData_XQR.h5  not found (perhaps not annotated). If training on cropped data, make sure to call `cropimagesandlabels` prior to creating the dataset.\n",
      "D:\\XQR\\DLC_model\\39-20221204-2_ma-XQR-2023-01-13\\labeled-data\\CHB 2022-12-04 11-25-32-0000\\CollectedData_XQR.h5  not found (perhaps not annotated). If training on cropped data, make sure to call `cropimagesandlabels` prior to creating the dataset.\n",
      "D:\\XQR\\DLC_model\\39-20221204-2_ma-XQR-2023-01-13\\labeled-data\\CHB 2022-12-04 11-31-32-0000\\CollectedData_XQR.h5  not found (perhaps not annotated). If training on cropped data, make sure to call `cropimagesandlabels` prior to creating the dataset.\n",
      "Annotation data was not found by splitting video paths (from config['video_sets']). An alternative route is taken...\n",
      "The following folders were found: ['D:\\\\XQR\\\\DLC_model\\\\39-20221204-2_ma-XQR-2023-01-13\\\\labeled-data\\\\CHB 2022-12-04 11-38-23-0000', 'D:\\\\XQR\\\\DLC_model\\\\39-20221204-2_ma-XQR-2023-01-13\\\\labeled-data\\\\CHB 2022-12-04 11-38-23-0000_labeled', 'D:\\\\XQR\\\\DLC_model\\\\39-20221204-2_ma-XQR-2023-01-13\\\\labeled-data\\\\CHB 2022-12-04 11-44-23-0000', 'D:\\\\XQR\\\\DLC_model\\\\39-20221204-2_ma-XQR-2023-01-13\\\\labeled-data\\\\CHB 2022-12-04 11-44-23-0000_labeled', 'D:\\\\XQR\\\\DLC_model\\\\39-20221204-2_ma-XQR-2023-01-13\\\\labeled-data\\\\CHB 2022-12-04 11-50-23-0000', 'D:\\\\XQR\\\\DLC_model\\\\39-20221204-2_ma-XQR-2023-01-13\\\\labeled-data\\\\CHB 2022-12-04 11-50-23-0000_labeled']\n",
      "D:\\XQR\\DLC_model\\39-20221204-2_ma-XQR-2023-01-13\\labeled-data\\CHB 2022-12-04 11-38-23-0000_labeled\\CollectedData_XQR.h5  not found (perhaps not annotated)\n",
      "D:\\XQR\\DLC_model\\39-20221204-2_ma-XQR-2023-01-13\\labeled-data\\CHB 2022-12-04 11-44-23-0000_labeled\\CollectedData_XQR.h5  not found (perhaps not annotated)\n",
      "D:\\XQR\\DLC_model\\39-20221204-2_ma-XQR-2023-01-13\\labeled-data\\CHB 2022-12-04 11-50-23-0000_labeled\\CollectedData_XQR.h5  not found (perhaps not annotated)\n"
     ]
    },
    {
     "ename": "KeyError",
     "evalue": "'individuals'",
     "output_type": "error",
     "traceback": [
      "\u001b[1;31m---------------------------------------------------------------------------\u001b[0m",
      "\u001b[1;31mKeyError\u001b[0m                                  Traceback (most recent call last)",
      "\u001b[1;32m<ipython-input-3-c980124be66b>\u001b[0m in \u001b[0;36m<module>\u001b[1;34m\u001b[0m\n\u001b[1;32m----> 1\u001b[1;33m \u001b[0mdeeplabcut\u001b[0m\u001b[1;33m.\u001b[0m\u001b[0mcreate_training_dataset\u001b[0m\u001b[1;33m(\u001b[0m\u001b[0mconfig_path\u001b[0m\u001b[1;33m)\u001b[0m\u001b[1;33m\u001b[0m\u001b[1;33m\u001b[0m\u001b[0m\n\u001b[0m",
      "\u001b[1;32m~\\anaconda3\\envs\\DLC-GPU\\lib\\site-packages\\deeplabcut\\generate_training_dataset\\trainingsetmanipulation.py\u001b[0m in \u001b[0;36mcreate_training_dataset\u001b[1;34m(config, num_shuffles, Shuffles, windows2linux, userfeedback, trainIndices, testIndices, net_type, augmenter_type)\u001b[0m\n\u001b[0;32m    866\u001b[0m \u001b[1;33m\u001b[0m\u001b[0m\n\u001b[0;32m    867\u001b[0m         create_multianimaltraining_dataset(\n\u001b[1;32m--> 868\u001b[1;33m             \u001b[0mconfig\u001b[0m\u001b[1;33m,\u001b[0m \u001b[0mnum_shuffles\u001b[0m\u001b[1;33m,\u001b[0m \u001b[0mShuffles\u001b[0m\u001b[1;33m,\u001b[0m \u001b[0mwindows2linux\u001b[0m\u001b[1;33m,\u001b[0m \u001b[0mnet_type\u001b[0m\u001b[1;33m\u001b[0m\u001b[1;33m\u001b[0m\u001b[0m\n\u001b[0m\u001b[0;32m    869\u001b[0m         )\n\u001b[0;32m    870\u001b[0m     \u001b[1;32melse\u001b[0m\u001b[1;33m:\u001b[0m\u001b[1;33m\u001b[0m\u001b[1;33m\u001b[0m\u001b[0m\n",
      "\u001b[1;32m~\\anaconda3\\envs\\DLC-GPU\\lib\\site-packages\\deeplabcut\\generate_training_dataset\\multiple_individuals_trainingsetmanipulation.py\u001b[0m in \u001b[0;36mcreate_multianimaltraining_dataset\u001b[1;34m(config, num_shuffles, Shuffles, windows2linux, net_type, numdigits)\u001b[0m\n\u001b[0;32m     95\u001b[0m \u001b[1;33m\u001b[0m\u001b[0m\n\u001b[0;32m     96\u001b[0m     Data = trainingsetmanipulation.merge_annotateddatasets(\n\u001b[1;32m---> 97\u001b[1;33m         \u001b[0mcfg\u001b[0m\u001b[1;33m,\u001b[0m \u001b[0mfull_training_path\u001b[0m\u001b[1;33m,\u001b[0m \u001b[0mwindows2linux\u001b[0m\u001b[1;33m\u001b[0m\u001b[1;33m\u001b[0m\u001b[0m\n\u001b[0m\u001b[0;32m     98\u001b[0m     )\n\u001b[0;32m     99\u001b[0m     \u001b[1;32mif\u001b[0m \u001b[0mData\u001b[0m \u001b[1;32mis\u001b[0m \u001b[1;32mNone\u001b[0m\u001b[1;33m:\u001b[0m\u001b[1;33m\u001b[0m\u001b[1;33m\u001b[0m\u001b[0m\n",
      "\u001b[1;32m~\\anaconda3\\envs\\DLC-GPU\\lib\\site-packages\\deeplabcut\\generate_training_dataset\\trainingsetmanipulation.py\u001b[0m in \u001b[0;36mmerge_annotateddatasets\u001b[1;34m(cfg, trainingsetfolder_full, windows2linux)\u001b[0m\n\u001b[0;32m    604\u001b[0m             \u001b[0muniquebodyparts\u001b[0m\u001b[1;33m,\u001b[0m\u001b[1;33m\u001b[0m\u001b[1;33m\u001b[0m\u001b[0m\n\u001b[0;32m    605\u001b[0m             \u001b[0mmultianimalbodyparts\u001b[0m\u001b[1;33m,\u001b[0m\u001b[1;33m\u001b[0m\u001b[1;33m\u001b[0m\u001b[0m\n\u001b[1;32m--> 606\u001b[1;33m         ) = auxfun_multianimal.extractindividualsandbodyparts(cfg)\n\u001b[0m\u001b[0;32m    607\u001b[0m         \u001b[0mbodyparts\u001b[0m \u001b[1;33m=\u001b[0m \u001b[0mmultianimalbodyparts\u001b[0m \u001b[1;33m+\u001b[0m \u001b[0muniquebodyparts\u001b[0m\u001b[1;33m\u001b[0m\u001b[1;33m\u001b[0m\u001b[0m\n\u001b[0;32m    608\u001b[0m     \u001b[1;32melse\u001b[0m\u001b[1;33m:\u001b[0m\u001b[1;33m\u001b[0m\u001b[1;33m\u001b[0m\u001b[0m\n",
      "\u001b[1;32m~\\anaconda3\\envs\\DLC-GPU\\lib\\site-packages\\deeplabcut\\utils\\auxfun_multianimal.py\u001b[0m in \u001b[0;36mextractindividualsandbodyparts\u001b[1;34m(cfg)\u001b[0m\n\u001b[0;32m     20\u001b[0m \u001b[1;33m\u001b[0m\u001b[0m\n\u001b[0;32m     21\u001b[0m \u001b[1;32mdef\u001b[0m \u001b[0mextractindividualsandbodyparts\u001b[0m\u001b[1;33m(\u001b[0m\u001b[0mcfg\u001b[0m\u001b[1;33m)\u001b[0m\u001b[1;33m:\u001b[0m\u001b[1;33m\u001b[0m\u001b[1;33m\u001b[0m\u001b[0m\n\u001b[1;32m---> 22\u001b[1;33m     \u001b[0mindividuals\u001b[0m \u001b[1;33m=\u001b[0m \u001b[0mcfg\u001b[0m\u001b[1;33m[\u001b[0m\u001b[1;34m\"individuals\"\u001b[0m\u001b[1;33m]\u001b[0m\u001b[1;33m.\u001b[0m\u001b[0mcopy\u001b[0m\u001b[1;33m(\u001b[0m\u001b[1;33m)\u001b[0m\u001b[1;33m\u001b[0m\u001b[1;33m\u001b[0m\u001b[0m\n\u001b[0m\u001b[0;32m     23\u001b[0m     \u001b[1;32mif\u001b[0m \u001b[0mlen\u001b[0m\u001b[1;33m(\u001b[0m\u001b[0mcfg\u001b[0m\u001b[1;33m[\u001b[0m\u001b[1;34m\"uniquebodyparts\"\u001b[0m\u001b[1;33m]\u001b[0m\u001b[1;33m)\u001b[0m \u001b[1;33m>\u001b[0m \u001b[1;36m0\u001b[0m\u001b[1;33m:\u001b[0m\u001b[1;33m\u001b[0m\u001b[1;33m\u001b[0m\u001b[0m\n\u001b[0;32m     24\u001b[0m         \u001b[0mindividuals\u001b[0m\u001b[1;33m.\u001b[0m\u001b[0mappend\u001b[0m\u001b[1;33m(\u001b[0m\u001b[1;34m\"single\"\u001b[0m\u001b[1;33m)\u001b[0m\u001b[1;33m\u001b[0m\u001b[1;33m\u001b[0m\u001b[0m\n",
      "\u001b[1;32m~\\anaconda3\\envs\\DLC-GPU\\lib\\site-packages\\ruamel\\yaml\\comments.py\u001b[0m in \u001b[0;36m__getitem__\u001b[1;34m(self, key)\u001b[0m\n\u001b[0;32m    751\u001b[0m         \u001b[1;31m# type: (Any) -> Any\u001b[0m\u001b[1;33m\u001b[0m\u001b[1;33m\u001b[0m\u001b[1;33m\u001b[0m\u001b[0m\n\u001b[0;32m    752\u001b[0m         \u001b[1;32mtry\u001b[0m\u001b[1;33m:\u001b[0m\u001b[1;33m\u001b[0m\u001b[1;33m\u001b[0m\u001b[0m\n\u001b[1;32m--> 753\u001b[1;33m             \u001b[1;32mreturn\u001b[0m \u001b[0mordereddict\u001b[0m\u001b[1;33m.\u001b[0m\u001b[0m__getitem__\u001b[0m\u001b[1;33m(\u001b[0m\u001b[0mself\u001b[0m\u001b[1;33m,\u001b[0m \u001b[0mkey\u001b[0m\u001b[1;33m)\u001b[0m\u001b[1;33m\u001b[0m\u001b[1;33m\u001b[0m\u001b[0m\n\u001b[0m\u001b[0;32m    754\u001b[0m         \u001b[1;32mexcept\u001b[0m \u001b[0mKeyError\u001b[0m\u001b[1;33m:\u001b[0m\u001b[1;33m\u001b[0m\u001b[1;33m\u001b[0m\u001b[0m\n\u001b[0;32m    755\u001b[0m             \u001b[1;32mfor\u001b[0m \u001b[0mmerged\u001b[0m \u001b[1;32min\u001b[0m \u001b[0mgetattr\u001b[0m\u001b[1;33m(\u001b[0m\u001b[0mself\u001b[0m\u001b[1;33m,\u001b[0m \u001b[0mmerge_attrib\u001b[0m\u001b[1;33m,\u001b[0m \u001b[1;33m[\u001b[0m\u001b[1;33m]\u001b[0m\u001b[1;33m)\u001b[0m\u001b[1;33m:\u001b[0m\u001b[1;33m\u001b[0m\u001b[1;33m\u001b[0m\u001b[0m\n",
      "\u001b[1;31mKeyError\u001b[0m: 'individuals'"
     ]
    }
   ],
   "source": [
    "deeplabcut.create_training_dataset(config_path)"
   ]
  },
  {
   "cell_type": "markdown",
   "metadata": {},
   "source": [
    "## Train the network;"
   ]
  },
  {
   "cell_type": "code",
   "execution_count": 5,
   "metadata": {
    "scrolled": true
   },
   "outputs": [
    {
     "name": "stderr",
     "output_type": "stream",
     "text": [
      "Config:\n",
      "{'all_joints': [[0], [1], [2]],\n",
      " 'all_joints_names': ['R', 'B', 'other'],\n",
      " 'alpha_r': 0.02,\n",
      " 'batch_size': 1,\n",
      " 'clahe': True,\n",
      " 'claheratio': 0.1,\n",
      " 'crop_pad': 0,\n",
      " 'cropratio': 0.4,\n",
      " 'dataset': 'training-datasets\\\\iteration-0\\\\UnaugmentedDataSet_11122_2022112702Dec10\\\\11122_2022112702_ZX95shuffle1.mat',\n",
      " 'dataset_type': 'default',\n",
      " 'decay_steps': 30000,\n",
      " 'deterministic': False,\n",
      " 'display_iters': 1000,\n",
      " 'edge': False,\n",
      " 'emboss': {'alpha': [0.0, 1.0], 'embossratio': 0.1, 'strength': [0.5, 1.5]},\n",
      " 'fg_fraction': 0.25,\n",
      " 'global_scale': 0.8,\n",
      " 'histeq': True,\n",
      " 'histeqratio': 0.1,\n",
      " 'init_weights': 'C:\\\\Users\\\\MiaoLab-Blackrock\\\\anaconda3\\\\envs\\\\DLC-GPU\\\\lib\\\\site-packages\\\\deeplabcut\\\\pose_estimation_tensorflow\\\\models\\\\pretrained\\\\resnet_v1_50.ckpt',\n",
      " 'intermediate_supervision': False,\n",
      " 'intermediate_supervision_layer': 12,\n",
      " 'location_refinement': True,\n",
      " 'locref_huber_loss': True,\n",
      " 'locref_loss_weight': 0.05,\n",
      " 'locref_stdev': 7.2801,\n",
      " 'log_dir': 'log',\n",
      " 'lr_init': 0.0005,\n",
      " 'max_input_size': 1500,\n",
      " 'mean_pixel': [123.68, 116.779, 103.939],\n",
      " 'metadataset': 'training-datasets\\\\iteration-0\\\\UnaugmentedDataSet_11122_2022112702Dec10\\\\Documentation_data-11122_2022112702_95shuffle1.pickle',\n",
      " 'min_input_size': 64,\n",
      " 'mirror': False,\n",
      " 'multi_step': [[0.005, 10000],\n",
      "                [0.02, 430000],\n",
      "                [0.002, 730000],\n",
      "                [0.001, 1030000]],\n",
      " 'net_type': 'resnet_50',\n",
      " 'num_joints': 3,\n",
      " 'optimizer': 'sgd',\n",
      " 'pairwise_huber_loss': False,\n",
      " 'pairwise_predict': False,\n",
      " 'partaffinityfield_predict': False,\n",
      " 'pos_dist_thresh': 17,\n",
      " 'project_path': 'D:\\\\DeepLabCut\\\\11122_2022112702-ZX-2022-12-10',\n",
      " 'regularize': False,\n",
      " 'rotation': 25,\n",
      " 'rotratio': 0.4,\n",
      " 'save_iters': 50000,\n",
      " 'scale_jitter_lo': 0.5,\n",
      " 'scale_jitter_up': 1.25,\n",
      " 'scoremap_dir': 'test',\n",
      " 'sharpen': False,\n",
      " 'sharpenratio': 0.3,\n",
      " 'shuffle': True,\n",
      " 'snapshot_prefix': 'D:\\\\DeepLabCut\\\\11122_2022112702-ZX-2022-12-10\\\\dlc-models\\\\iteration-0\\\\11122_2022112702Dec10-trainset95shuffle1\\\\train\\\\snapshot',\n",
      " 'stride': 8.0,\n",
      " 'weigh_negatives': False,\n",
      " 'weigh_only_present_joints': False,\n",
      " 'weigh_part_predictions': False,\n",
      " 'weight_decay': 0.0001}\n"
     ]
    },
    {
     "name": "stdout",
     "output_type": "stream",
     "text": [
      "Selecting single-animal trainer\n",
      "Starting with imgaug pose-dataset loader (=default).\n",
      "Batch Size is 1\n",
      "Initializing ResNet\n",
      "Loading ImageNet-pretrained resnet_50\n",
      "Training parameter:\n",
      "{'stride': 8.0, 'weigh_part_predictions': False, 'weigh_negatives': False, 'fg_fraction': 0.25, 'mean_pixel': [123.68, 116.779, 103.939], 'shuffle': True, 'snapshot_prefix': 'D:\\\\DeepLabCut\\\\11122_2022112702-ZX-2022-12-10\\\\dlc-models\\\\iteration-0\\\\11122_2022112702Dec10-trainset95shuffle1\\\\train\\\\snapshot', 'log_dir': 'log', 'global_scale': 0.8, 'location_refinement': True, 'locref_stdev': 7.2801, 'locref_loss_weight': 0.05, 'locref_huber_loss': True, 'optimizer': 'sgd', 'intermediate_supervision': False, 'intermediate_supervision_layer': 12, 'regularize': False, 'weight_decay': 0.0001, 'crop_pad': 0, 'scoremap_dir': 'test', 'batch_size': 1, 'dataset_type': 'default', 'deterministic': False, 'mirror': False, 'pairwise_huber_loss': False, 'weigh_only_present_joints': False, 'partaffinityfield_predict': False, 'pairwise_predict': False, 'all_joints': [[0], [1], [2]], 'all_joints_names': ['R', 'B', 'other'], 'alpha_r': 0.02, 'clahe': True, 'claheratio': 0.1, 'cropratio': 0.4, 'dataset': 'training-datasets\\\\iteration-0\\\\UnaugmentedDataSet_11122_2022112702Dec10\\\\11122_2022112702_ZX95shuffle1.mat', 'decay_steps': 30000, 'display_iters': 1000, 'edge': False, 'emboss': {'alpha': [0.0, 1.0], 'embossratio': 0.1, 'strength': [0.5, 1.5]}, 'histeq': True, 'histeqratio': 0.1, 'init_weights': 'C:\\\\Users\\\\MiaoLab-Blackrock\\\\anaconda3\\\\envs\\\\DLC-GPU\\\\lib\\\\site-packages\\\\deeplabcut\\\\pose_estimation_tensorflow\\\\models\\\\pretrained\\\\resnet_v1_50.ckpt', 'lr_init': 0.0005, 'max_input_size': 1500, 'metadataset': 'training-datasets\\\\iteration-0\\\\UnaugmentedDataSet_11122_2022112702Dec10\\\\Documentation_data-11122_2022112702_95shuffle1.pickle', 'min_input_size': 64, 'multi_step': [[0.005, 10000], [0.02, 430000], [0.002, 730000], [0.001, 1030000]], 'net_type': 'resnet_50', 'num_joints': 3, 'pos_dist_thresh': 17, 'project_path': 'D:\\\\DeepLabCut\\\\11122_2022112702-ZX-2022-12-10', 'rotation': 25, 'rotratio': 0.4, 'save_iters': 50000, 'scale_jitter_lo': 0.5, 'scale_jitter_up': 1.25, 'sharpen': False, 'sharpenratio': 0.3, 'covering': True, 'elastic_transform': True, 'motion_blur': True, 'motion_blur_params': {'k': 7, 'angle': (-90, 90)}}\n",
      "Starting training....\n"
     ]
    },
    {
     "name": "stderr",
     "output_type": "stream",
     "text": [
      "iteration: 1000 loss: 0.0179 lr: 0.005\n",
      "iteration: 2000 loss: 0.0081 lr: 0.005\n",
      "iteration: 3000 loss: 0.0069 lr: 0.005\n",
      "iteration: 4000 loss: 0.0059 lr: 0.005\n",
      "iteration: 5000 loss: 0.0050 lr: 0.005\n",
      "iteration: 6000 loss: 0.0047 lr: 0.005\n",
      "iteration: 7000 loss: 0.0042 lr: 0.005\n",
      "iteration: 8000 loss: 0.0039 lr: 0.005\n",
      "iteration: 9000 loss: 0.0036 lr: 0.005\n",
      "iteration: 10000 loss: 0.0034 lr: 0.005\n",
      "iteration: 11000 loss: 0.0050 lr: 0.02\n",
      "iteration: 12000 loss: 0.0037 lr: 0.02\n",
      "iteration: 13000 loss: 0.0034 lr: 0.02\n",
      "iteration: 14000 loss: 0.0031 lr: 0.02\n",
      "iteration: 15000 loss: 0.0027 lr: 0.02\n",
      "iteration: 16000 loss: 0.0028 lr: 0.02\n",
      "iteration: 17000 loss: 0.0026 lr: 0.02\n",
      "iteration: 18000 loss: 0.0024 lr: 0.02\n",
      "iteration: 19000 loss: 0.0023 lr: 0.02\n",
      "iteration: 20000 loss: 0.0023 lr: 0.02\n",
      "iteration: 21000 loss: 0.0021 lr: 0.02\n",
      "iteration: 22000 loss: 0.0020 lr: 0.02\n",
      "iteration: 23000 loss: 0.0021 lr: 0.02\n",
      "iteration: 24000 loss: 0.0020 lr: 0.02\n",
      "iteration: 25000 loss: 0.0020 lr: 0.02\n",
      "iteration: 26000 loss: 0.0019 lr: 0.02\n",
      "iteration: 27000 loss: 0.0019 lr: 0.02\n",
      "iteration: 28000 loss: 0.0019 lr: 0.02\n",
      "iteration: 29000 loss: 0.0018 lr: 0.02\n",
      "iteration: 30000 loss: 0.0017 lr: 0.02\n",
      "iteration: 31000 loss: 0.0018 lr: 0.02\n",
      "iteration: 32000 loss: 0.0017 lr: 0.02\n",
      "iteration: 33000 loss: 0.0017 lr: 0.02\n",
      "iteration: 34000 loss: 0.0017 lr: 0.02\n",
      "iteration: 35000 loss: 0.0016 lr: 0.02\n",
      "iteration: 36000 loss: 0.0016 lr: 0.02\n",
      "iteration: 37000 loss: 0.0016 lr: 0.02\n",
      "iteration: 38000 loss: 0.0016 lr: 0.02\n",
      "iteration: 39000 loss: 0.0015 lr: 0.02\n",
      "iteration: 40000 loss: 0.0015 lr: 0.02\n",
      "iteration: 41000 loss: 0.0016 lr: 0.02\n",
      "iteration: 42000 loss: 0.0015 lr: 0.02\n",
      "iteration: 43000 loss: 0.0015 lr: 0.02\n",
      "iteration: 44000 loss: 0.0015 lr: 0.02\n",
      "iteration: 45000 loss: 0.0015 lr: 0.02\n",
      "iteration: 46000 loss: 0.0015 lr: 0.02\n",
      "iteration: 47000 loss: 0.0015 lr: 0.02\n",
      "iteration: 48000 loss: 0.0014 lr: 0.02\n",
      "iteration: 49000 loss: 0.0015 lr: 0.02\n",
      "iteration: 50000 loss: 0.0014 lr: 0.02\n",
      "iteration: 51000 loss: 0.0015 lr: 0.02\n",
      "iteration: 52000 loss: 0.0015 lr: 0.02\n",
      "iteration: 53000 loss: 0.0014 lr: 0.02\n",
      "iteration: 54000 loss: 0.0014 lr: 0.02\n",
      "iteration: 55000 loss: 0.0014 lr: 0.02\n",
      "iteration: 56000 loss: 0.0014 lr: 0.02\n",
      "iteration: 57000 loss: 0.0014 lr: 0.02\n",
      "iteration: 58000 loss: 0.0013 lr: 0.02\n",
      "iteration: 59000 loss: 0.0014 lr: 0.02\n",
      "iteration: 60000 loss: 0.0013 lr: 0.02\n",
      "iteration: 61000 loss: 0.0014 lr: 0.02\n",
      "iteration: 62000 loss: 0.0014 lr: 0.02\n",
      "iteration: 63000 loss: 0.0013 lr: 0.02\n",
      "iteration: 64000 loss: 0.0013 lr: 0.02\n",
      "iteration: 65000 loss: 0.0014 lr: 0.02\n",
      "iteration: 66000 loss: 0.0013 lr: 0.02\n",
      "iteration: 67000 loss: 0.0014 lr: 0.02\n",
      "iteration: 68000 loss: 0.0013 lr: 0.02\n",
      "iteration: 69000 loss: 0.0013 lr: 0.02\n",
      "iteration: 70000 loss: 0.0013 lr: 0.02\n",
      "iteration: 71000 loss: 0.0013 lr: 0.02\n",
      "iteration: 72000 loss: 0.0013 lr: 0.02\n",
      "iteration: 73000 loss: 0.0013 lr: 0.02\n",
      "iteration: 74000 loss: 0.0013 lr: 0.02\n",
      "iteration: 75000 loss: 0.0013 lr: 0.02\n",
      "iteration: 76000 loss: 0.0013 lr: 0.02\n",
      "iteration: 77000 loss: 0.0013 lr: 0.02\n",
      "iteration: 78000 loss: 0.0012 lr: 0.02\n",
      "iteration: 79000 loss: 0.0013 lr: 0.02\n",
      "iteration: 80000 loss: 0.0012 lr: 0.02\n",
      "iteration: 81000 loss: 0.0013 lr: 0.02\n",
      "iteration: 82000 loss: 0.0012 lr: 0.02\n",
      "iteration: 83000 loss: 0.0012 lr: 0.02\n",
      "iteration: 84000 loss: 0.0012 lr: 0.02\n",
      "iteration: 85000 loss: 0.0013 lr: 0.02\n",
      "iteration: 86000 loss: 0.0012 lr: 0.02\n",
      "iteration: 87000 loss: 0.0012 lr: 0.02\n",
      "iteration: 88000 loss: 0.0012 lr: 0.02\n",
      "iteration: 89000 loss: 0.0012 lr: 0.02\n",
      "iteration: 90000 loss: 0.0012 lr: 0.02\n",
      "iteration: 91000 loss: 0.0012 lr: 0.02\n",
      "iteration: 92000 loss: 0.0012 lr: 0.02\n",
      "iteration: 93000 loss: 0.0013 lr: 0.02\n",
      "iteration: 94000 loss: 0.0012 lr: 0.02\n",
      "iteration: 95000 loss: 0.0012 lr: 0.02\n",
      "iteration: 96000 loss: 0.0012 lr: 0.02\n",
      "iteration: 97000 loss: 0.0012 lr: 0.02\n",
      "iteration: 98000 loss: 0.0013 lr: 0.02\n",
      "iteration: 99000 loss: 0.0012 lr: 0.02\n",
      "iteration: 100000 loss: 0.0012 lr: 0.02\n",
      "iteration: 101000 loss: 0.0012 lr: 0.02\n",
      "iteration: 102000 loss: 0.0012 lr: 0.02\n",
      "iteration: 103000 loss: 0.0011 lr: 0.02\n",
      "iteration: 104000 loss: 0.0011 lr: 0.02\n",
      "iteration: 105000 loss: 0.0012 lr: 0.02\n",
      "iteration: 106000 loss: 0.0012 lr: 0.02\n",
      "iteration: 107000 loss: 0.0012 lr: 0.02\n",
      "iteration: 108000 loss: 0.0011 lr: 0.02\n",
      "iteration: 109000 loss: 0.0011 lr: 0.02\n",
      "iteration: 110000 loss: 0.0011 lr: 0.02\n",
      "iteration: 111000 loss: 0.0011 lr: 0.02\n",
      "iteration: 112000 loss: 0.0012 lr: 0.02\n",
      "iteration: 113000 loss: 0.0011 lr: 0.02\n",
      "iteration: 114000 loss: 0.0011 lr: 0.02\n",
      "iteration: 115000 loss: 0.0011 lr: 0.02\n",
      "iteration: 116000 loss: 0.0012 lr: 0.02\n",
      "iteration: 117000 loss: 0.0011 lr: 0.02\n",
      "iteration: 118000 loss: 0.0011 lr: 0.02\n",
      "iteration: 119000 loss: 0.0011 lr: 0.02\n",
      "iteration: 120000 loss: 0.0011 lr: 0.02\n",
      "iteration: 121000 loss: 0.0011 lr: 0.02\n",
      "iteration: 122000 loss: 0.0011 lr: 0.02\n",
      "iteration: 123000 loss: 0.0011 lr: 0.02\n",
      "iteration: 124000 loss: 0.0012 lr: 0.02\n",
      "iteration: 125000 loss: 0.0011 lr: 0.02\n",
      "iteration: 126000 loss: 0.0011 lr: 0.02\n",
      "iteration: 127000 loss: 0.0011 lr: 0.02\n",
      "iteration: 128000 loss: 0.0011 lr: 0.02\n",
      "iteration: 129000 loss: 0.0011 lr: 0.02\n",
      "iteration: 130000 loss: 0.0011 lr: 0.02\n",
      "iteration: 131000 loss: 0.0011 lr: 0.02\n",
      "iteration: 132000 loss: 0.0012 lr: 0.02\n",
      "iteration: 133000 loss: 0.0011 lr: 0.02\n",
      "iteration: 134000 loss: 0.0011 lr: 0.02\n",
      "iteration: 135000 loss: 0.0011 lr: 0.02\n",
      "iteration: 136000 loss: 0.0010 lr: 0.02\n",
      "iteration: 137000 loss: 0.0011 lr: 0.02\n",
      "iteration: 138000 loss: 0.0011 lr: 0.02\n",
      "iteration: 139000 loss: 0.0011 lr: 0.02\n",
      "iteration: 140000 loss: 0.0011 lr: 0.02\n",
      "iteration: 141000 loss: 0.0011 lr: 0.02\n",
      "iteration: 142000 loss: 0.0011 lr: 0.02\n",
      "iteration: 143000 loss: 0.0011 lr: 0.02\n",
      "iteration: 144000 loss: 0.0011 lr: 0.02\n",
      "iteration: 145000 loss: 0.0011 lr: 0.02\n",
      "iteration: 146000 loss: 0.0011 lr: 0.02\n",
      "iteration: 147000 loss: 0.0010 lr: 0.02\n",
      "iteration: 148000 loss: 0.0011 lr: 0.02\n",
      "iteration: 149000 loss: 0.0011 lr: 0.02\n",
      "iteration: 150000 loss: 0.0010 lr: 0.02\n",
      "iteration: 151000 loss: 0.0011 lr: 0.02\n",
      "iteration: 152000 loss: 0.0010 lr: 0.02\n",
      "iteration: 153000 loss: 0.0010 lr: 0.02\n",
      "iteration: 154000 loss: 0.0011 lr: 0.02\n",
      "iteration: 155000 loss: 0.0010 lr: 0.02\n",
      "iteration: 156000 loss: 0.0010 lr: 0.02\n",
      "iteration: 157000 loss: 0.0010 lr: 0.02\n",
      "iteration: 158000 loss: 0.0011 lr: 0.02\n",
      "iteration: 159000 loss: 0.0011 lr: 0.02\n",
      "iteration: 160000 loss: 0.0010 lr: 0.02\n",
      "iteration: 161000 loss: 0.0010 lr: 0.02\n",
      "iteration: 162000 loss: 0.0010 lr: 0.02\n",
      "iteration: 163000 loss: 0.0010 lr: 0.02\n",
      "iteration: 164000 loss: 0.0010 lr: 0.02\n",
      "iteration: 165000 loss: 0.0010 lr: 0.02\n",
      "iteration: 166000 loss: 0.0010 lr: 0.02\n",
      "iteration: 167000 loss: 0.0010 lr: 0.02\n",
      "iteration: 168000 loss: 0.0010 lr: 0.02\n",
      "iteration: 169000 loss: 0.0011 lr: 0.02\n",
      "iteration: 170000 loss: 0.0010 lr: 0.02\n",
      "iteration: 171000 loss: 0.0010 lr: 0.02\n",
      "iteration: 172000 loss: 0.0009 lr: 0.02\n",
      "iteration: 173000 loss: 0.0010 lr: 0.02\n",
      "iteration: 174000 loss: 0.0011 lr: 0.02\n",
      "iteration: 175000 loss: 0.0010 lr: 0.02\n",
      "iteration: 176000 loss: 0.0010 lr: 0.02\n",
      "iteration: 177000 loss: 0.0010 lr: 0.02\n",
      "iteration: 178000 loss: 0.0010 lr: 0.02\n",
      "iteration: 179000 loss: 0.0010 lr: 0.02\n",
      "iteration: 180000 loss: 0.0010 lr: 0.02\n",
      "iteration: 181000 loss: 0.0010 lr: 0.02\n",
      "iteration: 182000 loss: 0.0010 lr: 0.02\n",
      "iteration: 183000 loss: 0.0010 lr: 0.02\n",
      "iteration: 184000 loss: 0.0010 lr: 0.02\n",
      "iteration: 185000 loss: 0.0010 lr: 0.02\n",
      "iteration: 186000 loss: 0.0010 lr: 0.02\n",
      "iteration: 187000 loss: 0.0010 lr: 0.02\n",
      "iteration: 188000 loss: 0.0010 lr: 0.02\n",
      "iteration: 189000 loss: 0.0011 lr: 0.02\n",
      "iteration: 190000 loss: 0.0010 lr: 0.02\n",
      "iteration: 191000 loss: 0.0010 lr: 0.02\n",
      "iteration: 192000 loss: 0.0009 lr: 0.02\n",
      "iteration: 193000 loss: 0.0010 lr: 0.02\n",
      "iteration: 194000 loss: 0.0010 lr: 0.02\n",
      "iteration: 195000 loss: 0.0010 lr: 0.02\n",
      "iteration: 196000 loss: 0.0010 lr: 0.02\n",
      "iteration: 197000 loss: 0.0010 lr: 0.02\n",
      "iteration: 198000 loss: 0.0010 lr: 0.02\n",
      "iteration: 199000 loss: 0.0010 lr: 0.02\n",
      "iteration: 200000 loss: 0.0010 lr: 0.02\n",
      "iteration: 201000 loss: 0.0010 lr: 0.02\n",
      "iteration: 202000 loss: 0.0010 lr: 0.02\n",
      "iteration: 203000 loss: 0.0010 lr: 0.02\n",
      "iteration: 204000 loss: 0.0010 lr: 0.02\n",
      "iteration: 205000 loss: 0.0010 lr: 0.02\n",
      "iteration: 206000 loss: 0.0010 lr: 0.02\n",
      "iteration: 207000 loss: 0.0010 lr: 0.02\n",
      "iteration: 208000 loss: 0.0010 lr: 0.02\n"
     ]
    },
    {
     "name": "stderr",
     "output_type": "stream",
     "text": [
      "iteration: 209000 loss: 0.0010 lr: 0.02\n",
      "iteration: 210000 loss: 0.0010 lr: 0.02\n",
      "iteration: 211000 loss: 0.0010 lr: 0.02\n",
      "iteration: 212000 loss: 0.0010 lr: 0.02\n",
      "iteration: 213000 loss: 0.0010 lr: 0.02\n",
      "iteration: 214000 loss: 0.0010 lr: 0.02\n",
      "iteration: 215000 loss: 0.0010 lr: 0.02\n",
      "iteration: 216000 loss: 0.0010 lr: 0.02\n",
      "iteration: 217000 loss: 0.0010 lr: 0.02\n",
      "iteration: 218000 loss: 0.0010 lr: 0.02\n",
      "iteration: 219000 loss: 0.0009 lr: 0.02\n",
      "iteration: 220000 loss: 0.0010 lr: 0.02\n",
      "iteration: 221000 loss: 0.0010 lr: 0.02\n",
      "iteration: 222000 loss: 0.0009 lr: 0.02\n",
      "iteration: 223000 loss: 0.0010 lr: 0.02\n",
      "iteration: 224000 loss: 0.0009 lr: 0.02\n",
      "iteration: 225000 loss: 0.0010 lr: 0.02\n",
      "iteration: 226000 loss: 0.0009 lr: 0.02\n",
      "iteration: 227000 loss: 0.0010 lr: 0.02\n",
      "iteration: 228000 loss: 0.0010 lr: 0.02\n",
      "iteration: 229000 loss: 0.0009 lr: 0.02\n",
      "iteration: 230000 loss: 0.0010 lr: 0.02\n",
      "iteration: 231000 loss: 0.0010 lr: 0.02\n",
      "iteration: 232000 loss: 0.0010 lr: 0.02\n",
      "iteration: 233000 loss: 0.0010 lr: 0.02\n",
      "iteration: 234000 loss: 0.0010 lr: 0.02\n",
      "iteration: 235000 loss: 0.0010 lr: 0.02\n",
      "iteration: 236000 loss: 0.0010 lr: 0.02\n",
      "iteration: 237000 loss: 0.0010 lr: 0.02\n",
      "iteration: 238000 loss: 0.0009 lr: 0.02\n",
      "iteration: 239000 loss: 0.0010 lr: 0.02\n",
      "iteration: 240000 loss: 0.0010 lr: 0.02\n",
      "iteration: 241000 loss: 0.0009 lr: 0.02\n",
      "iteration: 242000 loss: 0.0009 lr: 0.02\n",
      "iteration: 243000 loss: 0.0010 lr: 0.02\n",
      "iteration: 244000 loss: 0.0009 lr: 0.02\n",
      "iteration: 245000 loss: 0.0010 lr: 0.02\n",
      "iteration: 246000 loss: 0.0010 lr: 0.02\n",
      "iteration: 247000 loss: 0.0009 lr: 0.02\n",
      "iteration: 248000 loss: 0.0009 lr: 0.02\n",
      "iteration: 249000 loss: 0.0010 lr: 0.02\n",
      "iteration: 250000 loss: 0.0010 lr: 0.02\n",
      "iteration: 251000 loss: 0.0009 lr: 0.02\n",
      "iteration: 252000 loss: 0.0010 lr: 0.02\n",
      "iteration: 253000 loss: 0.0009 lr: 0.02\n",
      "iteration: 254000 loss: 0.0009 lr: 0.02\n",
      "iteration: 255000 loss: 0.0009 lr: 0.02\n",
      "iteration: 256000 loss: 0.0009 lr: 0.02\n",
      "iteration: 257000 loss: 0.0010 lr: 0.02\n",
      "iteration: 258000 loss: 0.0009 lr: 0.02\n",
      "iteration: 259000 loss: 0.0009 lr: 0.02\n",
      "iteration: 260000 loss: 0.0009 lr: 0.02\n",
      "iteration: 261000 loss: 0.0009 lr: 0.02\n",
      "iteration: 262000 loss: 0.0010 lr: 0.02\n",
      "iteration: 263000 loss: 0.0009 lr: 0.02\n",
      "iteration: 264000 loss: 0.0010 lr: 0.02\n",
      "iteration: 265000 loss: 0.0009 lr: 0.02\n",
      "iteration: 266000 loss: 0.0009 lr: 0.02\n",
      "iteration: 267000 loss: 0.0009 lr: 0.02\n",
      "iteration: 268000 loss: 0.0009 lr: 0.02\n",
      "iteration: 269000 loss: 0.0010 lr: 0.02\n",
      "iteration: 270000 loss: 0.0010 lr: 0.02\n",
      "iteration: 271000 loss: 0.0009 lr: 0.02\n",
      "iteration: 272000 loss: 0.0009 lr: 0.02\n",
      "iteration: 273000 loss: 0.0009 lr: 0.02\n",
      "iteration: 274000 loss: 0.0009 lr: 0.02\n",
      "iteration: 275000 loss: 0.0009 lr: 0.02\n",
      "iteration: 276000 loss: 0.0010 lr: 0.02\n",
      "iteration: 277000 loss: 0.0009 lr: 0.02\n",
      "iteration: 278000 loss: 0.0009 lr: 0.02\n",
      "iteration: 279000 loss: 0.0009 lr: 0.02\n",
      "iteration: 280000 loss: 0.0009 lr: 0.02\n",
      "iteration: 281000 loss: 0.0009 lr: 0.02\n",
      "iteration: 282000 loss: 0.0009 lr: 0.02\n",
      "iteration: 283000 loss: 0.0009 lr: 0.02\n",
      "iteration: 284000 loss: 0.0009 lr: 0.02\n",
      "iteration: 285000 loss: 0.0010 lr: 0.02\n",
      "iteration: 286000 loss: 0.0009 lr: 0.02\n",
      "iteration: 287000 loss: 0.0009 lr: 0.02\n",
      "iteration: 288000 loss: 0.0009 lr: 0.02\n",
      "iteration: 289000 loss: 0.0009 lr: 0.02\n",
      "iteration: 290000 loss: 0.0009 lr: 0.02\n",
      "iteration: 291000 loss: 0.0009 lr: 0.02\n",
      "iteration: 292000 loss: 0.0009 lr: 0.02\n",
      "iteration: 293000 loss: 0.0010 lr: 0.02\n",
      "iteration: 294000 loss: 0.0009 lr: 0.02\n",
      "iteration: 295000 loss: 0.0009 lr: 0.02\n",
      "iteration: 296000 loss: 0.0009 lr: 0.02\n",
      "iteration: 297000 loss: 0.0009 lr: 0.02\n",
      "iteration: 298000 loss: 0.0009 lr: 0.02\n",
      "iteration: 299000 loss: 0.0009 lr: 0.02\n",
      "iteration: 300000 loss: 0.0009 lr: 0.02\n",
      "iteration: 301000 loss: 0.0009 lr: 0.02\n",
      "iteration: 302000 loss: 0.0009 lr: 0.02\n",
      "iteration: 303000 loss: 0.0009 lr: 0.02\n",
      "iteration: 304000 loss: 0.0009 lr: 0.02\n",
      "iteration: 305000 loss: 0.0009 lr: 0.02\n",
      "iteration: 306000 loss: 0.0009 lr: 0.02\n",
      "iteration: 307000 loss: 0.0009 lr: 0.02\n",
      "iteration: 308000 loss: 0.0009 lr: 0.02\n",
      "iteration: 309000 loss: 0.0009 lr: 0.02\n",
      "iteration: 310000 loss: 0.0009 lr: 0.02\n",
      "iteration: 311000 loss: 0.0009 lr: 0.02\n",
      "iteration: 312000 loss: 0.0009 lr: 0.02\n",
      "iteration: 313000 loss: 0.0009 lr: 0.02\n",
      "iteration: 314000 loss: 0.0009 lr: 0.02\n",
      "iteration: 315000 loss: 0.0009 lr: 0.02\n",
      "iteration: 316000 loss: 0.0009 lr: 0.02\n",
      "iteration: 317000 loss: 0.0008 lr: 0.02\n",
      "iteration: 318000 loss: 0.0009 lr: 0.02\n",
      "iteration: 319000 loss: 0.0008 lr: 0.02\n",
      "iteration: 320000 loss: 0.0009 lr: 0.02\n",
      "iteration: 321000 loss: 0.0009 lr: 0.02\n",
      "iteration: 322000 loss: 0.0009 lr: 0.02\n",
      "iteration: 323000 loss: 0.0009 lr: 0.02\n",
      "iteration: 324000 loss: 0.0009 lr: 0.02\n",
      "iteration: 325000 loss: 0.0009 lr: 0.02\n",
      "iteration: 326000 loss: 0.0009 lr: 0.02\n",
      "iteration: 327000 loss: 0.0009 lr: 0.02\n",
      "iteration: 328000 loss: 0.0009 lr: 0.02\n",
      "iteration: 329000 loss: 0.0010 lr: 0.02\n",
      "iteration: 330000 loss: 0.0009 lr: 0.02\n",
      "iteration: 331000 loss: 0.0009 lr: 0.02\n",
      "iteration: 332000 loss: 0.0009 lr: 0.02\n",
      "iteration: 333000 loss: 0.0009 lr: 0.02\n",
      "iteration: 334000 loss: 0.0009 lr: 0.02\n",
      "iteration: 335000 loss: 0.0009 lr: 0.02\n",
      "iteration: 336000 loss: 0.0009 lr: 0.02\n",
      "iteration: 337000 loss: 0.0009 lr: 0.02\n",
      "iteration: 338000 loss: 0.0009 lr: 0.02\n",
      "iteration: 339000 loss: 0.0009 lr: 0.02\n",
      "iteration: 340000 loss: 0.0009 lr: 0.02\n",
      "iteration: 341000 loss: 0.0008 lr: 0.02\n",
      "iteration: 342000 loss: 0.0009 lr: 0.02\n",
      "iteration: 343000 loss: 0.0009 lr: 0.02\n",
      "iteration: 344000 loss: 0.0009 lr: 0.02\n",
      "iteration: 345000 loss: 0.0008 lr: 0.02\n",
      "iteration: 346000 loss: 0.0009 lr: 0.02\n",
      "iteration: 347000 loss: 0.0009 lr: 0.02\n",
      "iteration: 348000 loss: 0.0009 lr: 0.02\n",
      "iteration: 349000 loss: 0.0009 lr: 0.02\n",
      "iteration: 350000 loss: 0.0009 lr: 0.02\n",
      "iteration: 351000 loss: 0.0009 lr: 0.02\n",
      "iteration: 352000 loss: 0.0009 lr: 0.02\n",
      "iteration: 353000 loss: 0.0009 lr: 0.02\n",
      "iteration: 354000 loss: 0.0008 lr: 0.02\n",
      "iteration: 355000 loss: 0.0009 lr: 0.02\n",
      "iteration: 356000 loss: 0.0009 lr: 0.02\n",
      "iteration: 357000 loss: 0.0009 lr: 0.02\n",
      "iteration: 358000 loss: 0.0009 lr: 0.02\n",
      "iteration: 359000 loss: 0.0009 lr: 0.02\n",
      "iteration: 360000 loss: 0.0009 lr: 0.02\n",
      "iteration: 361000 loss: 0.0009 lr: 0.02\n",
      "iteration: 362000 loss: 0.0009 lr: 0.02\n",
      "iteration: 363000 loss: 0.0009 lr: 0.02\n",
      "iteration: 364000 loss: 0.0009 lr: 0.02\n",
      "iteration: 365000 loss: 0.0008 lr: 0.02\n",
      "iteration: 366000 loss: 0.0009 lr: 0.02\n",
      "iteration: 367000 loss: 0.0008 lr: 0.02\n",
      "iteration: 368000 loss: 0.0009 lr: 0.02\n",
      "iteration: 369000 loss: 0.0009 lr: 0.02\n",
      "iteration: 370000 loss: 0.0009 lr: 0.02\n",
      "iteration: 371000 loss: 0.0009 lr: 0.02\n",
      "iteration: 372000 loss: 0.0009 lr: 0.02\n",
      "iteration: 373000 loss: 0.0008 lr: 0.02\n",
      "iteration: 374000 loss: 0.0009 lr: 0.02\n",
      "iteration: 375000 loss: 0.0008 lr: 0.02\n",
      "iteration: 376000 loss: 0.0009 lr: 0.02\n",
      "iteration: 377000 loss: 0.0009 lr: 0.02\n",
      "iteration: 378000 loss: 0.0009 lr: 0.02\n",
      "iteration: 379000 loss: 0.0009 lr: 0.02\n",
      "iteration: 380000 loss: 0.0009 lr: 0.02\n",
      "iteration: 381000 loss: 0.0009 lr: 0.02\n",
      "iteration: 382000 loss: 0.0009 lr: 0.02\n",
      "iteration: 383000 loss: 0.0009 lr: 0.02\n",
      "iteration: 384000 loss: 0.0009 lr: 0.02\n",
      "iteration: 385000 loss: 0.0009 lr: 0.02\n",
      "iteration: 386000 loss: 0.0009 lr: 0.02\n",
      "iteration: 387000 loss: 0.0009 lr: 0.02\n",
      "iteration: 388000 loss: 0.0009 lr: 0.02\n",
      "iteration: 389000 loss: 0.0009 lr: 0.02\n",
      "iteration: 390000 loss: 0.0009 lr: 0.02\n",
      "iteration: 391000 loss: 0.0009 lr: 0.02\n",
      "iteration: 392000 loss: 0.0009 lr: 0.02\n",
      "iteration: 393000 loss: 0.0009 lr: 0.02\n",
      "iteration: 394000 loss: 0.0008 lr: 0.02\n",
      "iteration: 395000 loss: 0.0008 lr: 0.02\n",
      "iteration: 396000 loss: 0.0009 lr: 0.02\n",
      "iteration: 397000 loss: 0.0008 lr: 0.02\n",
      "iteration: 398000 loss: 0.0009 lr: 0.02\n",
      "iteration: 399000 loss: 0.0008 lr: 0.02\n",
      "iteration: 400000 loss: 0.0009 lr: 0.02\n",
      "iteration: 401000 loss: 0.0009 lr: 0.02\n",
      "iteration: 402000 loss: 0.0009 lr: 0.02\n",
      "iteration: 403000 loss: 0.0008 lr: 0.02\n",
      "iteration: 404000 loss: 0.0009 lr: 0.02\n",
      "iteration: 405000 loss: 0.0008 lr: 0.02\n",
      "iteration: 406000 loss: 0.0008 lr: 0.02\n",
      "iteration: 407000 loss: 0.0009 lr: 0.02\n",
      "iteration: 408000 loss: 0.0009 lr: 0.02\n",
      "iteration: 409000 loss: 0.0009 lr: 0.02\n",
      "iteration: 410000 loss: 0.0009 lr: 0.02\n",
      "iteration: 411000 loss: 0.0009 lr: 0.02\n",
      "iteration: 412000 loss: 0.0010 lr: 0.02\n",
      "iteration: 413000 loss: 0.0009 lr: 0.02\n"
     ]
    },
    {
     "name": "stderr",
     "output_type": "stream",
     "text": [
      "iteration: 414000 loss: 0.0009 lr: 0.02\n",
      "iteration: 415000 loss: 0.0009 lr: 0.02\n",
      "iteration: 416000 loss: 0.0008 lr: 0.02\n",
      "iteration: 417000 loss: 0.0009 lr: 0.02\n",
      "iteration: 418000 loss: 0.0008 lr: 0.02\n",
      "iteration: 419000 loss: 0.0008 lr: 0.02\n",
      "iteration: 420000 loss: 0.0009 lr: 0.02\n",
      "iteration: 421000 loss: 0.0009 lr: 0.02\n",
      "iteration: 422000 loss: 0.0009 lr: 0.02\n",
      "iteration: 423000 loss: 0.0008 lr: 0.02\n",
      "iteration: 424000 loss: 0.0008 lr: 0.02\n",
      "iteration: 425000 loss: 0.0009 lr: 0.02\n",
      "iteration: 426000 loss: 0.0009 lr: 0.02\n",
      "iteration: 427000 loss: 0.0009 lr: 0.02\n",
      "iteration: 428000 loss: 0.0009 lr: 0.02\n",
      "iteration: 429000 loss: 0.0008 lr: 0.02\n",
      "iteration: 430000 loss: 0.0009 lr: 0.02\n",
      "iteration: 431000 loss: 0.0008 lr: 0.002\n",
      "iteration: 432000 loss: 0.0008 lr: 0.002\n",
      "iteration: 433000 loss: 0.0008 lr: 0.002\n",
      "iteration: 434000 loss: 0.0008 lr: 0.002\n",
      "iteration: 435000 loss: 0.0007 lr: 0.002\n",
      "iteration: 436000 loss: 0.0008 lr: 0.002\n",
      "iteration: 437000 loss: 0.0007 lr: 0.002\n",
      "iteration: 438000 loss: 0.0007 lr: 0.002\n",
      "iteration: 439000 loss: 0.0007 lr: 0.002\n",
      "iteration: 440000 loss: 0.0008 lr: 0.002\n",
      "iteration: 441000 loss: 0.0007 lr: 0.002\n",
      "iteration: 442000 loss: 0.0007 lr: 0.002\n",
      "iteration: 443000 loss: 0.0007 lr: 0.002\n",
      "iteration: 444000 loss: 0.0008 lr: 0.002\n",
      "iteration: 445000 loss: 0.0007 lr: 0.002\n",
      "iteration: 446000 loss: 0.0007 lr: 0.002\n",
      "iteration: 447000 loss: 0.0007 lr: 0.002\n",
      "iteration: 448000 loss: 0.0008 lr: 0.002\n",
      "iteration: 449000 loss: 0.0007 lr: 0.002\n",
      "iteration: 450000 loss: 0.0007 lr: 0.002\n",
      "iteration: 451000 loss: 0.0007 lr: 0.002\n",
      "iteration: 452000 loss: 0.0007 lr: 0.002\n",
      "iteration: 453000 loss: 0.0007 lr: 0.002\n",
      "iteration: 454000 loss: 0.0008 lr: 0.002\n",
      "iteration: 455000 loss: 0.0007 lr: 0.002\n",
      "iteration: 456000 loss: 0.0007 lr: 0.002\n",
      "iteration: 457000 loss: 0.0008 lr: 0.002\n",
      "iteration: 458000 loss: 0.0007 lr: 0.002\n",
      "iteration: 459000 loss: 0.0007 lr: 0.002\n",
      "iteration: 460000 loss: 0.0007 lr: 0.002\n",
      "iteration: 461000 loss: 0.0007 lr: 0.002\n",
      "iteration: 462000 loss: 0.0007 lr: 0.002\n",
      "iteration: 463000 loss: 0.0007 lr: 0.002\n",
      "iteration: 464000 loss: 0.0008 lr: 0.002\n",
      "iteration: 465000 loss: 0.0008 lr: 0.002\n",
      "iteration: 466000 loss: 0.0007 lr: 0.002\n",
      "iteration: 467000 loss: 0.0007 lr: 0.002\n",
      "iteration: 468000 loss: 0.0007 lr: 0.002\n",
      "iteration: 469000 loss: 0.0007 lr: 0.002\n",
      "iteration: 470000 loss: 0.0007 lr: 0.002\n",
      "iteration: 471000 loss: 0.0007 lr: 0.002\n",
      "iteration: 472000 loss: 0.0007 lr: 0.002\n",
      "iteration: 473000 loss: 0.0007 lr: 0.002\n",
      "iteration: 474000 loss: 0.0007 lr: 0.002\n",
      "iteration: 475000 loss: 0.0007 lr: 0.002\n",
      "iteration: 476000 loss: 0.0007 lr: 0.002\n",
      "iteration: 477000 loss: 0.0007 lr: 0.002\n",
      "iteration: 478000 loss: 0.0007 lr: 0.002\n",
      "iteration: 479000 loss: 0.0007 lr: 0.002\n",
      "iteration: 480000 loss: 0.0007 lr: 0.002\n",
      "iteration: 481000 loss: 0.0007 lr: 0.002\n",
      "iteration: 482000 loss: 0.0007 lr: 0.002\n",
      "iteration: 483000 loss: 0.0007 lr: 0.002\n",
      "iteration: 484000 loss: 0.0007 lr: 0.002\n",
      "iteration: 485000 loss: 0.0007 lr: 0.002\n",
      "iteration: 486000 loss: 0.0007 lr: 0.002\n",
      "iteration: 487000 loss: 0.0008 lr: 0.002\n",
      "iteration: 488000 loss: 0.0007 lr: 0.002\n",
      "iteration: 489000 loss: 0.0007 lr: 0.002\n",
      "iteration: 490000 loss: 0.0008 lr: 0.002\n",
      "iteration: 491000 loss: 0.0007 lr: 0.002\n",
      "iteration: 492000 loss: 0.0007 lr: 0.002\n",
      "iteration: 493000 loss: 0.0007 lr: 0.002\n",
      "iteration: 494000 loss: 0.0007 lr: 0.002\n",
      "iteration: 495000 loss: 0.0007 lr: 0.002\n",
      "iteration: 496000 loss: 0.0007 lr: 0.002\n",
      "iteration: 497000 loss: 0.0007 lr: 0.002\n",
      "iteration: 498000 loss: 0.0008 lr: 0.002\n",
      "iteration: 499000 loss: 0.0007 lr: 0.002\n",
      "iteration: 500000 loss: 0.0007 lr: 0.002\n",
      "iteration: 501000 loss: 0.0007 lr: 0.002\n",
      "iteration: 502000 loss: 0.0007 lr: 0.002\n",
      "iteration: 503000 loss: 0.0007 lr: 0.002\n",
      "iteration: 504000 loss: 0.0008 lr: 0.002\n",
      "iteration: 505000 loss: 0.0007 lr: 0.002\n",
      "iteration: 506000 loss: 0.0007 lr: 0.002\n",
      "iteration: 507000 loss: 0.0007 lr: 0.002\n",
      "iteration: 508000 loss: 0.0007 lr: 0.002\n",
      "iteration: 509000 loss: 0.0007 lr: 0.002\n",
      "iteration: 510000 loss: 0.0008 lr: 0.002\n",
      "iteration: 511000 loss: 0.0007 lr: 0.002\n",
      "iteration: 512000 loss: 0.0007 lr: 0.002\n",
      "iteration: 513000 loss: 0.0007 lr: 0.002\n",
      "iteration: 514000 loss: 0.0007 lr: 0.002\n",
      "iteration: 515000 loss: 0.0007 lr: 0.002\n",
      "iteration: 516000 loss: 0.0007 lr: 0.002\n",
      "iteration: 517000 loss: 0.0007 lr: 0.002\n",
      "iteration: 518000 loss: 0.0007 lr: 0.002\n",
      "iteration: 519000 loss: 0.0007 lr: 0.002\n",
      "iteration: 520000 loss: 0.0007 lr: 0.002\n",
      "iteration: 521000 loss: 0.0007 lr: 0.002\n",
      "iteration: 522000 loss: 0.0007 lr: 0.002\n",
      "iteration: 523000 loss: 0.0007 lr: 0.002\n",
      "iteration: 524000 loss: 0.0008 lr: 0.002\n",
      "iteration: 525000 loss: 0.0007 lr: 0.002\n",
      "iteration: 526000 loss: 0.0007 lr: 0.002\n",
      "iteration: 527000 loss: 0.0007 lr: 0.002\n",
      "iteration: 528000 loss: 0.0007 lr: 0.002\n",
      "iteration: 529000 loss: 0.0007 lr: 0.002\n",
      "iteration: 530000 loss: 0.0007 lr: 0.002\n",
      "iteration: 531000 loss: 0.0007 lr: 0.002\n",
      "iteration: 532000 loss: 0.0007 lr: 0.002\n",
      "iteration: 533000 loss: 0.0007 lr: 0.002\n",
      "iteration: 534000 loss: 0.0007 lr: 0.002\n",
      "iteration: 535000 loss: 0.0007 lr: 0.002\n",
      "iteration: 536000 loss: 0.0007 lr: 0.002\n",
      "iteration: 537000 loss: 0.0007 lr: 0.002\n",
      "iteration: 538000 loss: 0.0007 lr: 0.002\n",
      "iteration: 539000 loss: 0.0007 lr: 0.002\n",
      "iteration: 540000 loss: 0.0007 lr: 0.002\n",
      "iteration: 541000 loss: 0.0008 lr: 0.002\n",
      "iteration: 542000 loss: 0.0007 lr: 0.002\n",
      "iteration: 543000 loss: 0.0007 lr: 0.002\n",
      "iteration: 544000 loss: 0.0007 lr: 0.002\n",
      "iteration: 545000 loss: 0.0007 lr: 0.002\n",
      "iteration: 546000 loss: 0.0007 lr: 0.002\n",
      "iteration: 547000 loss: 0.0007 lr: 0.002\n",
      "iteration: 548000 loss: 0.0007 lr: 0.002\n",
      "iteration: 549000 loss: 0.0007 lr: 0.002\n",
      "iteration: 550000 loss: 0.0008 lr: 0.002\n",
      "iteration: 551000 loss: 0.0007 lr: 0.002\n",
      "iteration: 552000 loss: 0.0007 lr: 0.002\n",
      "iteration: 553000 loss: 0.0007 lr: 0.002\n",
      "iteration: 554000 loss: 0.0007 lr: 0.002\n",
      "iteration: 555000 loss: 0.0007 lr: 0.002\n",
      "iteration: 556000 loss: 0.0007 lr: 0.002\n",
      "iteration: 557000 loss: 0.0007 lr: 0.002\n",
      "iteration: 558000 loss: 0.0007 lr: 0.002\n",
      "iteration: 559000 loss: 0.0007 lr: 0.002\n",
      "iteration: 560000 loss: 0.0007 lr: 0.002\n",
      "iteration: 561000 loss: 0.0007 lr: 0.002\n",
      "iteration: 562000 loss: 0.0007 lr: 0.002\n",
      "iteration: 563000 loss: 0.0007 lr: 0.002\n",
      "iteration: 564000 loss: 0.0007 lr: 0.002\n",
      "iteration: 565000 loss: 0.0007 lr: 0.002\n",
      "iteration: 566000 loss: 0.0007 lr: 0.002\n",
      "iteration: 567000 loss: 0.0007 lr: 0.002\n",
      "iteration: 568000 loss: 0.0007 lr: 0.002\n",
      "iteration: 569000 loss: 0.0007 lr: 0.002\n",
      "iteration: 570000 loss: 0.0007 lr: 0.002\n",
      "iteration: 571000 loss: 0.0007 lr: 0.002\n",
      "iteration: 572000 loss: 0.0007 lr: 0.002\n",
      "iteration: 573000 loss: 0.0007 lr: 0.002\n",
      "iteration: 574000 loss: 0.0007 lr: 0.002\n",
      "iteration: 575000 loss: 0.0007 lr: 0.002\n",
      "iteration: 576000 loss: 0.0007 lr: 0.002\n",
      "iteration: 577000 loss: 0.0007 lr: 0.002\n",
      "iteration: 578000 loss: 0.0007 lr: 0.002\n",
      "iteration: 579000 loss: 0.0007 lr: 0.002\n",
      "iteration: 580000 loss: 0.0007 lr: 0.002\n",
      "iteration: 581000 loss: 0.0007 lr: 0.002\n",
      "iteration: 582000 loss: 0.0007 lr: 0.002\n",
      "iteration: 583000 loss: 0.0007 lr: 0.002\n",
      "iteration: 584000 loss: 0.0007 lr: 0.002\n",
      "iteration: 585000 loss: 0.0007 lr: 0.002\n",
      "iteration: 586000 loss: 0.0007 lr: 0.002\n",
      "iteration: 587000 loss: 0.0007 lr: 0.002\n",
      "iteration: 588000 loss: 0.0007 lr: 0.002\n",
      "iteration: 589000 loss: 0.0007 lr: 0.002\n",
      "iteration: 590000 loss: 0.0007 lr: 0.002\n",
      "iteration: 591000 loss: 0.0007 lr: 0.002\n",
      "iteration: 592000 loss: 0.0007 lr: 0.002\n",
      "iteration: 593000 loss: 0.0007 lr: 0.002\n",
      "iteration: 594000 loss: 0.0007 lr: 0.002\n",
      "iteration: 595000 loss: 0.0007 lr: 0.002\n",
      "iteration: 596000 loss: 0.0007 lr: 0.002\n",
      "iteration: 597000 loss: 0.0007 lr: 0.002\n",
      "iteration: 598000 loss: 0.0007 lr: 0.002\n",
      "iteration: 599000 loss: 0.0007 lr: 0.002\n",
      "iteration: 600000 loss: 0.0007 lr: 0.002\n",
      "iteration: 601000 loss: 0.0007 lr: 0.002\n",
      "iteration: 602000 loss: 0.0007 lr: 0.002\n",
      "iteration: 603000 loss: 0.0007 lr: 0.002\n",
      "iteration: 604000 loss: 0.0008 lr: 0.002\n",
      "iteration: 605000 loss: 0.0007 lr: 0.002\n",
      "iteration: 606000 loss: 0.0007 lr: 0.002\n",
      "iteration: 607000 loss: 0.0007 lr: 0.002\n",
      "iteration: 608000 loss: 0.0007 lr: 0.002\n",
      "iteration: 609000 loss: 0.0007 lr: 0.002\n",
      "iteration: 610000 loss: 0.0007 lr: 0.002\n",
      "iteration: 611000 loss: 0.0007 lr: 0.002\n",
      "iteration: 612000 loss: 0.0007 lr: 0.002\n",
      "iteration: 613000 loss: 0.0007 lr: 0.002\n",
      "iteration: 614000 loss: 0.0007 lr: 0.002\n"
     ]
    },
    {
     "name": "stderr",
     "output_type": "stream",
     "text": [
      "iteration: 615000 loss: 0.0007 lr: 0.002\n",
      "iteration: 616000 loss: 0.0007 lr: 0.002\n",
      "iteration: 617000 loss: 0.0007 lr: 0.002\n",
      "iteration: 618000 loss: 0.0007 lr: 0.002\n",
      "iteration: 619000 loss: 0.0007 lr: 0.002\n",
      "iteration: 620000 loss: 0.0007 lr: 0.002\n",
      "iteration: 621000 loss: 0.0007 lr: 0.002\n",
      "iteration: 622000 loss: 0.0007 lr: 0.002\n",
      "iteration: 623000 loss: 0.0007 lr: 0.002\n",
      "iteration: 624000 loss: 0.0007 lr: 0.002\n",
      "iteration: 625000 loss: 0.0007 lr: 0.002\n",
      "iteration: 626000 loss: 0.0007 lr: 0.002\n",
      "iteration: 627000 loss: 0.0007 lr: 0.002\n",
      "iteration: 628000 loss: 0.0007 lr: 0.002\n",
      "iteration: 629000 loss: 0.0007 lr: 0.002\n",
      "iteration: 630000 loss: 0.0007 lr: 0.002\n",
      "iteration: 631000 loss: 0.0007 lr: 0.002\n",
      "iteration: 632000 loss: 0.0008 lr: 0.002\n",
      "iteration: 633000 loss: 0.0007 lr: 0.002\n",
      "iteration: 634000 loss: 0.0007 lr: 0.002\n",
      "iteration: 635000 loss: 0.0007 lr: 0.002\n",
      "iteration: 636000 loss: 0.0007 lr: 0.002\n",
      "iteration: 637000 loss: 0.0007 lr: 0.002\n",
      "iteration: 638000 loss: 0.0007 lr: 0.002\n",
      "iteration: 639000 loss: 0.0007 lr: 0.002\n",
      "iteration: 640000 loss: 0.0007 lr: 0.002\n",
      "iteration: 641000 loss: 0.0007 lr: 0.002\n",
      "iteration: 642000 loss: 0.0007 lr: 0.002\n",
      "iteration: 643000 loss: 0.0007 lr: 0.002\n",
      "iteration: 644000 loss: 0.0007 lr: 0.002\n",
      "iteration: 645000 loss: 0.0007 lr: 0.002\n",
      "iteration: 646000 loss: 0.0007 lr: 0.002\n",
      "iteration: 647000 loss: 0.0007 lr: 0.002\n",
      "iteration: 648000 loss: 0.0007 lr: 0.002\n",
      "iteration: 649000 loss: 0.0007 lr: 0.002\n",
      "iteration: 650000 loss: 0.0007 lr: 0.002\n",
      "iteration: 651000 loss: 0.0007 lr: 0.002\n",
      "iteration: 652000 loss: 0.0007 lr: 0.002\n",
      "iteration: 653000 loss: 0.0007 lr: 0.002\n",
      "iteration: 654000 loss: 0.0007 lr: 0.002\n",
      "iteration: 655000 loss: 0.0007 lr: 0.002\n",
      "iteration: 656000 loss: 0.0007 lr: 0.002\n",
      "iteration: 657000 loss: 0.0007 lr: 0.002\n",
      "iteration: 658000 loss: 0.0007 lr: 0.002\n",
      "iteration: 659000 loss: 0.0007 lr: 0.002\n",
      "iteration: 660000 loss: 0.0007 lr: 0.002\n",
      "iteration: 661000 loss: 0.0007 lr: 0.002\n",
      "iteration: 662000 loss: 0.0007 lr: 0.002\n",
      "iteration: 663000 loss: 0.0007 lr: 0.002\n",
      "iteration: 664000 loss: 0.0007 lr: 0.002\n",
      "iteration: 665000 loss: 0.0007 lr: 0.002\n",
      "iteration: 666000 loss: 0.0007 lr: 0.002\n",
      "iteration: 667000 loss: 0.0007 lr: 0.002\n",
      "iteration: 668000 loss: 0.0007 lr: 0.002\n",
      "iteration: 669000 loss: 0.0006 lr: 0.002\n",
      "iteration: 670000 loss: 0.0007 lr: 0.002\n",
      "iteration: 671000 loss: 0.0007 lr: 0.002\n",
      "iteration: 672000 loss: 0.0007 lr: 0.002\n",
      "iteration: 673000 loss: 0.0007 lr: 0.002\n",
      "iteration: 674000 loss: 0.0007 lr: 0.002\n",
      "iteration: 675000 loss: 0.0007 lr: 0.002\n",
      "iteration: 676000 loss: 0.0007 lr: 0.002\n",
      "iteration: 677000 loss: 0.0007 lr: 0.002\n",
      "iteration: 678000 loss: 0.0007 lr: 0.002\n",
      "iteration: 679000 loss: 0.0007 lr: 0.002\n",
      "iteration: 680000 loss: 0.0007 lr: 0.002\n",
      "iteration: 681000 loss: 0.0007 lr: 0.002\n",
      "iteration: 682000 loss: 0.0007 lr: 0.002\n",
      "iteration: 683000 loss: 0.0007 lr: 0.002\n",
      "iteration: 684000 loss: 0.0007 lr: 0.002\n",
      "iteration: 685000 loss: 0.0007 lr: 0.002\n",
      "iteration: 686000 loss: 0.0007 lr: 0.002\n",
      "iteration: 687000 loss: 0.0007 lr: 0.002\n",
      "iteration: 688000 loss: 0.0007 lr: 0.002\n",
      "iteration: 689000 loss: 0.0007 lr: 0.002\n",
      "iteration: 690000 loss: 0.0007 lr: 0.002\n",
      "iteration: 691000 loss: 0.0007 lr: 0.002\n",
      "iteration: 692000 loss: 0.0007 lr: 0.002\n",
      "iteration: 693000 loss: 0.0007 lr: 0.002\n",
      "iteration: 694000 loss: 0.0007 lr: 0.002\n",
      "iteration: 695000 loss: 0.0007 lr: 0.002\n",
      "iteration: 696000 loss: 0.0007 lr: 0.002\n",
      "iteration: 697000 loss: 0.0007 lr: 0.002\n",
      "iteration: 698000 loss: 0.0007 lr: 0.002\n",
      "iteration: 699000 loss: 0.0007 lr: 0.002\n",
      "iteration: 700000 loss: 0.0007 lr: 0.002\n",
      "iteration: 701000 loss: 0.0007 lr: 0.002\n",
      "iteration: 702000 loss: 0.0007 lr: 0.002\n",
      "iteration: 703000 loss: 0.0007 lr: 0.002\n",
      "iteration: 704000 loss: 0.0007 lr: 0.002\n",
      "iteration: 705000 loss: 0.0007 lr: 0.002\n",
      "iteration: 706000 loss: 0.0007 lr: 0.002\n",
      "iteration: 707000 loss: 0.0007 lr: 0.002\n",
      "iteration: 708000 loss: 0.0007 lr: 0.002\n",
      "iteration: 709000 loss: 0.0007 lr: 0.002\n",
      "iteration: 710000 loss: 0.0007 lr: 0.002\n",
      "iteration: 711000 loss: 0.0007 lr: 0.002\n",
      "iteration: 712000 loss: 0.0007 lr: 0.002\n",
      "iteration: 713000 loss: 0.0007 lr: 0.002\n",
      "iteration: 714000 loss: 0.0007 lr: 0.002\n",
      "iteration: 715000 loss: 0.0007 lr: 0.002\n",
      "iteration: 716000 loss: 0.0007 lr: 0.002\n",
      "iteration: 717000 loss: 0.0007 lr: 0.002\n",
      "iteration: 718000 loss: 0.0007 lr: 0.002\n",
      "iteration: 719000 loss: 0.0007 lr: 0.002\n",
      "iteration: 720000 loss: 0.0007 lr: 0.002\n",
      "iteration: 721000 loss: 0.0007 lr: 0.002\n",
      "iteration: 722000 loss: 0.0007 lr: 0.002\n",
      "iteration: 723000 loss: 0.0006 lr: 0.002\n",
      "iteration: 724000 loss: 0.0007 lr: 0.002\n",
      "iteration: 725000 loss: 0.0007 lr: 0.002\n",
      "iteration: 726000 loss: 0.0007 lr: 0.002\n",
      "iteration: 727000 loss: 0.0007 lr: 0.002\n",
      "iteration: 728000 loss: 0.0007 lr: 0.002\n",
      "iteration: 729000 loss: 0.0007 lr: 0.002\n",
      "iteration: 730000 loss: 0.0007 lr: 0.002\n",
      "iteration: 731000 loss: 0.0007 lr: 0.001\n",
      "iteration: 732000 loss: 0.0007 lr: 0.001\n",
      "iteration: 733000 loss: 0.0007 lr: 0.001\n",
      "iteration: 734000 loss: 0.0007 lr: 0.001\n",
      "iteration: 735000 loss: 0.0007 lr: 0.001\n",
      "iteration: 736000 loss: 0.0007 lr: 0.001\n",
      "iteration: 737000 loss: 0.0007 lr: 0.001\n",
      "iteration: 738000 loss: 0.0007 lr: 0.001\n",
      "iteration: 739000 loss: 0.0007 lr: 0.001\n",
      "iteration: 740000 loss: 0.0007 lr: 0.001\n",
      "iteration: 741000 loss: 0.0007 lr: 0.001\n",
      "iteration: 742000 loss: 0.0007 lr: 0.001\n",
      "iteration: 743000 loss: 0.0007 lr: 0.001\n",
      "iteration: 744000 loss: 0.0007 lr: 0.001\n",
      "iteration: 745000 loss: 0.0007 lr: 0.001\n",
      "iteration: 746000 loss: 0.0007 lr: 0.001\n",
      "iteration: 747000 loss: 0.0007 lr: 0.001\n",
      "iteration: 748000 loss: 0.0007 lr: 0.001\n",
      "iteration: 749000 loss: 0.0007 lr: 0.001\n",
      "iteration: 750000 loss: 0.0007 lr: 0.001\n",
      "iteration: 751000 loss: 0.0007 lr: 0.001\n",
      "iteration: 752000 loss: 0.0007 lr: 0.001\n",
      "iteration: 753000 loss: 0.0007 lr: 0.001\n",
      "iteration: 754000 loss: 0.0007 lr: 0.001\n",
      "iteration: 755000 loss: 0.0007 lr: 0.001\n",
      "iteration: 756000 loss: 0.0007 lr: 0.001\n",
      "iteration: 757000 loss: 0.0007 lr: 0.001\n",
      "iteration: 758000 loss: 0.0007 lr: 0.001\n",
      "iteration: 759000 loss: 0.0007 lr: 0.001\n",
      "iteration: 760000 loss: 0.0008 lr: 0.001\n",
      "iteration: 761000 loss: 0.0007 lr: 0.001\n",
      "iteration: 762000 loss: 0.0007 lr: 0.001\n",
      "iteration: 763000 loss: 0.0007 lr: 0.001\n",
      "iteration: 764000 loss: 0.0007 lr: 0.001\n",
      "iteration: 765000 loss: 0.0007 lr: 0.001\n",
      "iteration: 766000 loss: 0.0007 lr: 0.001\n",
      "iteration: 767000 loss: 0.0007 lr: 0.001\n",
      "iteration: 768000 loss: 0.0007 lr: 0.001\n",
      "iteration: 769000 loss: 0.0007 lr: 0.001\n",
      "iteration: 770000 loss: 0.0007 lr: 0.001\n",
      "iteration: 771000 loss: 0.0007 lr: 0.001\n",
      "iteration: 772000 loss: 0.0007 lr: 0.001\n",
      "iteration: 773000 loss: 0.0007 lr: 0.001\n",
      "iteration: 774000 loss: 0.0007 lr: 0.001\n",
      "iteration: 775000 loss: 0.0007 lr: 0.001\n",
      "iteration: 776000 loss: 0.0007 lr: 0.001\n",
      "iteration: 777000 loss: 0.0007 lr: 0.001\n",
      "iteration: 778000 loss: 0.0007 lr: 0.001\n",
      "iteration: 779000 loss: 0.0007 lr: 0.001\n",
      "iteration: 780000 loss: 0.0007 lr: 0.001\n",
      "iteration: 781000 loss: 0.0007 lr: 0.001\n",
      "iteration: 782000 loss: 0.0007 lr: 0.001\n",
      "iteration: 783000 loss: 0.0007 lr: 0.001\n",
      "iteration: 784000 loss: 0.0007 lr: 0.001\n",
      "iteration: 785000 loss: 0.0007 lr: 0.001\n",
      "iteration: 786000 loss: 0.0007 lr: 0.001\n",
      "iteration: 787000 loss: 0.0007 lr: 0.001\n",
      "iteration: 788000 loss: 0.0007 lr: 0.001\n",
      "iteration: 789000 loss: 0.0007 lr: 0.001\n",
      "iteration: 790000 loss: 0.0007 lr: 0.001\n",
      "iteration: 791000 loss: 0.0007 lr: 0.001\n",
      "iteration: 792000 loss: 0.0007 lr: 0.001\n",
      "iteration: 793000 loss: 0.0007 lr: 0.001\n",
      "iteration: 794000 loss: 0.0007 lr: 0.001\n",
      "iteration: 795000 loss: 0.0007 lr: 0.001\n",
      "iteration: 796000 loss: 0.0007 lr: 0.001\n",
      "iteration: 797000 loss: 0.0007 lr: 0.001\n",
      "iteration: 798000 loss: 0.0007 lr: 0.001\n",
      "iteration: 799000 loss: 0.0007 lr: 0.001\n",
      "iteration: 800000 loss: 0.0007 lr: 0.001\n",
      "iteration: 801000 loss: 0.0007 lr: 0.001\n",
      "iteration: 802000 loss: 0.0007 lr: 0.001\n",
      "iteration: 803000 loss: 0.0007 lr: 0.001\n",
      "iteration: 804000 loss: 0.0007 lr: 0.001\n",
      "iteration: 805000 loss: 0.0007 lr: 0.001\n",
      "iteration: 806000 loss: 0.0007 lr: 0.001\n",
      "iteration: 807000 loss: 0.0007 lr: 0.001\n",
      "iteration: 808000 loss: 0.0007 lr: 0.001\n",
      "iteration: 809000 loss: 0.0007 lr: 0.001\n",
      "iteration: 810000 loss: 0.0007 lr: 0.001\n",
      "iteration: 811000 loss: 0.0006 lr: 0.001\n",
      "iteration: 812000 loss: 0.0007 lr: 0.001\n",
      "iteration: 813000 loss: 0.0007 lr: 0.001\n",
      "iteration: 814000 loss: 0.0007 lr: 0.001\n"
     ]
    },
    {
     "name": "stderr",
     "output_type": "stream",
     "text": [
      "iteration: 815000 loss: 0.0007 lr: 0.001\n",
      "iteration: 816000 loss: 0.0007 lr: 0.001\n",
      "iteration: 817000 loss: 0.0007 lr: 0.001\n",
      "iteration: 818000 loss: 0.0007 lr: 0.001\n",
      "iteration: 819000 loss: 0.0007 lr: 0.001\n",
      "iteration: 820000 loss: 0.0007 lr: 0.001\n",
      "iteration: 821000 loss: 0.0007 lr: 0.001\n",
      "iteration: 822000 loss: 0.0007 lr: 0.001\n",
      "iteration: 823000 loss: 0.0007 lr: 0.001\n",
      "iteration: 824000 loss: 0.0007 lr: 0.001\n",
      "iteration: 825000 loss: 0.0006 lr: 0.001\n",
      "iteration: 826000 loss: 0.0007 lr: 0.001\n",
      "iteration: 827000 loss: 0.0007 lr: 0.001\n",
      "iteration: 828000 loss: 0.0007 lr: 0.001\n",
      "iteration: 829000 loss: 0.0007 lr: 0.001\n",
      "iteration: 830000 loss: 0.0007 lr: 0.001\n",
      "iteration: 831000 loss: 0.0007 lr: 0.001\n",
      "iteration: 832000 loss: 0.0007 lr: 0.001\n",
      "iteration: 833000 loss: 0.0007 lr: 0.001\n",
      "iteration: 834000 loss: 0.0007 lr: 0.001\n",
      "iteration: 835000 loss: 0.0007 lr: 0.001\n",
      "iteration: 836000 loss: 0.0007 lr: 0.001\n",
      "iteration: 837000 loss: 0.0007 lr: 0.001\n",
      "iteration: 838000 loss: 0.0007 lr: 0.001\n",
      "iteration: 839000 loss: 0.0007 lr: 0.001\n",
      "iteration: 840000 loss: 0.0007 lr: 0.001\n",
      "iteration: 841000 loss: 0.0007 lr: 0.001\n",
      "iteration: 842000 loss: 0.0007 lr: 0.001\n",
      "iteration: 843000 loss: 0.0007 lr: 0.001\n",
      "iteration: 844000 loss: 0.0007 lr: 0.001\n",
      "iteration: 845000 loss: 0.0007 lr: 0.001\n",
      "iteration: 846000 loss: 0.0007 lr: 0.001\n",
      "iteration: 847000 loss: 0.0007 lr: 0.001\n",
      "iteration: 848000 loss: 0.0007 lr: 0.001\n",
      "iteration: 849000 loss: 0.0007 lr: 0.001\n",
      "iteration: 850000 loss: 0.0007 lr: 0.001\n",
      "iteration: 851000 loss: 0.0007 lr: 0.001\n",
      "iteration: 852000 loss: 0.0007 lr: 0.001\n",
      "iteration: 853000 loss: 0.0007 lr: 0.001\n",
      "iteration: 854000 loss: 0.0007 lr: 0.001\n",
      "iteration: 855000 loss: 0.0007 lr: 0.001\n",
      "iteration: 856000 loss: 0.0007 lr: 0.001\n",
      "iteration: 857000 loss: 0.0007 lr: 0.001\n",
      "iteration: 858000 loss: 0.0007 lr: 0.001\n",
      "iteration: 859000 loss: 0.0007 lr: 0.001\n",
      "iteration: 860000 loss: 0.0007 lr: 0.001\n",
      "iteration: 861000 loss: 0.0007 lr: 0.001\n",
      "iteration: 862000 loss: 0.0007 lr: 0.001\n",
      "iteration: 863000 loss: 0.0007 lr: 0.001\n",
      "iteration: 864000 loss: 0.0007 lr: 0.001\n",
      "iteration: 865000 loss: 0.0007 lr: 0.001\n",
      "iteration: 866000 loss: 0.0007 lr: 0.001\n",
      "iteration: 867000 loss: 0.0007 lr: 0.001\n",
      "iteration: 868000 loss: 0.0007 lr: 0.001\n",
      "iteration: 869000 loss: 0.0007 lr: 0.001\n",
      "iteration: 870000 loss: 0.0007 lr: 0.001\n",
      "iteration: 871000 loss: 0.0007 lr: 0.001\n",
      "iteration: 872000 loss: 0.0007 lr: 0.001\n",
      "iteration: 873000 loss: 0.0007 lr: 0.001\n",
      "iteration: 874000 loss: 0.0007 lr: 0.001\n",
      "iteration: 875000 loss: 0.0007 lr: 0.001\n",
      "iteration: 876000 loss: 0.0007 lr: 0.001\n",
      "iteration: 877000 loss: 0.0007 lr: 0.001\n",
      "iteration: 878000 loss: 0.0007 lr: 0.001\n",
      "iteration: 879000 loss: 0.0007 lr: 0.001\n",
      "iteration: 880000 loss: 0.0007 lr: 0.001\n",
      "iteration: 881000 loss: 0.0007 lr: 0.001\n",
      "iteration: 882000 loss: 0.0007 lr: 0.001\n",
      "iteration: 883000 loss: 0.0007 lr: 0.001\n",
      "iteration: 884000 loss: 0.0006 lr: 0.001\n",
      "iteration: 885000 loss: 0.0007 lr: 0.001\n",
      "iteration: 886000 loss: 0.0007 lr: 0.001\n",
      "iteration: 887000 loss: 0.0007 lr: 0.001\n",
      "iteration: 888000 loss: 0.0007 lr: 0.001\n",
      "iteration: 889000 loss: 0.0007 lr: 0.001\n",
      "iteration: 890000 loss: 0.0007 lr: 0.001\n",
      "iteration: 891000 loss: 0.0007 lr: 0.001\n",
      "iteration: 892000 loss: 0.0007 lr: 0.001\n",
      "iteration: 893000 loss: 0.0007 lr: 0.001\n",
      "iteration: 894000 loss: 0.0007 lr: 0.001\n",
      "iteration: 895000 loss: 0.0007 lr: 0.001\n",
      "iteration: 896000 loss: 0.0007 lr: 0.001\n",
      "iteration: 897000 loss: 0.0007 lr: 0.001\n",
      "iteration: 898000 loss: 0.0007 lr: 0.001\n",
      "iteration: 899000 loss: 0.0007 lr: 0.001\n",
      "iteration: 900000 loss: 0.0007 lr: 0.001\n",
      "iteration: 901000 loss: 0.0007 lr: 0.001\n",
      "iteration: 902000 loss: 0.0007 lr: 0.001\n",
      "iteration: 903000 loss: 0.0007 lr: 0.001\n",
      "iteration: 904000 loss: 0.0007 lr: 0.001\n",
      "iteration: 905000 loss: 0.0007 lr: 0.001\n",
      "iteration: 906000 loss: 0.0007 lr: 0.001\n",
      "iteration: 907000 loss: 0.0007 lr: 0.001\n",
      "iteration: 908000 loss: 0.0007 lr: 0.001\n",
      "iteration: 909000 loss: 0.0007 lr: 0.001\n",
      "iteration: 910000 loss: 0.0007 lr: 0.001\n",
      "iteration: 911000 loss: 0.0007 lr: 0.001\n",
      "iteration: 912000 loss: 0.0007 lr: 0.001\n",
      "iteration: 913000 loss: 0.0007 lr: 0.001\n",
      "iteration: 914000 loss: 0.0007 lr: 0.001\n",
      "iteration: 915000 loss: 0.0007 lr: 0.001\n",
      "iteration: 916000 loss: 0.0007 lr: 0.001\n",
      "iteration: 917000 loss: 0.0007 lr: 0.001\n",
      "iteration: 918000 loss: 0.0007 lr: 0.001\n",
      "iteration: 919000 loss: 0.0007 lr: 0.001\n",
      "iteration: 920000 loss: 0.0007 lr: 0.001\n",
      "iteration: 921000 loss: 0.0007 lr: 0.001\n",
      "iteration: 922000 loss: 0.0007 lr: 0.001\n",
      "iteration: 923000 loss: 0.0007 lr: 0.001\n",
      "iteration: 924000 loss: 0.0007 lr: 0.001\n",
      "iteration: 925000 loss: 0.0007 lr: 0.001\n",
      "iteration: 926000 loss: 0.0007 lr: 0.001\n",
      "iteration: 927000 loss: 0.0007 lr: 0.001\n",
      "iteration: 928000 loss: 0.0007 lr: 0.001\n",
      "iteration: 929000 loss: 0.0007 lr: 0.001\n",
      "iteration: 930000 loss: 0.0007 lr: 0.001\n",
      "iteration: 931000 loss: 0.0007 lr: 0.001\n",
      "iteration: 932000 loss: 0.0007 lr: 0.001\n",
      "iteration: 933000 loss: 0.0007 lr: 0.001\n",
      "iteration: 934000 loss: 0.0007 lr: 0.001\n",
      "iteration: 935000 loss: 0.0006 lr: 0.001\n",
      "iteration: 936000 loss: 0.0007 lr: 0.001\n",
      "iteration: 937000 loss: 0.0007 lr: 0.001\n",
      "iteration: 938000 loss: 0.0007 lr: 0.001\n",
      "iteration: 939000 loss: 0.0007 lr: 0.001\n",
      "iteration: 940000 loss: 0.0007 lr: 0.001\n",
      "iteration: 941000 loss: 0.0007 lr: 0.001\n",
      "iteration: 942000 loss: 0.0007 lr: 0.001\n",
      "iteration: 943000 loss: 0.0007 lr: 0.001\n",
      "iteration: 944000 loss: 0.0007 lr: 0.001\n",
      "iteration: 945000 loss: 0.0007 lr: 0.001\n",
      "iteration: 946000 loss: 0.0007 lr: 0.001\n",
      "iteration: 947000 loss: 0.0007 lr: 0.001\n",
      "iteration: 948000 loss: 0.0007 lr: 0.001\n",
      "iteration: 949000 loss: 0.0007 lr: 0.001\n",
      "iteration: 950000 loss: 0.0007 lr: 0.001\n",
      "iteration: 951000 loss: 0.0007 lr: 0.001\n",
      "iteration: 952000 loss: 0.0007 lr: 0.001\n",
      "iteration: 953000 loss: 0.0007 lr: 0.001\n",
      "iteration: 954000 loss: 0.0007 lr: 0.001\n",
      "iteration: 955000 loss: 0.0007 lr: 0.001\n",
      "iteration: 956000 loss: 0.0007 lr: 0.001\n",
      "iteration: 957000 loss: 0.0006 lr: 0.001\n",
      "iteration: 958000 loss: 0.0007 lr: 0.001\n",
      "iteration: 959000 loss: 0.0007 lr: 0.001\n",
      "iteration: 960000 loss: 0.0007 lr: 0.001\n",
      "iteration: 961000 loss: 0.0007 lr: 0.001\n",
      "iteration: 962000 loss: 0.0007 lr: 0.001\n",
      "iteration: 963000 loss: 0.0007 lr: 0.001\n",
      "iteration: 964000 loss: 0.0007 lr: 0.001\n",
      "iteration: 965000 loss: 0.0007 lr: 0.001\n",
      "iteration: 966000 loss: 0.0007 lr: 0.001\n",
      "iteration: 967000 loss: 0.0007 lr: 0.001\n",
      "iteration: 968000 loss: 0.0006 lr: 0.001\n",
      "iteration: 969000 loss: 0.0007 lr: 0.001\n",
      "iteration: 970000 loss: 0.0006 lr: 0.001\n",
      "iteration: 971000 loss: 0.0007 lr: 0.001\n",
      "iteration: 972000 loss: 0.0007 lr: 0.001\n",
      "iteration: 973000 loss: 0.0006 lr: 0.001\n",
      "iteration: 974000 loss: 0.0007 lr: 0.001\n",
      "iteration: 975000 loss: 0.0007 lr: 0.001\n",
      "iteration: 976000 loss: 0.0007 lr: 0.001\n",
      "iteration: 977000 loss: 0.0006 lr: 0.001\n",
      "iteration: 978000 loss: 0.0007 lr: 0.001\n",
      "iteration: 979000 loss: 0.0007 lr: 0.001\n",
      "iteration: 980000 loss: 0.0007 lr: 0.001\n",
      "iteration: 981000 loss: 0.0007 lr: 0.001\n",
      "iteration: 982000 loss: 0.0007 lr: 0.001\n",
      "iteration: 983000 loss: 0.0007 lr: 0.001\n",
      "iteration: 984000 loss: 0.0007 lr: 0.001\n",
      "iteration: 985000 loss: 0.0007 lr: 0.001\n",
      "iteration: 986000 loss: 0.0007 lr: 0.001\n",
      "iteration: 987000 loss: 0.0006 lr: 0.001\n",
      "iteration: 988000 loss: 0.0006 lr: 0.001\n",
      "iteration: 989000 loss: 0.0007 lr: 0.001\n",
      "iteration: 990000 loss: 0.0007 lr: 0.001\n",
      "iteration: 991000 loss: 0.0007 lr: 0.001\n",
      "iteration: 992000 loss: 0.0007 lr: 0.001\n",
      "iteration: 993000 loss: 0.0007 lr: 0.001\n",
      "iteration: 994000 loss: 0.0007 lr: 0.001\n",
      "iteration: 995000 loss: 0.0007 lr: 0.001\n",
      "iteration: 996000 loss: 0.0007 lr: 0.001\n",
      "iteration: 997000 loss: 0.0007 lr: 0.001\n",
      "iteration: 998000 loss: 0.0007 lr: 0.001\n",
      "iteration: 999000 loss: 0.0007 lr: 0.001\n",
      "iteration: 1000000 loss: 0.0007 lr: 0.001\n",
      "iteration: 1001000 loss: 0.0007 lr: 0.001\n",
      "iteration: 1002000 loss: 0.0007 lr: 0.001\n",
      "iteration: 1003000 loss: 0.0007 lr: 0.001\n",
      "iteration: 1004000 loss: 0.0007 lr: 0.001\n",
      "iteration: 1005000 loss: 0.0007 lr: 0.001\n",
      "iteration: 1006000 loss: 0.0007 lr: 0.001\n",
      "iteration: 1007000 loss: 0.0007 lr: 0.001\n",
      "iteration: 1008000 loss: 0.0007 lr: 0.001\n",
      "iteration: 1009000 loss: 0.0007 lr: 0.001\n",
      "iteration: 1010000 loss: 0.0007 lr: 0.001\n",
      "iteration: 1011000 loss: 0.0007 lr: 0.001\n",
      "iteration: 1012000 loss: 0.0007 lr: 0.001\n",
      "iteration: 1013000 loss: 0.0007 lr: 0.001\n",
      "iteration: 1014000 loss: 0.0007 lr: 0.001\n"
     ]
    },
    {
     "name": "stderr",
     "output_type": "stream",
     "text": [
      "iteration: 1015000 loss: 0.0007 lr: 0.001\n",
      "iteration: 1016000 loss: 0.0007 lr: 0.001\n",
      "iteration: 1017000 loss: 0.0007 lr: 0.001\n",
      "iteration: 1018000 loss: 0.0007 lr: 0.001\n",
      "iteration: 1019000 loss: 0.0007 lr: 0.001\n",
      "iteration: 1020000 loss: 0.0007 lr: 0.001\n",
      "iteration: 1021000 loss: 0.0007 lr: 0.001\n",
      "iteration: 1022000 loss: 0.0007 lr: 0.001\n",
      "iteration: 1023000 loss: 0.0007 lr: 0.001\n",
      "iteration: 1024000 loss: 0.0007 lr: 0.001\n",
      "iteration: 1025000 loss: 0.0007 lr: 0.001\n",
      "iteration: 1026000 loss: 0.0007 lr: 0.001\n",
      "iteration: 1027000 loss: 0.0007 lr: 0.001\n",
      "iteration: 1028000 loss: 0.0007 lr: 0.001\n",
      "iteration: 1029000 loss: 0.0007 lr: 0.001\n",
      "iteration: 1030000 loss: 0.0007 lr: 0.001\n"
     ]
    },
    {
     "name": "stdout",
     "output_type": "stream",
     "text": [
      "The network is now trained and ready to evaluate. Use the function 'evaluate_network' to evaluate the network.\n"
     ]
    },
    {
     "name": "stderr",
     "output_type": "stream",
     "text": [
      "Exception in thread Thread-7:\n",
      "Traceback (most recent call last):\n",
      "  File \"C:\\Users\\MiaoLab-Blackrock\\anaconda3\\envs\\DLC-GPU\\lib\\site-packages\\tensorflow\\python\\client\\session.py\", line 1334, in _do_call\n",
      "    return fn(*args)\n",
      "  File \"C:\\Users\\MiaoLab-Blackrock\\anaconda3\\envs\\DLC-GPU\\lib\\site-packages\\tensorflow\\python\\client\\session.py\", line 1319, in _run_fn\n",
      "    options, feed_dict, fetch_list, target_list, run_metadata)\n",
      "  File \"C:\\Users\\MiaoLab-Blackrock\\anaconda3\\envs\\DLC-GPU\\lib\\site-packages\\tensorflow\\python\\client\\session.py\", line 1407, in _call_tf_sessionrun\n",
      "    run_metadata)\n",
      "tensorflow.python.framework.errors_impl.CancelledError: Enqueue operation was cancelled\n",
      "\t [[{{node fifo_queue_enqueue}}]]\n",
      "\n",
      "During handling of the above exception, another exception occurred:\n",
      "\n",
      "Traceback (most recent call last):\n",
      "  File \"C:\\Users\\MiaoLab-Blackrock\\anaconda3\\envs\\DLC-GPU\\lib\\threading.py\", line 926, in _bootstrap_inner\n",
      "    self.run()\n",
      "  File \"C:\\Users\\MiaoLab-Blackrock\\anaconda3\\envs\\DLC-GPU\\lib\\threading.py\", line 870, in run\n",
      "    self._target(*self._args, **self._kwargs)\n",
      "  File \"C:\\Users\\MiaoLab-Blackrock\\anaconda3\\envs\\DLC-GPU\\lib\\site-packages\\deeplabcut\\pose_estimation_tensorflow\\train.py\", line 91, in load_and_enqueue\n",
      "    sess.run(enqueue_op, feed_dict=food)\n",
      "  File \"C:\\Users\\MiaoLab-Blackrock\\anaconda3\\envs\\DLC-GPU\\lib\\site-packages\\tensorflow\\python\\client\\session.py\", line 929, in run\n",
      "    run_metadata_ptr)\n",
      "  File \"C:\\Users\\MiaoLab-Blackrock\\anaconda3\\envs\\DLC-GPU\\lib\\site-packages\\tensorflow\\python\\client\\session.py\", line 1152, in _run\n",
      "    feed_dict_tensor, options, run_metadata)\n",
      "  File \"C:\\Users\\MiaoLab-Blackrock\\anaconda3\\envs\\DLC-GPU\\lib\\site-packages\\tensorflow\\python\\client\\session.py\", line 1328, in _do_run\n",
      "    run_metadata)\n",
      "  File \"C:\\Users\\MiaoLab-Blackrock\\anaconda3\\envs\\DLC-GPU\\lib\\site-packages\\tensorflow\\python\\client\\session.py\", line 1348, in _do_call\n",
      "    raise type(e)(node_def, op, message)\n",
      "tensorflow.python.framework.errors_impl.CancelledError: Enqueue operation was cancelled\n",
      "\t [[node fifo_queue_enqueue (defined at C:\\Users\\MiaoLab-Blackrock\\anaconda3\\envs\\DLC-GPU\\lib\\site-packages\\deeplabcut\\pose_estimation_tensorflow\\train.py:77) ]]\n",
      "\n",
      "Caused by op 'fifo_queue_enqueue', defined at:\n",
      "  File \"C:\\Users\\MiaoLab-Blackrock\\anaconda3\\envs\\DLC-GPU\\lib\\runpy.py\", line 193, in _run_module_as_main\n",
      "    \"__main__\", mod_spec)\n",
      "  File \"C:\\Users\\MiaoLab-Blackrock\\anaconda3\\envs\\DLC-GPU\\lib\\runpy.py\", line 85, in _run_code\n",
      "    exec(code, run_globals)\n",
      "  File \"C:\\Users\\MiaoLab-Blackrock\\anaconda3\\envs\\DLC-GPU\\lib\\site-packages\\ipykernel_launcher.py\", line 16, in <module>\n",
      "    app.launch_new_instance()\n",
      "  File \"C:\\Users\\MiaoLab-Blackrock\\anaconda3\\envs\\DLC-GPU\\lib\\site-packages\\traitlets\\config\\application.py\", line 845, in launch_instance\n",
      "    app.start()\n",
      "  File \"C:\\Users\\MiaoLab-Blackrock\\anaconda3\\envs\\DLC-GPU\\lib\\site-packages\\ipykernel\\kernelapp.py\", line 612, in start\n",
      "    self.io_loop.start()\n",
      "  File \"C:\\Users\\MiaoLab-Blackrock\\anaconda3\\envs\\DLC-GPU\\lib\\site-packages\\tornado\\platform\\asyncio.py\", line 149, in start\n",
      "    self.asyncio_loop.run_forever()\n",
      "  File \"C:\\Users\\MiaoLab-Blackrock\\anaconda3\\envs\\DLC-GPU\\lib\\asyncio\\base_events.py\", line 541, in run_forever\n",
      "    self._run_once()\n",
      "  File \"C:\\Users\\MiaoLab-Blackrock\\anaconda3\\envs\\DLC-GPU\\lib\\asyncio\\base_events.py\", line 1786, in _run_once\n",
      "    handle._run()\n",
      "  File \"C:\\Users\\MiaoLab-Blackrock\\anaconda3\\envs\\DLC-GPU\\lib\\asyncio\\events.py\", line 88, in _run\n",
      "    self._context.run(self._callback, *self._args)\n",
      "  File \"C:\\Users\\MiaoLab-Blackrock\\anaconda3\\envs\\DLC-GPU\\lib\\site-packages\\tornado\\ioloop.py\", line 690, in <lambda>\n",
      "    lambda f: self._run_callback(functools.partial(callback, future))\n",
      "  File \"C:\\Users\\MiaoLab-Blackrock\\anaconda3\\envs\\DLC-GPU\\lib\\site-packages\\tornado\\ioloop.py\", line 743, in _run_callback\n",
      "    ret = callback()\n",
      "  File \"C:\\Users\\MiaoLab-Blackrock\\anaconda3\\envs\\DLC-GPU\\lib\\site-packages\\tornado\\gen.py\", line 787, in inner\n",
      "    self.run()\n",
      "  File \"C:\\Users\\MiaoLab-Blackrock\\anaconda3\\envs\\DLC-GPU\\lib\\site-packages\\tornado\\gen.py\", line 748, in run\n",
      "    yielded = self.gen.send(value)\n",
      "  File \"C:\\Users\\MiaoLab-Blackrock\\anaconda3\\envs\\DLC-GPU\\lib\\site-packages\\ipykernel\\kernelbase.py\", line 365, in process_one\n",
      "    yield gen.maybe_future(dispatch(*args))\n",
      "  File \"C:\\Users\\MiaoLab-Blackrock\\anaconda3\\envs\\DLC-GPU\\lib\\site-packages\\tornado\\gen.py\", line 209, in wrapper\n",
      "    yielded = next(result)\n",
      "  File \"C:\\Users\\MiaoLab-Blackrock\\anaconda3\\envs\\DLC-GPU\\lib\\site-packages\\ipykernel\\kernelbase.py\", line 268, in dispatch_shell\n",
      "    yield gen.maybe_future(handler(stream, idents, msg))\n",
      "  File \"C:\\Users\\MiaoLab-Blackrock\\anaconda3\\envs\\DLC-GPU\\lib\\site-packages\\tornado\\gen.py\", line 209, in wrapper\n",
      "    yielded = next(result)\n",
      "  File \"C:\\Users\\MiaoLab-Blackrock\\anaconda3\\envs\\DLC-GPU\\lib\\site-packages\\ipykernel\\kernelbase.py\", line 545, in execute_request\n",
      "    user_expressions, allow_stdin,\n",
      "  File \"C:\\Users\\MiaoLab-Blackrock\\anaconda3\\envs\\DLC-GPU\\lib\\site-packages\\tornado\\gen.py\", line 209, in wrapper\n",
      "    yielded = next(result)\n",
      "  File \"C:\\Users\\MiaoLab-Blackrock\\anaconda3\\envs\\DLC-GPU\\lib\\site-packages\\ipykernel\\ipkernel.py\", line 306, in do_execute\n",
      "    res = shell.run_cell(code, store_history=store_history, silent=silent)\n",
      "  File \"C:\\Users\\MiaoLab-Blackrock\\anaconda3\\envs\\DLC-GPU\\lib\\site-packages\\ipykernel\\zmqshell.py\", line 536, in run_cell\n",
      "    return super(ZMQInteractiveShell, self).run_cell(*args, **kwargs)\n",
      "  File \"C:\\Users\\MiaoLab-Blackrock\\anaconda3\\envs\\DLC-GPU\\lib\\site-packages\\IPython\\core\\interactiveshell.py\", line 2878, in run_cell\n",
      "    raw_cell, store_history, silent, shell_futures)\n",
      "  File \"C:\\Users\\MiaoLab-Blackrock\\anaconda3\\envs\\DLC-GPU\\lib\\site-packages\\IPython\\core\\interactiveshell.py\", line 2923, in _run_cell\n",
      "    return runner(coro)\n",
      "  File \"C:\\Users\\MiaoLab-Blackrock\\anaconda3\\envs\\DLC-GPU\\lib\\site-packages\\IPython\\core\\async_helpers.py\", line 68, in _pseudo_sync_runner\n",
      "    coro.send(None)\n",
      "  File \"C:\\Users\\MiaoLab-Blackrock\\anaconda3\\envs\\DLC-GPU\\lib\\site-packages\\IPython\\core\\interactiveshell.py\", line 3147, in run_cell_async\n",
      "    interactivity=interactivity, compiler=compiler, result=result)\n",
      "  File \"C:\\Users\\MiaoLab-Blackrock\\anaconda3\\envs\\DLC-GPU\\lib\\site-packages\\IPython\\core\\interactiveshell.py\", line 3338, in run_ast_nodes\n",
      "    if (await self.run_code(code, result,  async_=asy)):\n",
      "  File \"C:\\Users\\MiaoLab-Blackrock\\anaconda3\\envs\\DLC-GPU\\lib\\site-packages\\IPython\\core\\interactiveshell.py\", line 3418, in run_code\n",
      "    exec(code_obj, self.user_global_ns, self.user_ns)\n",
      "  File \"<ipython-input-5-afe8527ea841>\", line 2, in <module>\n",
      "    deeplabcut.train_network(config_path)\n",
      "  File \"C:\\Users\\MiaoLab-Blackrock\\anaconda3\\envs\\DLC-GPU\\lib\\site-packages\\deeplabcut\\pose_estimation_tensorflow\\training.py\", line 189, in train_network\n",
      "    allow_growth=allow_growth,\n",
      "  File \"C:\\Users\\MiaoLab-Blackrock\\anaconda3\\envs\\DLC-GPU\\lib\\site-packages\\deeplabcut\\pose_estimation_tensorflow\\train.py\", line 176, in train\n",
      "    batch, enqueue_op, placeholders = setup_preloading(batch_spec)\n",
      "  File \"C:\\Users\\MiaoLab-Blackrock\\anaconda3\\envs\\DLC-GPU\\lib\\site-packages\\deeplabcut\\pose_estimation_tensorflow\\train.py\", line 77, in setup_preloading\n",
      "    enqueue_op = q.enqueue(placeholders_list)\n",
      "  File \"C:\\Users\\MiaoLab-Blackrock\\anaconda3\\envs\\DLC-GPU\\lib\\site-packages\\tensorflow\\python\\ops\\data_flow_ops.py\", line 345, in enqueue\n",
      "    self._queue_ref, vals, name=scope)\n",
      "  File \"C:\\Users\\MiaoLab-Blackrock\\anaconda3\\envs\\DLC-GPU\\lib\\site-packages\\tensorflow\\python\\ops\\gen_data_flow_ops.py\", line 4158, in queue_enqueue_v2\n",
      "    timeout_ms=timeout_ms, name=name)\n",
      "  File \"C:\\Users\\MiaoLab-Blackrock\\anaconda3\\envs\\DLC-GPU\\lib\\site-packages\\tensorflow\\python\\framework\\op_def_library.py\", line 788, in _apply_op_helper\n",
      "    op_def=op_def)\n",
      "  File \"C:\\Users\\MiaoLab-Blackrock\\anaconda3\\envs\\DLC-GPU\\lib\\site-packages\\tensorflow\\python\\util\\deprecation.py\", line 507, in new_func\n",
      "    return func(*args, **kwargs)\n",
      "  File \"C:\\Users\\MiaoLab-Blackrock\\anaconda3\\envs\\DLC-GPU\\lib\\site-packages\\tensorflow\\python\\framework\\ops.py\", line 3300, in create_op\n",
      "    op_def=op_def)\n",
      "  File \"C:\\Users\\MiaoLab-Blackrock\\anaconda3\\envs\\DLC-GPU\\lib\\site-packages\\tensorflow\\python\\framework\\ops.py\", line 1801, in __init__\n",
      "    self._traceback = tf_stack.extract_stack()\n",
      "\n",
      "CancelledError (see above for traceback): Enqueue operation was cancelled\n",
      "\t [[node fifo_queue_enqueue (defined at C:\\Users\\MiaoLab-Blackrock\\anaconda3\\envs\\DLC-GPU\\lib\\site-packages\\deeplabcut\\pose_estimation_tensorflow\\train.py:77) ]]\n",
      "\n",
      "\n"
     ]
    }
   ],
   "source": [
    "# train_network(config_path,shuffle=1,trainingsetindex=0,gputouse=None,max_snapshots_to_keep=5,displayiters=1000,saveiters=20000,maxiters=200000)\n",
    "deeplabcut.train_network(config_path)"
   ]
  },
  {
   "cell_type": "markdown",
   "metadata": {},
   "source": [
    "## Evaluate the trained network;"
   ]
  },
  {
   "cell_type": "code",
   "execution_count": 6,
   "metadata": {
    "scrolled": true
   },
   "outputs": [
    {
     "name": "stderr",
     "output_type": "stream",
     "text": [
      "Config:\n",
      "{'all_joints': [[0], [1], [2]],\n",
      " 'all_joints_names': ['R', 'B', 'other'],\n",
      " 'batch_size': 1,\n",
      " 'crop_pad': 0,\n",
      " 'dataset': 'training-datasets\\\\iteration-0\\\\UnaugmentedDataSet_11122_2022112702Dec10\\\\11122_2022112702_ZX95shuffle1.mat',\n",
      " 'dataset_type': 'imgaug',\n",
      " 'deterministic': False,\n",
      " 'fg_fraction': 0.25,\n",
      " 'global_scale': 0.8,\n",
      " 'init_weights': 'C:\\\\Users\\\\MiaoLab-Blackrock\\\\anaconda3\\\\envs\\\\DLC-GPU\\\\lib\\\\site-packages\\\\deeplabcut\\\\pose_estimation_tensorflow\\\\models\\\\pretrained\\\\resnet_v1_50.ckpt',\n",
      " 'intermediate_supervision': False,\n",
      " 'intermediate_supervision_layer': 12,\n",
      " 'location_refinement': True,\n",
      " 'locref_huber_loss': True,\n",
      " 'locref_loss_weight': 1.0,\n",
      " 'locref_stdev': 7.2801,\n",
      " 'log_dir': 'log',\n",
      " 'mean_pixel': [123.68, 116.779, 103.939],\n",
      " 'mirror': False,\n",
      " 'net_type': 'resnet_50',\n",
      " 'num_joints': 3,\n",
      " 'optimizer': 'sgd',\n",
      " 'pairwise_huber_loss': True,\n",
      " 'pairwise_predict': False,\n",
      " 'partaffinityfield_predict': False,\n",
      " 'regularize': False,\n",
      " 'scoremap_dir': 'test',\n",
      " 'shuffle': True,\n",
      " 'snapshot_prefix': 'D:\\\\DeepLabCut\\\\11122_2022112702-ZX-2022-12-10\\\\dlc-models\\\\iteration-0\\\\11122_2022112702Dec10-trainset95shuffle1\\\\test\\\\snapshot',\n",
      " 'stride': 8.0,\n",
      " 'weigh_negatives': False,\n",
      " 'weigh_only_present_joints': False,\n",
      " 'weigh_part_predictions': False,\n",
      " 'weight_decay': 0.0001}\n"
     ]
    },
    {
     "name": "stdout",
     "output_type": "stream",
     "text": [
      "Running  DLC_resnet50_11122_2022112702Dec10shuffle1_1030000  with # of trainingiterations: 1030000\n",
      "Initializing ResNet\n"
     ]
    },
    {
     "name": "stderr",
     "output_type": "stream",
     "text": [
      "\r",
      "0it [00:00, ?it/s]"
     ]
    },
    {
     "name": "stdout",
     "output_type": "stream",
     "text": [
      "Analyzing data...\n"
     ]
    },
    {
     "name": "stderr",
     "output_type": "stream",
     "text": [
      "100it [00:03, 25.51it/s]\n"
     ]
    },
    {
     "name": "stdout",
     "output_type": "stream",
     "text": [
      "Done and results stored for snapshot:  snapshot-1030000\n",
      "Results for 1030000  training iterations: 95 1 train error: 1.67 pixels. Test error: 4.31  pixels.\n",
      "With pcutoff of 0.6  train error: 1.67 pixels. Test error: 4.31 pixels\n",
      "Thereby, the errors are given by the average distances between the labels by DLC and the scorer.\n",
      "The network is evaluated and the results are stored in the subdirectory 'evaluation_results'.\n",
      "If it generalizes well, choose the best model for prediction and update the config file with the appropriate index for the 'snapshotindex'.\n",
      "Use the function 'analyze_video' to make predictions on new videos.\n",
      "Otherwise consider retraining the network (see DeepLabCut workflow Fig 2)\n"
     ]
    }
   ],
   "source": [
    "# deeplabcut.evaluate_network(config_path, plotting=True)\n",
    "deeplabcut.evaluate_network(config_path)"
   ]
  },
  {
   "cell_type": "markdown",
   "metadata": {},
   "source": [
    "## Video analysis and plotting results;"
   ]
  },
  {
   "cell_type": "code",
   "execution_count": 7,
   "metadata": {
    "scrolled": true
   },
   "outputs": [
    {
     "name": "stdout",
     "output_type": "stream",
     "text": [
      "D:\\Chase\\11122\\20221127\\2022112702\n"
     ]
    }
   ],
   "source": [
    "folder_name_all = []\n",
    "dir = r'C:\\Users\\MiaoLab-Blackrock\\Documents\\ZXScripts\\dir.txt'\n",
    "f = open(dir)\n",
    "for line in f:\n",
    "    folder_name_all.append(line.replace('\\n',''))\n",
    "    print(line)\n",
    "f.close()"
   ]
  },
  {
   "cell_type": "code",
   "execution_count": 8,
   "metadata": {
    "scrolled": true
   },
   "outputs": [
    {
     "name": "stderr",
     "output_type": "stream",
     "text": [
      "Config:\n",
      "{'all_joints': [[0], [1], [2]],\n",
      " 'all_joints_names': ['R', 'B', 'other'],\n",
      " 'batch_size': 1,\n",
      " 'crop_pad': 0,\n",
      " 'dataset': 'training-datasets\\\\iteration-0\\\\UnaugmentedDataSet_11122_2022112702Dec10\\\\11122_2022112702_ZX95shuffle1.mat',\n",
      " 'dataset_type': 'imgaug',\n",
      " 'deterministic': False,\n",
      " 'fg_fraction': 0.25,\n",
      " 'global_scale': 0.8,\n",
      " 'init_weights': 'C:\\\\Users\\\\MiaoLab-Blackrock\\\\anaconda3\\\\envs\\\\DLC-GPU\\\\lib\\\\site-packages\\\\deeplabcut\\\\pose_estimation_tensorflow\\\\models\\\\pretrained\\\\resnet_v1_50.ckpt',\n",
      " 'intermediate_supervision': False,\n",
      " 'intermediate_supervision_layer': 12,\n",
      " 'location_refinement': True,\n",
      " 'locref_huber_loss': True,\n",
      " 'locref_loss_weight': 1.0,\n",
      " 'locref_stdev': 7.2801,\n",
      " 'log_dir': 'log',\n",
      " 'mean_pixel': [123.68, 116.779, 103.939],\n",
      " 'mirror': False,\n",
      " 'net_type': 'resnet_50',\n",
      " 'num_joints': 3,\n",
      " 'optimizer': 'sgd',\n",
      " 'pairwise_huber_loss': True,\n",
      " 'pairwise_predict': False,\n",
      " 'partaffinityfield_predict': False,\n",
      " 'regularize': False,\n",
      " 'scoremap_dir': 'test',\n",
      " 'shuffle': True,\n",
      " 'snapshot_prefix': 'D:\\\\DeepLabCut\\\\11122_2022112702-ZX-2022-12-10\\\\dlc-models\\\\iteration-0\\\\11122_2022112702Dec10-trainset95shuffle1\\\\test\\\\snapshot',\n",
      " 'stride': 8.0,\n",
      " 'weigh_negatives': False,\n",
      " 'weigh_only_present_joints': False,\n",
      " 'weigh_part_predictions': False,\n",
      " 'weight_decay': 0.0001}\n"
     ]
    },
    {
     "name": "stdout",
     "output_type": "stream",
     "text": [
      "D:\\Chase\\11122\\20221127\\2022112702\\My_WebCam\n",
      "Using snapshot-1030000 for model D:\\DeepLabCut\\11122_2022112702-ZX-2022-12-10\\dlc-models\\iteration-0\\11122_2022112702Dec10-trainset95shuffle1\n",
      "Initializing ResNet\n"
     ]
    },
    {
     "name": "stderr",
     "output_type": "stream",
     "text": [
      "\r",
      "  0%|                                                                                         | 0/1000 [00:00<?, ?it/s]"
     ]
    },
    {
     "name": "stdout",
     "output_type": "stream",
     "text": [
      "Starting to analyze %  D:\\Chase\\11122\\20221127\\2022112702\\My_WebCam\\0.avi\n",
      "D:\\Chase\\11122\\20221127\\2022112702\\My_WebCam  already exists!\n",
      "Loading  D:\\Chase\\11122\\20221127\\2022112702\\My_WebCam\\0.avi\n",
      "Duration of video [s]:  16.67 , recorded with  60.0 fps!\n",
      "Overall # of frames:  1000  found with (before cropping) frame dimensions:  484 474\n",
      "Starting to extract posture\n"
     ]
    },
    {
     "name": "stderr",
     "output_type": "stream",
     "text": [
      "1010it [00:16, 59.69it/s]                                                                                              \n",
      "  0%|                                                                                         | 0/1000 [00:00<?, ?it/s]"
     ]
    },
    {
     "name": "stdout",
     "output_type": "stream",
     "text": [
      "Saving results in D:\\Chase\\11122\\20221127\\2022112702\\My_WebCam...\n",
      "Saving csv poses!\n",
      "Starting to analyze %  D:\\Chase\\11122\\20221127\\2022112702\\My_WebCam\\1.avi\n",
      "D:\\Chase\\11122\\20221127\\2022112702\\My_WebCam  already exists!\n",
      "Loading  D:\\Chase\\11122\\20221127\\2022112702\\My_WebCam\\1.avi\n",
      "Duration of video [s]:  16.67 , recorded with  60.0 fps!\n",
      "Overall # of frames:  1000  found with (before cropping) frame dimensions:  484 474\n",
      "Starting to extract posture\n"
     ]
    },
    {
     "name": "stderr",
     "output_type": "stream",
     "text": [
      "1010it [00:15, 66.12it/s]                                                                                              \n",
      "  0%|                                                                                         | 0/1000 [00:00<?, ?it/s]"
     ]
    },
    {
     "name": "stdout",
     "output_type": "stream",
     "text": [
      "Saving results in D:\\Chase\\11122\\20221127\\2022112702\\My_WebCam...\n",
      "Saving csv poses!\n",
      "Starting to analyze %  D:\\Chase\\11122\\20221127\\2022112702\\My_WebCam\\10.avi\n",
      "D:\\Chase\\11122\\20221127\\2022112702\\My_WebCam  already exists!\n",
      "Loading  D:\\Chase\\11122\\20221127\\2022112702\\My_WebCam\\10.avi\n",
      "Duration of video [s]:  16.67 , recorded with  60.0 fps!\n",
      "Overall # of frames:  1000  found with (before cropping) frame dimensions:  484 474\n",
      "Starting to extract posture\n"
     ]
    },
    {
     "name": "stderr",
     "output_type": "stream",
     "text": [
      "1010it [00:15, 65.84it/s]                                                                                              \n",
      "  0%|                                                                                         | 0/1000 [00:00<?, ?it/s]"
     ]
    },
    {
     "name": "stdout",
     "output_type": "stream",
     "text": [
      "Saving results in D:\\Chase\\11122\\20221127\\2022112702\\My_WebCam...\n",
      "Saving csv poses!\n",
      "Starting to analyze %  D:\\Chase\\11122\\20221127\\2022112702\\My_WebCam\\11.avi\n",
      "D:\\Chase\\11122\\20221127\\2022112702\\My_WebCam  already exists!\n",
      "Loading  D:\\Chase\\11122\\20221127\\2022112702\\My_WebCam\\11.avi\n",
      "Duration of video [s]:  16.67 , recorded with  60.0 fps!\n",
      "Overall # of frames:  1000  found with (before cropping) frame dimensions:  484 474\n",
      "Starting to extract posture\n"
     ]
    },
    {
     "name": "stderr",
     "output_type": "stream",
     "text": [
      "1010it [00:15, 65.82it/s]                                                                                              \n",
      "  0%|                                                                                         | 0/1000 [00:00<?, ?it/s]"
     ]
    },
    {
     "name": "stdout",
     "output_type": "stream",
     "text": [
      "Saving results in D:\\Chase\\11122\\20221127\\2022112702\\My_WebCam...\n",
      "Saving csv poses!\n",
      "Starting to analyze %  D:\\Chase\\11122\\20221127\\2022112702\\My_WebCam\\12.avi\n",
      "D:\\Chase\\11122\\20221127\\2022112702\\My_WebCam  already exists!\n",
      "Loading  D:\\Chase\\11122\\20221127\\2022112702\\My_WebCam\\12.avi\n",
      "Duration of video [s]:  16.67 , recorded with  60.0 fps!\n",
      "Overall # of frames:  1000  found with (before cropping) frame dimensions:  484 474\n",
      "Starting to extract posture\n"
     ]
    },
    {
     "name": "stderr",
     "output_type": "stream",
     "text": [
      "1010it [00:15, 65.73it/s]                                                                                              \n",
      "  0%|                                                                                         | 0/1000 [00:00<?, ?it/s]"
     ]
    },
    {
     "name": "stdout",
     "output_type": "stream",
     "text": [
      "Saving results in D:\\Chase\\11122\\20221127\\2022112702\\My_WebCam...\n",
      "Saving csv poses!\n",
      "Starting to analyze %  D:\\Chase\\11122\\20221127\\2022112702\\My_WebCam\\13.avi\n",
      "D:\\Chase\\11122\\20221127\\2022112702\\My_WebCam  already exists!\n",
      "Loading  D:\\Chase\\11122\\20221127\\2022112702\\My_WebCam\\13.avi\n",
      "Duration of video [s]:  16.67 , recorded with  60.0 fps!\n",
      "Overall # of frames:  1000  found with (before cropping) frame dimensions:  484 474\n",
      "Starting to extract posture\n"
     ]
    },
    {
     "name": "stderr",
     "output_type": "stream",
     "text": [
      "1010it [00:15, 65.28it/s]                                                                                              \n",
      "  0%|                                                                                         | 0/1000 [00:00<?, ?it/s]"
     ]
    },
    {
     "name": "stdout",
     "output_type": "stream",
     "text": [
      "Saving results in D:\\Chase\\11122\\20221127\\2022112702\\My_WebCam...\n",
      "Saving csv poses!\n",
      "Starting to analyze %  D:\\Chase\\11122\\20221127\\2022112702\\My_WebCam\\14.avi\n",
      "D:\\Chase\\11122\\20221127\\2022112702\\My_WebCam  already exists!\n",
      "Loading  D:\\Chase\\11122\\20221127\\2022112702\\My_WebCam\\14.avi\n",
      "Duration of video [s]:  16.67 , recorded with  60.0 fps!\n",
      "Overall # of frames:  1000  found with (before cropping) frame dimensions:  484 474\n",
      "Starting to extract posture\n"
     ]
    },
    {
     "name": "stderr",
     "output_type": "stream",
     "text": [
      "1010it [00:15, 65.43it/s]                                                                                              \n",
      "  0%|                                                                                         | 0/1000 [00:00<?, ?it/s]"
     ]
    },
    {
     "name": "stdout",
     "output_type": "stream",
     "text": [
      "Saving results in D:\\Chase\\11122\\20221127\\2022112702\\My_WebCam...\n",
      "Saving csv poses!\n",
      "Starting to analyze %  D:\\Chase\\11122\\20221127\\2022112702\\My_WebCam\\15.avi\n",
      "D:\\Chase\\11122\\20221127\\2022112702\\My_WebCam  already exists!\n",
      "Loading  D:\\Chase\\11122\\20221127\\2022112702\\My_WebCam\\15.avi\n",
      "Duration of video [s]:  16.67 , recorded with  60.0 fps!\n",
      "Overall # of frames:  1000  found with (before cropping) frame dimensions:  484 474\n",
      "Starting to extract posture\n"
     ]
    },
    {
     "name": "stderr",
     "output_type": "stream",
     "text": [
      "1010it [00:15, 65.42it/s]                                                                                              \n",
      "  0%|                                                                                         | 0/1000 [00:00<?, ?it/s]"
     ]
    },
    {
     "name": "stdout",
     "output_type": "stream",
     "text": [
      "Saving results in D:\\Chase\\11122\\20221127\\2022112702\\My_WebCam...\n",
      "Saving csv poses!\n",
      "Starting to analyze %  D:\\Chase\\11122\\20221127\\2022112702\\My_WebCam\\16.avi\n",
      "D:\\Chase\\11122\\20221127\\2022112702\\My_WebCam  already exists!\n",
      "Loading  D:\\Chase\\11122\\20221127\\2022112702\\My_WebCam\\16.avi\n",
      "Duration of video [s]:  16.67 , recorded with  60.0 fps!\n",
      "Overall # of frames:  1000  found with (before cropping) frame dimensions:  484 474\n",
      "Starting to extract posture\n"
     ]
    },
    {
     "name": "stderr",
     "output_type": "stream",
     "text": [
      "1010it [00:15, 65.50it/s]                                                                                              \n",
      "  0%|                                                                                         | 0/1000 [00:00<?, ?it/s]"
     ]
    },
    {
     "name": "stdout",
     "output_type": "stream",
     "text": [
      "Saving results in D:\\Chase\\11122\\20221127\\2022112702\\My_WebCam...\n",
      "Saving csv poses!\n",
      "Starting to analyze %  D:\\Chase\\11122\\20221127\\2022112702\\My_WebCam\\17.avi\n",
      "D:\\Chase\\11122\\20221127\\2022112702\\My_WebCam  already exists!\n",
      "Loading  D:\\Chase\\11122\\20221127\\2022112702\\My_WebCam\\17.avi\n",
      "Duration of video [s]:  16.67 , recorded with  60.0 fps!\n",
      "Overall # of frames:  1000  found with (before cropping) frame dimensions:  484 474\n",
      "Starting to extract posture\n"
     ]
    },
    {
     "name": "stderr",
     "output_type": "stream",
     "text": [
      "1010it [00:15, 65.41it/s]                                                                                              \n",
      "  0%|                                                                                           | 0/54 [00:00<?, ?it/s]"
     ]
    },
    {
     "name": "stdout",
     "output_type": "stream",
     "text": [
      "Saving results in D:\\Chase\\11122\\20221127\\2022112702\\My_WebCam...\n",
      "Saving csv poses!\n",
      "Starting to analyze %  D:\\Chase\\11122\\20221127\\2022112702\\My_WebCam\\18.avi\n",
      "D:\\Chase\\11122\\20221127\\2022112702\\My_WebCam  already exists!\n",
      "Loading  D:\\Chase\\11122\\20221127\\2022112702\\My_WebCam\\18.avi\n",
      "Duration of video [s]:  0.9 , recorded with  60.0 fps!\n",
      "Overall # of frames:  54  found with (before cropping) frame dimensions:  484 474\n",
      "Starting to extract posture\n"
     ]
    },
    {
     "name": "stderr",
     "output_type": "stream",
     "text": [
      "60it [00:00, 62.29it/s]                                                                                                \n",
      "  0%|                                                                                         | 0/1000 [00:00<?, ?it/s]"
     ]
    },
    {
     "name": "stdout",
     "output_type": "stream",
     "text": [
      "Saving results in D:\\Chase\\11122\\20221127\\2022112702\\My_WebCam...\n",
      "Saving csv poses!\n",
      "Starting to analyze %  D:\\Chase\\11122\\20221127\\2022112702\\My_WebCam\\2.avi\n",
      "D:\\Chase\\11122\\20221127\\2022112702\\My_WebCam  already exists!\n",
      "Loading  D:\\Chase\\11122\\20221127\\2022112702\\My_WebCam\\2.avi\n",
      "Duration of video [s]:  16.67 , recorded with  60.0 fps!\n",
      "Overall # of frames:  1000  found with (before cropping) frame dimensions:  484 474\n",
      "Starting to extract posture\n"
     ]
    },
    {
     "name": "stderr",
     "output_type": "stream",
     "text": [
      "1010it [00:15, 65.11it/s]                                                                                              \n",
      "  0%|                                                                                         | 0/1000 [00:00<?, ?it/s]"
     ]
    },
    {
     "name": "stdout",
     "output_type": "stream",
     "text": [
      "Saving results in D:\\Chase\\11122\\20221127\\2022112702\\My_WebCam...\n",
      "Saving csv poses!\n",
      "Starting to analyze %  D:\\Chase\\11122\\20221127\\2022112702\\My_WebCam\\3.avi\n",
      "D:\\Chase\\11122\\20221127\\2022112702\\My_WebCam  already exists!\n",
      "Loading  D:\\Chase\\11122\\20221127\\2022112702\\My_WebCam\\3.avi\n",
      "Duration of video [s]:  16.67 , recorded with  60.0 fps!\n",
      "Overall # of frames:  1000  found with (before cropping) frame dimensions:  484 474\n",
      "Starting to extract posture\n"
     ]
    },
    {
     "name": "stderr",
     "output_type": "stream",
     "text": [
      "1010it [00:15, 65.46it/s]                                                                                              \n",
      "  0%|                                                                                         | 0/1000 [00:00<?, ?it/s]"
     ]
    },
    {
     "name": "stdout",
     "output_type": "stream",
     "text": [
      "Saving results in D:\\Chase\\11122\\20221127\\2022112702\\My_WebCam...\n",
      "Saving csv poses!\n",
      "Starting to analyze %  D:\\Chase\\11122\\20221127\\2022112702\\My_WebCam\\4.avi\n",
      "D:\\Chase\\11122\\20221127\\2022112702\\My_WebCam  already exists!\n",
      "Loading  D:\\Chase\\11122\\20221127\\2022112702\\My_WebCam\\4.avi\n",
      "Duration of video [s]:  16.67 , recorded with  60.0 fps!\n",
      "Overall # of frames:  1000  found with (before cropping) frame dimensions:  484 474\n",
      "Starting to extract posture\n"
     ]
    },
    {
     "name": "stderr",
     "output_type": "stream",
     "text": [
      "1010it [00:15, 65.79it/s]                                                                                              \n",
      "  0%|                                                                                         | 0/1000 [00:00<?, ?it/s]"
     ]
    },
    {
     "name": "stdout",
     "output_type": "stream",
     "text": [
      "Saving results in D:\\Chase\\11122\\20221127\\2022112702\\My_WebCam...\n",
      "Saving csv poses!\n",
      "Starting to analyze %  D:\\Chase\\11122\\20221127\\2022112702\\My_WebCam\\5.avi\n",
      "D:\\Chase\\11122\\20221127\\2022112702\\My_WebCam  already exists!\n",
      "Loading  D:\\Chase\\11122\\20221127\\2022112702\\My_WebCam\\5.avi\n",
      "Duration of video [s]:  16.67 , recorded with  60.0 fps!\n",
      "Overall # of frames:  1000  found with (before cropping) frame dimensions:  484 474\n",
      "Starting to extract posture\n"
     ]
    },
    {
     "name": "stderr",
     "output_type": "stream",
     "text": [
      "1010it [00:15, 66.22it/s]                                                                                              \n",
      "  0%|                                                                                         | 0/1000 [00:00<?, ?it/s]"
     ]
    },
    {
     "name": "stdout",
     "output_type": "stream",
     "text": [
      "Saving results in D:\\Chase\\11122\\20221127\\2022112702\\My_WebCam...\n",
      "Saving csv poses!\n",
      "Starting to analyze %  D:\\Chase\\11122\\20221127\\2022112702\\My_WebCam\\6.avi\n",
      "D:\\Chase\\11122\\20221127\\2022112702\\My_WebCam  already exists!\n",
      "Loading  D:\\Chase\\11122\\20221127\\2022112702\\My_WebCam\\6.avi\n",
      "Duration of video [s]:  16.67 , recorded with  60.0 fps!\n",
      "Overall # of frames:  1000  found with (before cropping) frame dimensions:  484 474\n",
      "Starting to extract posture\n"
     ]
    },
    {
     "name": "stderr",
     "output_type": "stream",
     "text": [
      "1010it [00:15, 65.83it/s]                                                                                              \n",
      "  0%|                                                                                         | 0/1000 [00:00<?, ?it/s]"
     ]
    },
    {
     "name": "stdout",
     "output_type": "stream",
     "text": [
      "Saving results in D:\\Chase\\11122\\20221127\\2022112702\\My_WebCam...\n",
      "Saving csv poses!\n",
      "Starting to analyze %  D:\\Chase\\11122\\20221127\\2022112702\\My_WebCam\\7.avi\n",
      "D:\\Chase\\11122\\20221127\\2022112702\\My_WebCam  already exists!\n",
      "Loading  D:\\Chase\\11122\\20221127\\2022112702\\My_WebCam\\7.avi\n",
      "Duration of video [s]:  16.67 , recorded with  60.0 fps!\n",
      "Overall # of frames:  1000  found with (before cropping) frame dimensions:  484 474\n",
      "Starting to extract posture\n"
     ]
    },
    {
     "name": "stderr",
     "output_type": "stream",
     "text": [
      "1010it [00:15, 66.26it/s]                                                                                              \n",
      "  0%|                                                                                         | 0/1000 [00:00<?, ?it/s]"
     ]
    },
    {
     "name": "stdout",
     "output_type": "stream",
     "text": [
      "Saving results in D:\\Chase\\11122\\20221127\\2022112702\\My_WebCam...\n",
      "Saving csv poses!\n",
      "Starting to analyze %  D:\\Chase\\11122\\20221127\\2022112702\\My_WebCam\\8.avi\n",
      "D:\\Chase\\11122\\20221127\\2022112702\\My_WebCam  already exists!\n",
      "Loading  D:\\Chase\\11122\\20221127\\2022112702\\My_WebCam\\8.avi\n",
      "Duration of video [s]:  16.67 , recorded with  60.0 fps!\n",
      "Overall # of frames:  1000  found with (before cropping) frame dimensions:  484 474\n",
      "Starting to extract posture\n"
     ]
    },
    {
     "name": "stderr",
     "output_type": "stream",
     "text": [
      "1010it [00:15, 66.21it/s]                                                                                              \n",
      "  0%|                                                                                         | 0/1000 [00:00<?, ?it/s]"
     ]
    },
    {
     "name": "stdout",
     "output_type": "stream",
     "text": [
      "Saving results in D:\\Chase\\11122\\20221127\\2022112702\\My_WebCam...\n",
      "Saving csv poses!\n",
      "Starting to analyze %  D:\\Chase\\11122\\20221127\\2022112702\\My_WebCam\\9.avi\n",
      "D:\\Chase\\11122\\20221127\\2022112702\\My_WebCam  already exists!\n",
      "Loading  D:\\Chase\\11122\\20221127\\2022112702\\My_WebCam\\9.avi\n",
      "Duration of video [s]:  16.67 , recorded with  60.0 fps!\n",
      "Overall # of frames:  1000  found with (before cropping) frame dimensions:  484 474\n",
      "Starting to extract posture\n"
     ]
    },
    {
     "name": "stderr",
     "output_type": "stream",
     "text": [
      "1010it [00:15, 66.15it/s]                                                                                              \n"
     ]
    },
    {
     "name": "stdout",
     "output_type": "stream",
     "text": [
      "Saving results in D:\\Chase\\11122\\20221127\\2022112702\\My_WebCam...\n",
      "Saving csv poses!\n",
      "The videos are analyzed. Now your research can truly start! \n",
      " You can create labeled videos with 'create_labeled_video'\n",
      "If the tracking is not satisfactory for some videos, consider expanding the training set. You can use the function 'extract_outlier_frames' to extract a few representative outlier frames.\n",
      "Filtering with median model D:\\Chase\\11122\\20221127\\2022112702\\My_WebCam\\0.avi\n",
      "Saving filtered csv poses!\n",
      "Filtering with median model D:\\Chase\\11122\\20221127\\2022112702\\My_WebCam\\1.avi\n",
      "Saving filtered csv poses!\n",
      "Filtering with median model D:\\Chase\\11122\\20221127\\2022112702\\My_WebCam\\10.avi\n",
      "Saving filtered csv poses!\n",
      "Filtering with median model D:\\Chase\\11122\\20221127\\2022112702\\My_WebCam\\11.avi\n",
      "Saving filtered csv poses!\n",
      "Filtering with median model D:\\Chase\\11122\\20221127\\2022112702\\My_WebCam\\12.avi\n",
      "Saving filtered csv poses!\n",
      "Filtering with median model D:\\Chase\\11122\\20221127\\2022112702\\My_WebCam\\13.avi\n",
      "Saving filtered csv poses!\n",
      "Filtering with median model D:\\Chase\\11122\\20221127\\2022112702\\My_WebCam\\14.avi\n",
      "Saving filtered csv poses!\n",
      "Filtering with median model D:\\Chase\\11122\\20221127\\2022112702\\My_WebCam\\15.avi\n",
      "Saving filtered csv poses!\n",
      "Filtering with median model D:\\Chase\\11122\\20221127\\2022112702\\My_WebCam\\16.avi\n",
      "Saving filtered csv poses!\n",
      "Filtering with median model D:\\Chase\\11122\\20221127\\2022112702\\My_WebCam\\17.avi\n",
      "Saving filtered csv poses!\n",
      "Filtering with median model D:\\Chase\\11122\\20221127\\2022112702\\My_WebCam\\18.avi\n",
      "Saving filtered csv poses!\n",
      "Filtering with median model D:\\Chase\\11122\\20221127\\2022112702\\My_WebCam\\2.avi\n",
      "Saving filtered csv poses!\n",
      "Filtering with median model D:\\Chase\\11122\\20221127\\2022112702\\My_WebCam\\3.avi\n",
      "Saving filtered csv poses!\n",
      "Filtering with median model D:\\Chase\\11122\\20221127\\2022112702\\My_WebCam\\4.avi\n",
      "Saving filtered csv poses!\n",
      "Filtering with median model D:\\Chase\\11122\\20221127\\2022112702\\My_WebCam\\5.avi\n",
      "Saving filtered csv poses!\n",
      "Filtering with median model D:\\Chase\\11122\\20221127\\2022112702\\My_WebCam\\6.avi\n",
      "Saving filtered csv poses!\n",
      "Filtering with median model D:\\Chase\\11122\\20221127\\2022112702\\My_WebCam\\7.avi\n",
      "Saving filtered csv poses!\n",
      "Filtering with median model D:\\Chase\\11122\\20221127\\2022112702\\My_WebCam\\8.avi\n",
      "Saving filtered csv poses!\n",
      "Filtering with median model D:\\Chase\\11122\\20221127\\2022112702\\My_WebCam\\9.avi\n",
      "Saving filtered csv poses!\n",
      "Loading  D:\\Chase\\11122\\20221127\\2022112702\\My_WebCam\\0.avi and data.\n",
      "D:\\Chase\\11122\\20221127\\2022112702\\My_WebCam\\plot-poses\\0  already exists!\n",
      "Loading  D:\\Chase\\11122\\20221127\\2022112702\\My_WebCam\\1.avi and data.\n",
      "D:\\Chase\\11122\\20221127\\2022112702\\My_WebCam\\plot-poses\\1  already exists!\n",
      "Loading  D:\\Chase\\11122\\20221127\\2022112702\\My_WebCam\\10.avi and data.\n",
      "D:\\Chase\\11122\\20221127\\2022112702\\My_WebCam\\plot-poses\\10  already exists!\n",
      "Loading  D:\\Chase\\11122\\20221127\\2022112702\\My_WebCam\\11.avi and data.\n",
      "D:\\Chase\\11122\\20221127\\2022112702\\My_WebCam\\plot-poses\\11  already exists!\n",
      "Loading  D:\\Chase\\11122\\20221127\\2022112702\\My_WebCam\\12.avi and data.\n",
      "D:\\Chase\\11122\\20221127\\2022112702\\My_WebCam\\plot-poses\\12  already exists!\n",
      "Loading  D:\\Chase\\11122\\20221127\\2022112702\\My_WebCam\\13.avi and data.\n",
      "D:\\Chase\\11122\\20221127\\2022112702\\My_WebCam\\plot-poses\\13  already exists!\n",
      "Loading  D:\\Chase\\11122\\20221127\\2022112702\\My_WebCam\\14.avi and data.\n",
      "D:\\Chase\\11122\\20221127\\2022112702\\My_WebCam\\plot-poses\\14  already exists!\n",
      "Loading  D:\\Chase\\11122\\20221127\\2022112702\\My_WebCam\\15.avi and data.\n",
      "D:\\Chase\\11122\\20221127\\2022112702\\My_WebCam\\plot-poses\\15  already exists!\n",
      "Loading  D:\\Chase\\11122\\20221127\\2022112702\\My_WebCam\\16.avi and data.\n",
      "D:\\Chase\\11122\\20221127\\2022112702\\My_WebCam\\plot-poses\\16  already exists!\n",
      "Loading  D:\\Chase\\11122\\20221127\\2022112702\\My_WebCam\\17.avi and data.\n",
      "D:\\Chase\\11122\\20221127\\2022112702\\My_WebCam\\plot-poses\\17  already exists!\n",
      "Loading  D:\\Chase\\11122\\20221127\\2022112702\\My_WebCam\\18.avi and data.\n",
      "D:\\Chase\\11122\\20221127\\2022112702\\My_WebCam\\plot-poses\\18  already exists!\n",
      "Loading  D:\\Chase\\11122\\20221127\\2022112702\\My_WebCam\\2.avi and data.\n",
      "D:\\Chase\\11122\\20221127\\2022112702\\My_WebCam\\plot-poses\\2  already exists!\n",
      "Loading  D:\\Chase\\11122\\20221127\\2022112702\\My_WebCam\\3.avi and data.\n",
      "D:\\Chase\\11122\\20221127\\2022112702\\My_WebCam\\plot-poses\\3  already exists!\n",
      "Loading  D:\\Chase\\11122\\20221127\\2022112702\\My_WebCam\\4.avi and data.\n",
      "D:\\Chase\\11122\\20221127\\2022112702\\My_WebCam\\plot-poses\\4  already exists!\n",
      "Loading  D:\\Chase\\11122\\20221127\\2022112702\\My_WebCam\\5.avi and data.\n",
      "D:\\Chase\\11122\\20221127\\2022112702\\My_WebCam\\plot-poses\\5  already exists!\n",
      "Loading  D:\\Chase\\11122\\20221127\\2022112702\\My_WebCam\\6.avi and data.\n",
      "D:\\Chase\\11122\\20221127\\2022112702\\My_WebCam\\plot-poses\\6  already exists!\n",
      "Loading  D:\\Chase\\11122\\20221127\\2022112702\\My_WebCam\\7.avi and data.\n",
      "D:\\Chase\\11122\\20221127\\2022112702\\My_WebCam\\plot-poses\\7  already exists!\n",
      "Loading  D:\\Chase\\11122\\20221127\\2022112702\\My_WebCam\\8.avi and data.\n",
      "D:\\Chase\\11122\\20221127\\2022112702\\My_WebCam\\plot-poses\\8  already exists!\n",
      "Loading  D:\\Chase\\11122\\20221127\\2022112702\\My_WebCam\\9.avi and data.\n",
      "D:\\Chase\\11122\\20221127\\2022112702\\My_WebCam\\plot-poses\\9  already exists!\n",
      "Plots created! Please check the directory \"plot-poses\" within the video directory\n"
     ]
    }
   ],
   "source": [
    "slash = '\\\\'\n",
    "for folder_name in folder_name_all:\n",
    "    os.chdir(folder_name)\n",
    "    folder_name = folder_name+slash+'My_WebCam'\n",
    "    print(folder_name)\n",
    "    file_names = os.listdir(folder_name)\n",
    "    behavVideo = []\n",
    "    for file_name in file_names:\n",
    "        if os.path.splitext(file_name)[1] == '.avi': #file_name[0:8] == 'behavCam' and\n",
    "            behavVideo.append(folder_name+slash+file_name)\n",
    "    deeplabcut.analyze_videos(config_path, behavVideo, save_as_csv = True, destfolder = folder_name)\n",
    "    deeplabcut.filterpredictions(config_path, behavVideo, save_as_csv = True, destfolder = folder_name)\n",
    "    deeplabcut.plot_trajectories(config_path, behavVideo, filtered = True)\n",
    "    deeplabcut.create_labeled_video(config_path, behavVideo, filtered = True, destfolder = folder_name, draw_skeleton = True)"
   ]
  },
  {
   "cell_type": "code",
   "execution_count": null,
   "metadata": {},
   "outputs": [],
   "source": [
    "for folder_name in folder_name_all:\n",
    "    deeplabcut.analyze_videos(config_path, folder_name, videotype='avi', auto_track=True, save_as_csv=True)\n",
    "    deeplabcut.filterpredictions(config_path, folder_name, videotype='avi')\n",
    "    # deeplabcut.plot_trajectories(config_path, folder_name, videotype='avi', filtered = True)\n",
    "    deeplabcut.create_labeled_video(config_path, folder_name, videotype='avi', filtered=True, draw_skeleton=True)"
   ]
  },
  {
   "cell_type": "code",
   "execution_count": 7,
   "metadata": {},
   "outputs": [],
   "source": [
    "behavVideo = [r'D:\\DeepLabCut\\Video\\BEHAV\\behav_202103251506326.avi',\n",
    "              r'D:\\DeepLabCut\\Video\\BEHAV\\behav_202103251526326.avi',\n",
    "              r'D:\\DeepLabCut\\Video\\BEHAV\\behav_202103261434144.avi',\n",
    "              r'D:\\DeepLabCut\\Video\\BEHAV\\behav_202103261455544.avi'];\n",
    "folder_name = r'D:\\DeepLabCut\\Video\\BEHAV';"
   ]
  },
  {
   "cell_type": "code",
   "execution_count": 5,
   "metadata": {
    "scrolled": true
   },
   "outputs": [
    {
     "name": "stdout",
     "output_type": "stream",
     "text": [
      "Using snapshot-800000 for model D:\\DeepLabCut\\flexElecTwo2-ZX-2022-11-12\\dlc-models\\iteration-0\\flexElecTwo2Nov12-trainset95shuffle1\n",
      "Initializing ResNet\n",
      "Starting to analyze %  F:\\video\\copy\\0.avi\n",
      "F:\\video\\copy  already exists!\n",
      "Loading  F:\\video\\copy\\0.avi\n"
     ]
    },
    {
     "name": "stderr",
     "output_type": "stream",
     "text": [
      "\r",
      "  0%|                                                                                        | 0/36000 [00:00<?, ?it/s]"
     ]
    },
    {
     "name": "stdout",
     "output_type": "stream",
     "text": [
      "Duration of video [s]:  3600.0 , recorded with  10.0 fps!\n",
      "Overall # of frames:  36000  found with (before cropping) frame dimensions:  1920 1080\n",
      "Starting to extract posture\n"
     ]
    },
    {
     "name": "stderr",
     "output_type": "stream",
     "text": [
      "36360it [1:11:42,  8.45it/s]                                                                                           \n"
     ]
    },
    {
     "name": "stdout",
     "output_type": "stream",
     "text": [
      "Saving results in F:\\video\\copy...\n",
      "Saving csv poses!\n"
     ]
    },
    {
     "name": "stderr",
     "output_type": "stream",
     "text": [
      "\r",
      "  0%|                                                                                        | 0/36000 [00:00<?, ?it/s]"
     ]
    },
    {
     "name": "stdout",
     "output_type": "stream",
     "text": [
      "Starting to analyze %  F:\\video\\copy\\1.avi\n",
      "F:\\video\\copy  already exists!\n",
      "Loading  F:\\video\\copy\\1.avi\n",
      "Duration of video [s]:  3600.0 , recorded with  10.0 fps!\n",
      "Overall # of frames:  36000  found with (before cropping) frame dimensions:  1920 1080\n",
      "Starting to extract posture\n"
     ]
    },
    {
     "name": "stderr",
     "output_type": "stream",
     "text": [
      "36360it [1:12:33,  8.35it/s]                                                                                           \n"
     ]
    },
    {
     "name": "stdout",
     "output_type": "stream",
     "text": [
      "Saving results in F:\\video\\copy...\n",
      "Saving csv poses!\n"
     ]
    },
    {
     "name": "stderr",
     "output_type": "stream",
     "text": [
      "\r",
      "  0%|                                                                                        | 0/36001 [00:00<?, ?it/s]"
     ]
    },
    {
     "name": "stdout",
     "output_type": "stream",
     "text": [
      "Starting to analyze %  F:\\video\\copy\\2.avi\n",
      "F:\\video\\copy  already exists!\n",
      "Loading  F:\\video\\copy\\2.avi\n",
      "Duration of video [s]:  3600.1 , recorded with  10.0 fps!\n",
      "Overall # of frames:  36001  found with (before cropping) frame dimensions:  1920 1080\n",
      "Starting to extract posture\n"
     ]
    },
    {
     "name": "stderr",
     "output_type": "stream",
     "text": [
      "36360it [1:12:23,  8.37it/s]                                                                                           \n"
     ]
    },
    {
     "name": "stdout",
     "output_type": "stream",
     "text": [
      "Saving results in F:\\video\\copy...\n",
      "Saving csv poses!\n"
     ]
    },
    {
     "name": "stderr",
     "output_type": "stream",
     "text": [
      "\r",
      "  0%|                                                                                        | 0/36000 [00:00<?, ?it/s]"
     ]
    },
    {
     "name": "stdout",
     "output_type": "stream",
     "text": [
      "Starting to analyze %  F:\\video\\copy\\3.avi\n",
      "F:\\video\\copy  already exists!\n",
      "Loading  F:\\video\\copy\\3.avi\n",
      "Duration of video [s]:  3600.0 , recorded with  10.0 fps!\n",
      "Overall # of frames:  36000  found with (before cropping) frame dimensions:  1920 1080\n",
      "Starting to extract posture\n"
     ]
    },
    {
     "name": "stderr",
     "output_type": "stream",
     "text": [
      "36360it [1:11:54,  8.43it/s]                                                                                           \n"
     ]
    },
    {
     "name": "stdout",
     "output_type": "stream",
     "text": [
      "Saving results in F:\\video\\copy...\n",
      "Saving csv poses!\n"
     ]
    },
    {
     "name": "stderr",
     "output_type": "stream",
     "text": [
      "\r",
      "  0%|                                                                                        | 0/36001 [00:00<?, ?it/s]"
     ]
    },
    {
     "name": "stdout",
     "output_type": "stream",
     "text": [
      "Starting to analyze %  F:\\video\\copy\\4.avi\n",
      "F:\\video\\copy  already exists!\n",
      "Loading  F:\\video\\copy\\4.avi\n",
      "Duration of video [s]:  3600.1 , recorded with  10.0 fps!\n",
      "Overall # of frames:  36001  found with (before cropping) frame dimensions:  1920 1080\n",
      "Starting to extract posture\n"
     ]
    },
    {
     "name": "stderr",
     "output_type": "stream",
     "text": [
      "36360it [1:10:28,  8.60it/s]                                                                                           \n"
     ]
    },
    {
     "name": "stdout",
     "output_type": "stream",
     "text": [
      "Saving results in F:\\video\\copy...\n",
      "Saving csv poses!\n"
     ]
    },
    {
     "name": "stderr",
     "output_type": "stream",
     "text": [
      "\r",
      "  0%|                                                                                        | 0/36000 [00:00<?, ?it/s]"
     ]
    },
    {
     "name": "stdout",
     "output_type": "stream",
     "text": [
      "Starting to analyze %  F:\\video\\copy\\5.avi\n",
      "F:\\video\\copy  already exists!\n",
      "Loading  F:\\video\\copy\\5.avi\n",
      "Duration of video [s]:  3600.0 , recorded with  10.0 fps!\n",
      "Overall # of frames:  36000  found with (before cropping) frame dimensions:  1920 1080\n",
      "Starting to extract posture\n"
     ]
    },
    {
     "name": "stderr",
     "output_type": "stream",
     "text": [
      "36360it [1:10:19,  8.62it/s]                                                                                           \n"
     ]
    },
    {
     "name": "stdout",
     "output_type": "stream",
     "text": [
      "Saving results in F:\\video\\copy...\n",
      "Saving csv poses!\n"
     ]
    },
    {
     "name": "stderr",
     "output_type": "stream",
     "text": [
      "\r",
      "  0%|                                                                                        | 0/36001 [00:00<?, ?it/s]"
     ]
    },
    {
     "name": "stdout",
     "output_type": "stream",
     "text": [
      "Starting to analyze %  F:\\video\\copy\\6.avi\n",
      "F:\\video\\copy  already exists!\n",
      "Loading  F:\\video\\copy\\6.avi\n",
      "Duration of video [s]:  3600.1 , recorded with  10.0 fps!\n",
      "Overall # of frames:  36001  found with (before cropping) frame dimensions:  1920 1080\n",
      "Starting to extract posture\n"
     ]
    },
    {
     "name": "stderr",
     "output_type": "stream",
     "text": [
      "36360it [1:10:32,  8.59it/s]                                                                                           \n"
     ]
    },
    {
     "name": "stdout",
     "output_type": "stream",
     "text": [
      "Saving results in F:\\video\\copy...\n",
      "Saving csv poses!\n"
     ]
    },
    {
     "name": "stderr",
     "output_type": "stream",
     "text": [
      "\r",
      "  0%|                                                                                        | 0/36000 [00:00<?, ?it/s]"
     ]
    },
    {
     "name": "stdout",
     "output_type": "stream",
     "text": [
      "Starting to analyze %  F:\\video\\copy\\7.avi\n",
      "F:\\video\\copy  already exists!\n",
      "Loading  F:\\video\\copy\\7.avi\n",
      "Duration of video [s]:  3600.0 , recorded with  10.0 fps!\n",
      "Overall # of frames:  36000  found with (before cropping) frame dimensions:  1920 1080\n",
      "Starting to extract posture\n"
     ]
    },
    {
     "name": "stderr",
     "output_type": "stream",
     "text": [
      "36360it [1:10:21,  8.61it/s]                                                                                           \n"
     ]
    },
    {
     "name": "stdout",
     "output_type": "stream",
     "text": [
      "Saving results in F:\\video\\copy...\n",
      "Saving csv poses!\n"
     ]
    },
    {
     "name": "stderr",
     "output_type": "stream",
     "text": [
      "\r",
      "  0%|                                                                                        | 0/36000 [00:00<?, ?it/s]"
     ]
    },
    {
     "name": "stdout",
     "output_type": "stream",
     "text": [
      "Starting to analyze %  F:\\video\\copy\\8.avi\n",
      "F:\\video\\copy  already exists!\n",
      "Loading  F:\\video\\copy\\8.avi\n",
      "Duration of video [s]:  3600.0 , recorded with  10.0 fps!\n",
      "Overall # of frames:  36000  found with (before cropping) frame dimensions:  1920 1080\n",
      "Starting to extract posture\n"
     ]
    },
    {
     "name": "stderr",
     "output_type": "stream",
     "text": [
      "36360it [1:10:18,  8.62it/s]                                                                                           \n"
     ]
    },
    {
     "name": "stdout",
     "output_type": "stream",
     "text": [
      "Saving results in F:\\video\\copy...\n",
      "Saving csv poses!\n"
     ]
    },
    {
     "name": "stderr",
     "output_type": "stream",
     "text": [
      "\r",
      "  0%|                                                                                        | 0/36001 [00:00<?, ?it/s]"
     ]
    },
    {
     "name": "stdout",
     "output_type": "stream",
     "text": [
      "Starting to analyze %  F:\\video\\copy\\9.avi\n",
      "F:\\video\\copy  already exists!\n",
      "Loading  F:\\video\\copy\\9.avi\n",
      "Duration of video [s]:  3600.1 , recorded with  10.0 fps!\n",
      "Overall # of frames:  36001  found with (before cropping) frame dimensions:  1920 1080\n",
      "Starting to extract posture\n"
     ]
    },
    {
     "name": "stderr",
     "output_type": "stream",
     "text": [
      "36360it [1:10:17,  8.62it/s]                                                                                           \n"
     ]
    },
    {
     "name": "stdout",
     "output_type": "stream",
     "text": [
      "Saving results in F:\\video\\copy...\n",
      "Saving csv poses!\n"
     ]
    },
    {
     "name": "stderr",
     "output_type": "stream",
     "text": [
      "\r",
      "  0%|                                                                                        | 0/36001 [00:00<?, ?it/s]"
     ]
    },
    {
     "name": "stdout",
     "output_type": "stream",
     "text": [
      "Starting to analyze %  F:\\video\\copy\\10.avi\n",
      "F:\\video\\copy  already exists!\n",
      "Loading  F:\\video\\copy\\10.avi\n",
      "Duration of video [s]:  3600.1 , recorded with  10.0 fps!\n",
      "Overall # of frames:  36001  found with (before cropping) frame dimensions:  1920 1080\n",
      "Starting to extract posture\n"
     ]
    },
    {
     "name": "stderr",
     "output_type": "stream",
     "text": [
      "36360it [1:10:20,  8.61it/s]                                                                                           \n"
     ]
    },
    {
     "name": "stdout",
     "output_type": "stream",
     "text": [
      "Saving results in F:\\video\\copy...\n",
      "Saving csv poses!\n"
     ]
    },
    {
     "name": "stderr",
     "output_type": "stream",
     "text": [
      "\r",
      "  0%|                                                                                        | 0/35999 [00:00<?, ?it/s]"
     ]
    },
    {
     "name": "stdout",
     "output_type": "stream",
     "text": [
      "Starting to analyze %  F:\\video\\copy\\11.avi\n",
      "F:\\video\\copy  already exists!\n",
      "Loading  F:\\video\\copy\\11.avi\n",
      "Duration of video [s]:  3599.9 , recorded with  10.0 fps!\n",
      "Overall # of frames:  35999  found with (before cropping) frame dimensions:  1920 1080\n",
      "Starting to extract posture\n"
     ]
    },
    {
     "name": "stderr",
     "output_type": "stream",
     "text": [
      "36259it [1:10:14,  8.60it/s]                                                                                           \n"
     ]
    },
    {
     "name": "stdout",
     "output_type": "stream",
     "text": [
      "Saving results in F:\\video\\copy...\n",
      "Saving csv poses!\n"
     ]
    },
    {
     "name": "stderr",
     "output_type": "stream",
     "text": [
      "\r",
      "  0%|                                                                                        | 0/36001 [00:00<?, ?it/s]"
     ]
    },
    {
     "name": "stdout",
     "output_type": "stream",
     "text": [
      "Starting to analyze %  F:\\video\\copy\\12.avi\n",
      "F:\\video\\copy  already exists!\n",
      "Loading  F:\\video\\copy\\12.avi\n",
      "Duration of video [s]:  3600.1 , recorded with  10.0 fps!\n",
      "Overall # of frames:  36001  found with (before cropping) frame dimensions:  1920 1080\n",
      "Starting to extract posture\n"
     ]
    },
    {
     "name": "stderr",
     "output_type": "stream",
     "text": [
      "36360it [1:10:20,  8.62it/s]                                                                                           \n"
     ]
    },
    {
     "name": "stdout",
     "output_type": "stream",
     "text": [
      "Saving results in F:\\video\\copy...\n",
      "Saving csv poses!\n"
     ]
    },
    {
     "name": "stderr",
     "output_type": "stream",
     "text": [
      "\r",
      "  0%|                                                                                        | 0/36001 [00:00<?, ?it/s]"
     ]
    },
    {
     "name": "stdout",
     "output_type": "stream",
     "text": [
      "Starting to analyze %  F:\\video\\copy\\13.avi\n",
      "F:\\video\\copy  already exists!\n",
      "Loading  F:\\video\\copy\\13.avi\n",
      "Duration of video [s]:  3600.1 , recorded with  10.0 fps!\n",
      "Overall # of frames:  36001  found with (before cropping) frame dimensions:  1920 1080\n",
      "Starting to extract posture\n"
     ]
    },
    {
     "name": "stderr",
     "output_type": "stream",
     "text": [
      "36360it [1:10:24,  8.61it/s]                                                                                           \n"
     ]
    },
    {
     "name": "stdout",
     "output_type": "stream",
     "text": [
      "Saving results in F:\\video\\copy...\n",
      "Saving csv poses!\n"
     ]
    },
    {
     "name": "stderr",
     "output_type": "stream",
     "text": [
      "\r",
      "  0%|                                                                                        | 0/36001 [00:00<?, ?it/s]"
     ]
    },
    {
     "name": "stdout",
     "output_type": "stream",
     "text": [
      "Starting to analyze %  F:\\video\\copy\\14.avi\n",
      "F:\\video\\copy  already exists!\n",
      "Loading  F:\\video\\copy\\14.avi\n",
      "Duration of video [s]:  3600.1 , recorded with  10.0 fps!\n",
      "Overall # of frames:  36001  found with (before cropping) frame dimensions:  1920 1080\n",
      "Starting to extract posture\n"
     ]
    },
    {
     "name": "stderr",
     "output_type": "stream",
     "text": [
      "36360it [1:10:14,  8.63it/s]                                                                                           \n"
     ]
    },
    {
     "name": "stdout",
     "output_type": "stream",
     "text": [
      "Saving results in F:\\video\\copy...\n",
      "Saving csv poses!\n"
     ]
    },
    {
     "name": "stderr",
     "output_type": "stream",
     "text": [
      "\r",
      "  0%|                                                                                        | 0/36000 [00:00<?, ?it/s]"
     ]
    },
    {
     "name": "stdout",
     "output_type": "stream",
     "text": [
      "Starting to analyze %  F:\\video\\copy\\15.avi\n",
      "F:\\video\\copy  already exists!\n",
      "Loading  F:\\video\\copy\\15.avi\n",
      "Duration of video [s]:  3600.0 , recorded with  10.0 fps!\n",
      "Overall # of frames:  36000  found with (before cropping) frame dimensions:  1920 1080\n",
      "Starting to extract posture\n"
     ]
    },
    {
     "name": "stderr",
     "output_type": "stream",
     "text": [
      "36360it [1:10:06,  8.64it/s]                                                                                           \n"
     ]
    },
    {
     "name": "stdout",
     "output_type": "stream",
     "text": [
      "Saving results in F:\\video\\copy...\n",
      "Saving csv poses!\n"
     ]
    },
    {
     "name": "stderr",
     "output_type": "stream",
     "text": [
      "\r",
      "  0%|                                                                                        | 0/36000 [00:00<?, ?it/s]"
     ]
    },
    {
     "name": "stdout",
     "output_type": "stream",
     "text": [
      "Starting to analyze %  F:\\video\\copy\\16.avi\n",
      "F:\\video\\copy  already exists!\n",
      "Loading  F:\\video\\copy\\16.avi\n",
      "Duration of video [s]:  3600.0 , recorded with  10.0 fps!\n",
      "Overall # of frames:  36000  found with (before cropping) frame dimensions:  1920 1080\n",
      "Starting to extract posture\n"
     ]
    },
    {
     "name": "stderr",
     "output_type": "stream",
     "text": [
      "36360it [1:10:26,  8.60it/s]                                                                                           \n"
     ]
    },
    {
     "name": "stdout",
     "output_type": "stream",
     "text": [
      "Saving results in F:\\video\\copy...\n",
      "Saving csv poses!\n"
     ]
    },
    {
     "name": "stderr",
     "output_type": "stream",
     "text": [
      "\r",
      "  0%|                                                                                        | 0/16697 [00:00<?, ?it/s]"
     ]
    },
    {
     "name": "stdout",
     "output_type": "stream",
     "text": [
      "Starting to analyze %  F:\\video\\copy\\17.avi\n",
      "F:\\video\\copy  already exists!\n",
      "Loading  F:\\video\\copy\\17.avi\n",
      "Duration of video [s]:  1669.7 , recorded with  10.0 fps!\n",
      "Overall # of frames:  16697  found with (before cropping) frame dimensions:  1920 1080\n",
      "Starting to extract posture\n"
     ]
    },
    {
     "name": "stderr",
     "output_type": "stream",
     "text": [
      "16766it [34:01,  8.21it/s]                                                                                             \n"
     ]
    },
    {
     "name": "stdout",
     "output_type": "stream",
     "text": [
      "Saving results in F:\\video\\copy...\n",
      "Saving csv poses!\n",
      "The videos are analyzed. Now your research can truly start! \n",
      " You can create labeled videos with 'create_labeled_video'\n",
      "If the tracking is not satisfactory for some videos, consider expanding the training set. You can use the function 'extract_outlier_frames' to extract a few representative outlier frames.\n",
      "Filtering with median model F:\\video\\copy\\0.avi\n",
      "Saving filtered csv poses!\n",
      "Filtering with median model F:\\video\\copy\\1.avi\n",
      "Saving filtered csv poses!\n",
      "Filtering with median model F:\\video\\copy\\2.avi\n",
      "Saving filtered csv poses!\n",
      "Filtering with median model F:\\video\\copy\\3.avi\n",
      "Saving filtered csv poses!\n",
      "Filtering with median model F:\\video\\copy\\4.avi\n",
      "Saving filtered csv poses!\n",
      "Filtering with median model F:\\video\\copy\\5.avi\n",
      "Saving filtered csv poses!\n",
      "Filtering with median model F:\\video\\copy\\6.avi\n",
      "Saving filtered csv poses!\n",
      "Filtering with median model F:\\video\\copy\\7.avi\n",
      "Saving filtered csv poses!\n",
      "Filtering with median model F:\\video\\copy\\8.avi\n",
      "Saving filtered csv poses!\n",
      "Filtering with median model F:\\video\\copy\\9.avi\n",
      "Saving filtered csv poses!\n",
      "Filtering with median model F:\\video\\copy\\10.avi\n",
      "Saving filtered csv poses!\n",
      "Filtering with median model F:\\video\\copy\\11.avi\n",
      "Saving filtered csv poses!\n",
      "Filtering with median model F:\\video\\copy\\12.avi\n",
      "Saving filtered csv poses!\n",
      "Filtering with median model F:\\video\\copy\\13.avi\n",
      "Saving filtered csv poses!\n",
      "Filtering with median model F:\\video\\copy\\14.avi\n",
      "Saving filtered csv poses!\n",
      "Filtering with median model F:\\video\\copy\\15.avi\n",
      "Saving filtered csv poses!\n",
      "Filtering with median model F:\\video\\copy\\16.avi\n",
      "Saving filtered csv poses!\n",
      "Filtering with median model F:\\video\\copy\\17.avi\n",
      "Saving filtered csv poses!\n"
     ]
    },
    {
     "ename": "TypeError",
     "evalue": "'NoneType' object is not iterable",
     "output_type": "error",
     "traceback": [
      "\u001b[1;31m---------------------------------------------------------------------------\u001b[0m",
      "\u001b[1;31mRemoteTraceback\u001b[0m                           Traceback (most recent call last)",
      "\u001b[1;31mRemoteTraceback\u001b[0m: \n\"\"\"\nTraceback (most recent call last):\n  File \"C:\\Users\\MiaoLab-Blackrock\\anaconda3\\envs\\DLC-GPU\\lib\\multiprocessing\\pool.py\", line 121, in worker\n    result = (True, func(*args, **kwds))\n  File \"C:\\Users\\MiaoLab-Blackrock\\anaconda3\\envs\\DLC-GPU\\lib\\multiprocessing\\pool.py\", line 44, in mapstar\n    return list(map(*args))\n  File \"C:\\Users\\MiaoLab-Blackrock\\anaconda3\\envs\\DLC-GPU\\lib\\site-packages\\deeplabcut\\utils\\make_labeled_video.py\", line 671, in proc_video\n    color_by,\n  File \"C:\\Users\\MiaoLab-Blackrock\\anaconda3\\envs\\DLC-GPU\\lib\\site-packages\\deeplabcut\\utils\\make_labeled_video.py\", line 83, in CreateVideo\n    bpts2connect = get_segment_indices(bodyparts2connect, all_bpts)\n  File \"C:\\Users\\MiaoLab-Blackrock\\anaconda3\\envs\\DLC-GPU\\lib\\site-packages\\deeplabcut\\utils\\make_labeled_video.py\", line 43, in get_segment_indices\n    for bpt1, bpt2 in bodyparts2connect:\nTypeError: 'NoneType' object is not iterable\n\"\"\"",
      "\nThe above exception was the direct cause of the following exception:\n",
      "\u001b[1;31mTypeError\u001b[0m                                 Traceback (most recent call last)",
      "\u001b[1;32m<ipython-input-5-0e99cc370ddf>\u001b[0m in \u001b[0;36m<module>\u001b[1;34m\u001b[0m\n\u001b[0;32m      1\u001b[0m \u001b[0mdeeplabcut\u001b[0m\u001b[1;33m.\u001b[0m\u001b[0manalyze_videos\u001b[0m\u001b[1;33m(\u001b[0m\u001b[0mconfig_path\u001b[0m\u001b[1;33m,\u001b[0m \u001b[0mbehavVideo\u001b[0m\u001b[1;33m,\u001b[0m \u001b[0msave_as_csv\u001b[0m \u001b[1;33m=\u001b[0m \u001b[1;32mTrue\u001b[0m\u001b[1;33m,\u001b[0m \u001b[0mdestfolder\u001b[0m \u001b[1;33m=\u001b[0m \u001b[0mfolder_name\u001b[0m\u001b[1;33m)\u001b[0m\u001b[1;33m\u001b[0m\u001b[1;33m\u001b[0m\u001b[0m\n\u001b[0;32m      2\u001b[0m \u001b[0mdeeplabcut\u001b[0m\u001b[1;33m.\u001b[0m\u001b[0mfilterpredictions\u001b[0m\u001b[1;33m(\u001b[0m\u001b[0mconfig_path\u001b[0m\u001b[1;33m,\u001b[0m \u001b[0mbehavVideo\u001b[0m\u001b[1;33m,\u001b[0m \u001b[0msave_as_csv\u001b[0m \u001b[1;33m=\u001b[0m \u001b[1;32mTrue\u001b[0m\u001b[1;33m,\u001b[0m \u001b[0mdestfolder\u001b[0m \u001b[1;33m=\u001b[0m \u001b[0mfolder_name\u001b[0m\u001b[1;33m)\u001b[0m\u001b[1;33m\u001b[0m\u001b[1;33m\u001b[0m\u001b[0m\n\u001b[1;32m----> 3\u001b[1;33m \u001b[0mdeeplabcut\u001b[0m\u001b[1;33m.\u001b[0m\u001b[0mcreate_labeled_video\u001b[0m\u001b[1;33m(\u001b[0m\u001b[0mconfig_path\u001b[0m\u001b[1;33m,\u001b[0m \u001b[0mbehavVideo\u001b[0m\u001b[1;33m,\u001b[0m \u001b[0mfiltered\u001b[0m \u001b[1;33m=\u001b[0m \u001b[1;32mTrue\u001b[0m\u001b[1;33m,\u001b[0m \u001b[0mdestfolder\u001b[0m \u001b[1;33m=\u001b[0m \u001b[0mfolder_name\u001b[0m\u001b[1;33m,\u001b[0m \u001b[0mdraw_skeleton\u001b[0m \u001b[1;33m=\u001b[0m \u001b[1;32mTrue\u001b[0m\u001b[1;33m)\u001b[0m\u001b[1;33m\u001b[0m\u001b[1;33m\u001b[0m\u001b[0m\n\u001b[0m\u001b[0;32m      4\u001b[0m \u001b[0mdeeplabcut\u001b[0m\u001b[1;33m.\u001b[0m\u001b[0mplot_trajectories\u001b[0m\u001b[1;33m(\u001b[0m\u001b[0mconfig_path\u001b[0m\u001b[1;33m,\u001b[0m \u001b[0mbehavVideo\u001b[0m\u001b[1;33m,\u001b[0m \u001b[0mfiltered\u001b[0m \u001b[1;33m=\u001b[0m \u001b[1;32mTrue\u001b[0m\u001b[1;33m)\u001b[0m\u001b[1;33m\u001b[0m\u001b[1;33m\u001b[0m\u001b[0m\n",
      "\u001b[1;32m~\\anaconda3\\envs\\DLC-GPU\\lib\\site-packages\\deeplabcut\\utils\\make_labeled_video.py\u001b[0m in \u001b[0;36mcreate_labeled_video\u001b[1;34m(config, videos, videotype, shuffle, trainingsetindex, filtered, fastmode, save_frames, keypoints_only, Frames2plot, displayedbodyparts, displayedindividuals, codec, outputframerate, destfolder, draw_skeleton, trailpoints, displaycropped, color_by, modelprefix, track_method)\u001b[0m\n\u001b[0;32m    509\u001b[0m \u001b[1;33m\u001b[0m\u001b[0m\n\u001b[0;32m    510\u001b[0m     \u001b[1;32mwith\u001b[0m \u001b[0mPool\u001b[0m\u001b[1;33m(\u001b[0m\u001b[0mmin\u001b[0m\u001b[1;33m(\u001b[0m\u001b[0mos\u001b[0m\u001b[1;33m.\u001b[0m\u001b[0mcpu_count\u001b[0m\u001b[1;33m(\u001b[0m\u001b[1;33m)\u001b[0m\u001b[1;33m,\u001b[0m \u001b[0mlen\u001b[0m\u001b[1;33m(\u001b[0m\u001b[0mVideos\u001b[0m\u001b[1;33m)\u001b[0m\u001b[1;33m)\u001b[0m\u001b[1;33m)\u001b[0m \u001b[1;32mas\u001b[0m \u001b[0mpool\u001b[0m\u001b[1;33m:\u001b[0m\u001b[1;33m\u001b[0m\u001b[1;33m\u001b[0m\u001b[0m\n\u001b[1;32m--> 511\u001b[1;33m         \u001b[0mpool\u001b[0m\u001b[1;33m.\u001b[0m\u001b[0mmap\u001b[0m\u001b[1;33m(\u001b[0m\u001b[0mfunc\u001b[0m\u001b[1;33m,\u001b[0m \u001b[0mVideos\u001b[0m\u001b[1;33m)\u001b[0m\u001b[1;33m\u001b[0m\u001b[1;33m\u001b[0m\u001b[0m\n\u001b[0m\u001b[0;32m    512\u001b[0m \u001b[1;33m\u001b[0m\u001b[0m\n\u001b[0;32m    513\u001b[0m     \u001b[0mos\u001b[0m\u001b[1;33m.\u001b[0m\u001b[0mchdir\u001b[0m\u001b[1;33m(\u001b[0m\u001b[0mstart_path\u001b[0m\u001b[1;33m)\u001b[0m\u001b[1;33m\u001b[0m\u001b[1;33m\u001b[0m\u001b[0m\n",
      "\u001b[1;32m~\\anaconda3\\envs\\DLC-GPU\\lib\\multiprocessing\\pool.py\u001b[0m in \u001b[0;36mmap\u001b[1;34m(self, func, iterable, chunksize)\u001b[0m\n\u001b[0;32m    266\u001b[0m         \u001b[1;32min\u001b[0m \u001b[0ma\u001b[0m \u001b[0mlist\u001b[0m \u001b[0mthat\u001b[0m \u001b[1;32mis\u001b[0m \u001b[0mreturned\u001b[0m\u001b[1;33m.\u001b[0m\u001b[1;33m\u001b[0m\u001b[1;33m\u001b[0m\u001b[0m\n\u001b[0;32m    267\u001b[0m         '''\n\u001b[1;32m--> 268\u001b[1;33m         \u001b[1;32mreturn\u001b[0m \u001b[0mself\u001b[0m\u001b[1;33m.\u001b[0m\u001b[0m_map_async\u001b[0m\u001b[1;33m(\u001b[0m\u001b[0mfunc\u001b[0m\u001b[1;33m,\u001b[0m \u001b[0miterable\u001b[0m\u001b[1;33m,\u001b[0m \u001b[0mmapstar\u001b[0m\u001b[1;33m,\u001b[0m \u001b[0mchunksize\u001b[0m\u001b[1;33m)\u001b[0m\u001b[1;33m.\u001b[0m\u001b[0mget\u001b[0m\u001b[1;33m(\u001b[0m\u001b[1;33m)\u001b[0m\u001b[1;33m\u001b[0m\u001b[1;33m\u001b[0m\u001b[0m\n\u001b[0m\u001b[0;32m    269\u001b[0m \u001b[1;33m\u001b[0m\u001b[0m\n\u001b[0;32m    270\u001b[0m     \u001b[1;32mdef\u001b[0m \u001b[0mstarmap\u001b[0m\u001b[1;33m(\u001b[0m\u001b[0mself\u001b[0m\u001b[1;33m,\u001b[0m \u001b[0mfunc\u001b[0m\u001b[1;33m,\u001b[0m \u001b[0miterable\u001b[0m\u001b[1;33m,\u001b[0m \u001b[0mchunksize\u001b[0m\u001b[1;33m=\u001b[0m\u001b[1;32mNone\u001b[0m\u001b[1;33m)\u001b[0m\u001b[1;33m:\u001b[0m\u001b[1;33m\u001b[0m\u001b[1;33m\u001b[0m\u001b[0m\n",
      "\u001b[1;32m~\\anaconda3\\envs\\DLC-GPU\\lib\\multiprocessing\\pool.py\u001b[0m in \u001b[0;36mget\u001b[1;34m(self, timeout)\u001b[0m\n\u001b[0;32m    655\u001b[0m             \u001b[1;32mreturn\u001b[0m \u001b[0mself\u001b[0m\u001b[1;33m.\u001b[0m\u001b[0m_value\u001b[0m\u001b[1;33m\u001b[0m\u001b[1;33m\u001b[0m\u001b[0m\n\u001b[0;32m    656\u001b[0m         \u001b[1;32melse\u001b[0m\u001b[1;33m:\u001b[0m\u001b[1;33m\u001b[0m\u001b[1;33m\u001b[0m\u001b[0m\n\u001b[1;32m--> 657\u001b[1;33m             \u001b[1;32mraise\u001b[0m \u001b[0mself\u001b[0m\u001b[1;33m.\u001b[0m\u001b[0m_value\u001b[0m\u001b[1;33m\u001b[0m\u001b[1;33m\u001b[0m\u001b[0m\n\u001b[0m\u001b[0;32m    658\u001b[0m \u001b[1;33m\u001b[0m\u001b[0m\n\u001b[0;32m    659\u001b[0m     \u001b[1;32mdef\u001b[0m \u001b[0m_set\u001b[0m\u001b[1;33m(\u001b[0m\u001b[0mself\u001b[0m\u001b[1;33m,\u001b[0m \u001b[0mi\u001b[0m\u001b[1;33m,\u001b[0m \u001b[0mobj\u001b[0m\u001b[1;33m)\u001b[0m\u001b[1;33m:\u001b[0m\u001b[1;33m\u001b[0m\u001b[1;33m\u001b[0m\u001b[0m\n",
      "\u001b[1;31mTypeError\u001b[0m: 'NoneType' object is not iterable"
     ]
    }
   ],
   "source": [
    "deeplabcut.analyze_videos(config_path, behavVideo, save_as_csv = True, destfolder = folder_name)\n",
    "deeplabcut.filterpredictions(config_path, behavVideo, save_as_csv = True, destfolder = folder_name)\n",
    "deeplabcut.create_labeled_video(config_path, behavVideo, filtered = True, destfolder = folder_name, draw_skeleton = True)\n",
    "deeplabcut.plot_trajectories(config_path, behavVideo, filtered = True)"
   ]
  },
  {
   "cell_type": "code",
   "execution_count": null,
   "metadata": {},
   "outputs": [],
   "source": [
    "deeplabcut.analyze_videos(config_path, ['Full path of video or video folder'], shuffle=1, save_as_csv = True, videotype='.avi')\n",
    "deeplabcut.analyze_videos(config_path, ['path of video 1 or folder','path of video2',...])\n",
    "deeplabcut.filterpredictions(config_path,['video_path'], videotype='.avi')\n",
    "deeplabcut.plot_trajectories(config_path, ['path of video 1','path of video2',...])\n",
    "deeplabcut.create_labeled_video(config_path, ['path of video 1','path of video2',...])"
   ]
  },
  {
   "cell_type": "markdown",
   "metadata": {},
   "source": [
    "## Refine labels;"
   ]
  },
  {
   "cell_type": "code",
   "execution_count": null,
   "metadata": {},
   "outputs": [],
   "source": [
    "deeplabcut.extract_outlier_frames(config_path,['path of video 1','path of video 2'])"
   ]
  },
  {
   "cell_type": "code",
   "execution_count": null,
   "metadata": {},
   "outputs": [],
   "source": [
    "deeplabcut.refine_labels(config_path)"
   ]
  },
  {
   "cell_type": "markdown",
   "metadata": {},
   "source": [
    "## Combine datasets;"
   ]
  },
  {
   "cell_type": "code",
   "execution_count": null,
   "metadata": {},
   "outputs": [],
   "source": [
    "deeplabcut.merge_datasets(config_path)"
   ]
  },
  {
   "cell_type": "code",
   "execution_count": null,
   "metadata": {},
   "outputs": [],
   "source": [
    "os.system('shutdown -s -f -t 60')"
   ]
  },
  {
   "cell_type": "markdown",
   "metadata": {},
   "source": [
    "## Export models;"
   ]
  },
  {
   "cell_type": "code",
   "execution_count": 3,
   "metadata": {},
   "outputs": [
    {
     "name": "stdout",
     "output_type": "stream",
     "text": [
      "Initializing ResNet\n"
     ]
    }
   ],
   "source": [
    "deeplabcut.export_model(config_path)"
   ]
  }
 ],
 "metadata": {
  "kernelspec": {
   "display_name": "Python [conda env:DLC-GPU]",
   "language": "python",
   "name": "conda-env-DLC-GPU-py"
  },
  "language_info": {
   "codemirror_mode": {
    "name": "ipython",
    "version": 3
   },
   "file_extension": ".py",
   "mimetype": "text/x-python",
   "name": "python",
   "nbconvert_exporter": "python",
   "pygments_lexer": "ipython3",
   "version": "3.7.16"
  }
 },
 "nbformat": 4,
 "nbformat_minor": 2
}
